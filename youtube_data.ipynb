{
 "cells": [
  {
   "cell_type": "code",
   "execution_count": 1,
   "metadata": {
    "collapsed": true
   },
   "outputs": [],
   "source": [
    "import pandas as pd\n",
    "import json\n",
    "from datetime import datetime\n",
    "from pprint import pprint"
   ]
  },
  {
   "cell_type": "code",
   "execution_count": 2,
   "metadata": {},
   "outputs": [
    {
     "ename": "IOError",
     "evalue": "File Trending-YouTube-Data-Viz/youtube-new/CAvideos.csv does not exist",
     "output_type": "error",
     "traceback": [
      "\u001b[0;31m---------------------------------------------------------------------------\u001b[0m",
      "\u001b[0;31mIOError\u001b[0m                                   Traceback (most recent call last)",
      "\u001b[0;32m<ipython-input-2-c2906b76819e>\u001b[0m in \u001b[0;36m<module>\u001b[0;34m()\u001b[0m\n\u001b[0;32m----> 1\u001b[0;31m \u001b[0mca_videos\u001b[0m \u001b[0;34m=\u001b[0m \u001b[0mpd\u001b[0m\u001b[0;34m.\u001b[0m\u001b[0mread_csv\u001b[0m\u001b[0;34m(\u001b[0m\u001b[0;34m\"Trending-YouTube-Data-Viz/youtube-new/CAvideos.csv\"\u001b[0m\u001b[0;34m)\u001b[0m\u001b[0;34m\u001b[0m\u001b[0m\n\u001b[0m\u001b[1;32m      2\u001b[0m \u001b[0mde_videos\u001b[0m \u001b[0;34m=\u001b[0m \u001b[0mpd\u001b[0m\u001b[0;34m.\u001b[0m\u001b[0mread_csv\u001b[0m\u001b[0;34m(\u001b[0m\u001b[0;34m\"Trending-YouTube-Data-Viz/youtube-new/DEvideos.csv\"\u001b[0m\u001b[0;34m)\u001b[0m\u001b[0;34m\u001b[0m\u001b[0m\n\u001b[1;32m      3\u001b[0m \u001b[0mfr_videos\u001b[0m \u001b[0;34m=\u001b[0m \u001b[0mpd\u001b[0m\u001b[0;34m.\u001b[0m\u001b[0mread_csv\u001b[0m\u001b[0;34m(\u001b[0m\u001b[0;34m\"Trending-YouTube-Data-Viz/youtube-new/FRvideos.csv\"\u001b[0m\u001b[0;34m)\u001b[0m\u001b[0;34m\u001b[0m\u001b[0m\n\u001b[1;32m      4\u001b[0m \u001b[0mgb_videos\u001b[0m \u001b[0;34m=\u001b[0m \u001b[0mpd\u001b[0m\u001b[0;34m.\u001b[0m\u001b[0mread_csv\u001b[0m\u001b[0;34m(\u001b[0m\u001b[0;34m\"Trending-YouTube-Data-Viz/youtube-new/GBvideos.csv\"\u001b[0m\u001b[0;34m)\u001b[0m\u001b[0;34m\u001b[0m\u001b[0m\n\u001b[1;32m      5\u001b[0m \u001b[0mus_videos\u001b[0m \u001b[0;34m=\u001b[0m \u001b[0mpd\u001b[0m\u001b[0;34m.\u001b[0m\u001b[0mread_csv\u001b[0m\u001b[0;34m(\u001b[0m\u001b[0;34m\"Trending-YouTube-Data-Viz/youtube-new/USvideos.csv\"\u001b[0m\u001b[0;34m)\u001b[0m\u001b[0;34m\u001b[0m\u001b[0m\n",
      "\u001b[0;32m/Users/jingjuewang/anaconda/lib/python2.7/site-packages/pandas/io/parsers.pyc\u001b[0m in \u001b[0;36mparser_f\u001b[0;34m(filepath_or_buffer, sep, delimiter, header, names, index_col, usecols, squeeze, prefix, mangle_dupe_cols, dtype, engine, converters, true_values, false_values, skipinitialspace, skiprows, nrows, na_values, keep_default_na, na_filter, verbose, skip_blank_lines, parse_dates, infer_datetime_format, keep_date_col, date_parser, dayfirst, iterator, chunksize, compression, thousands, decimal, lineterminator, quotechar, quoting, escapechar, comment, encoding, dialect, tupleize_cols, error_bad_lines, warn_bad_lines, skipfooter, skip_footer, doublequote, delim_whitespace, as_recarray, compact_ints, use_unsigned, low_memory, buffer_lines, memory_map, float_precision)\u001b[0m\n\u001b[1;32m    653\u001b[0m                     skip_blank_lines=skip_blank_lines)\n\u001b[1;32m    654\u001b[0m \u001b[0;34m\u001b[0m\u001b[0m\n\u001b[0;32m--> 655\u001b[0;31m         \u001b[0;32mreturn\u001b[0m \u001b[0m_read\u001b[0m\u001b[0;34m(\u001b[0m\u001b[0mfilepath_or_buffer\u001b[0m\u001b[0;34m,\u001b[0m \u001b[0mkwds\u001b[0m\u001b[0;34m)\u001b[0m\u001b[0;34m\u001b[0m\u001b[0m\n\u001b[0m\u001b[1;32m    656\u001b[0m \u001b[0;34m\u001b[0m\u001b[0m\n\u001b[1;32m    657\u001b[0m     \u001b[0mparser_f\u001b[0m\u001b[0;34m.\u001b[0m\u001b[0m__name__\u001b[0m \u001b[0;34m=\u001b[0m \u001b[0mname\u001b[0m\u001b[0;34m\u001b[0m\u001b[0m\n",
      "\u001b[0;32m/Users/jingjuewang/anaconda/lib/python2.7/site-packages/pandas/io/parsers.pyc\u001b[0m in \u001b[0;36m_read\u001b[0;34m(filepath_or_buffer, kwds)\u001b[0m\n\u001b[1;32m    403\u001b[0m \u001b[0;34m\u001b[0m\u001b[0m\n\u001b[1;32m    404\u001b[0m     \u001b[0;31m# Create the parser.\u001b[0m\u001b[0;34m\u001b[0m\u001b[0;34m\u001b[0m\u001b[0m\n\u001b[0;32m--> 405\u001b[0;31m     \u001b[0mparser\u001b[0m \u001b[0;34m=\u001b[0m \u001b[0mTextFileReader\u001b[0m\u001b[0;34m(\u001b[0m\u001b[0mfilepath_or_buffer\u001b[0m\u001b[0;34m,\u001b[0m \u001b[0;34m**\u001b[0m\u001b[0mkwds\u001b[0m\u001b[0;34m)\u001b[0m\u001b[0;34m\u001b[0m\u001b[0m\n\u001b[0m\u001b[1;32m    406\u001b[0m \u001b[0;34m\u001b[0m\u001b[0m\n\u001b[1;32m    407\u001b[0m     \u001b[0;32mif\u001b[0m \u001b[0mchunksize\u001b[0m \u001b[0;32mor\u001b[0m \u001b[0miterator\u001b[0m\u001b[0;34m:\u001b[0m\u001b[0;34m\u001b[0m\u001b[0m\n",
      "\u001b[0;32m/Users/jingjuewang/anaconda/lib/python2.7/site-packages/pandas/io/parsers.pyc\u001b[0m in \u001b[0;36m__init__\u001b[0;34m(self, f, engine, **kwds)\u001b[0m\n\u001b[1;32m    760\u001b[0m             \u001b[0mself\u001b[0m\u001b[0;34m.\u001b[0m\u001b[0moptions\u001b[0m\u001b[0;34m[\u001b[0m\u001b[0;34m'has_index_names'\u001b[0m\u001b[0;34m]\u001b[0m \u001b[0;34m=\u001b[0m \u001b[0mkwds\u001b[0m\u001b[0;34m[\u001b[0m\u001b[0;34m'has_index_names'\u001b[0m\u001b[0;34m]\u001b[0m\u001b[0;34m\u001b[0m\u001b[0m\n\u001b[1;32m    761\u001b[0m \u001b[0;34m\u001b[0m\u001b[0m\n\u001b[0;32m--> 762\u001b[0;31m         \u001b[0mself\u001b[0m\u001b[0;34m.\u001b[0m\u001b[0m_make_engine\u001b[0m\u001b[0;34m(\u001b[0m\u001b[0mself\u001b[0m\u001b[0;34m.\u001b[0m\u001b[0mengine\u001b[0m\u001b[0;34m)\u001b[0m\u001b[0;34m\u001b[0m\u001b[0m\n\u001b[0m\u001b[1;32m    763\u001b[0m \u001b[0;34m\u001b[0m\u001b[0m\n\u001b[1;32m    764\u001b[0m     \u001b[0;32mdef\u001b[0m \u001b[0mclose\u001b[0m\u001b[0;34m(\u001b[0m\u001b[0mself\u001b[0m\u001b[0;34m)\u001b[0m\u001b[0;34m:\u001b[0m\u001b[0;34m\u001b[0m\u001b[0m\n",
      "\u001b[0;32m/Users/jingjuewang/anaconda/lib/python2.7/site-packages/pandas/io/parsers.pyc\u001b[0m in \u001b[0;36m_make_engine\u001b[0;34m(self, engine)\u001b[0m\n\u001b[1;32m    964\u001b[0m     \u001b[0;32mdef\u001b[0m \u001b[0m_make_engine\u001b[0m\u001b[0;34m(\u001b[0m\u001b[0mself\u001b[0m\u001b[0;34m,\u001b[0m \u001b[0mengine\u001b[0m\u001b[0;34m=\u001b[0m\u001b[0;34m'c'\u001b[0m\u001b[0;34m)\u001b[0m\u001b[0;34m:\u001b[0m\u001b[0;34m\u001b[0m\u001b[0m\n\u001b[1;32m    965\u001b[0m         \u001b[0;32mif\u001b[0m \u001b[0mengine\u001b[0m \u001b[0;34m==\u001b[0m \u001b[0;34m'c'\u001b[0m\u001b[0;34m:\u001b[0m\u001b[0;34m\u001b[0m\u001b[0m\n\u001b[0;32m--> 966\u001b[0;31m             \u001b[0mself\u001b[0m\u001b[0;34m.\u001b[0m\u001b[0m_engine\u001b[0m \u001b[0;34m=\u001b[0m \u001b[0mCParserWrapper\u001b[0m\u001b[0;34m(\u001b[0m\u001b[0mself\u001b[0m\u001b[0;34m.\u001b[0m\u001b[0mf\u001b[0m\u001b[0;34m,\u001b[0m \u001b[0;34m**\u001b[0m\u001b[0mself\u001b[0m\u001b[0;34m.\u001b[0m\u001b[0moptions\u001b[0m\u001b[0;34m)\u001b[0m\u001b[0;34m\u001b[0m\u001b[0m\n\u001b[0m\u001b[1;32m    967\u001b[0m         \u001b[0;32melse\u001b[0m\u001b[0;34m:\u001b[0m\u001b[0;34m\u001b[0m\u001b[0m\n\u001b[1;32m    968\u001b[0m             \u001b[0;32mif\u001b[0m \u001b[0mengine\u001b[0m \u001b[0;34m==\u001b[0m \u001b[0;34m'python'\u001b[0m\u001b[0;34m:\u001b[0m\u001b[0;34m\u001b[0m\u001b[0m\n",
      "\u001b[0;32m/Users/jingjuewang/anaconda/lib/python2.7/site-packages/pandas/io/parsers.pyc\u001b[0m in \u001b[0;36m__init__\u001b[0;34m(self, src, **kwds)\u001b[0m\n\u001b[1;32m   1580\u001b[0m         \u001b[0mkwds\u001b[0m\u001b[0;34m[\u001b[0m\u001b[0;34m'allow_leading_cols'\u001b[0m\u001b[0;34m]\u001b[0m \u001b[0;34m=\u001b[0m \u001b[0mself\u001b[0m\u001b[0;34m.\u001b[0m\u001b[0mindex_col\u001b[0m \u001b[0;32mis\u001b[0m \u001b[0;32mnot\u001b[0m \u001b[0mFalse\u001b[0m\u001b[0;34m\u001b[0m\u001b[0m\n\u001b[1;32m   1581\u001b[0m \u001b[0;34m\u001b[0m\u001b[0m\n\u001b[0;32m-> 1582\u001b[0;31m         \u001b[0mself\u001b[0m\u001b[0;34m.\u001b[0m\u001b[0m_reader\u001b[0m \u001b[0;34m=\u001b[0m \u001b[0mparsers\u001b[0m\u001b[0;34m.\u001b[0m\u001b[0mTextReader\u001b[0m\u001b[0;34m(\u001b[0m\u001b[0msrc\u001b[0m\u001b[0;34m,\u001b[0m \u001b[0;34m**\u001b[0m\u001b[0mkwds\u001b[0m\u001b[0;34m)\u001b[0m\u001b[0;34m\u001b[0m\u001b[0m\n\u001b[0m\u001b[1;32m   1583\u001b[0m \u001b[0;34m\u001b[0m\u001b[0m\n\u001b[1;32m   1584\u001b[0m         \u001b[0;31m# XXX\u001b[0m\u001b[0;34m\u001b[0m\u001b[0;34m\u001b[0m\u001b[0m\n",
      "\u001b[0;32mpandas/_libs/parsers.pyx\u001b[0m in \u001b[0;36mpandas._libs.parsers.TextReader.__cinit__ (pandas/_libs/parsers.c:4209)\u001b[0;34m()\u001b[0m\n",
      "\u001b[0;32mpandas/_libs/parsers.pyx\u001b[0m in \u001b[0;36mpandas._libs.parsers.TextReader._setup_parser_source (pandas/_libs/parsers.c:8873)\u001b[0;34m()\u001b[0m\n",
      "\u001b[0;31mIOError\u001b[0m: File Trending-YouTube-Data-Viz/youtube-new/CAvideos.csv does not exist"
     ]
    }
   ],
   "source": [
    "ca_videos = pd.read_csv(\"Trending-YouTube-Data-Viz/youtube-new/CAvideos.csv\")\n",
    "de_videos = pd.read_csv(\"Trending-YouTube-Data-Viz/youtube-new/DEvideos.csv\")\n",
    "fr_videos = pd.read_csv(\"Trending-YouTube-Data-Viz/youtube-new/FRvideos.csv\")\n",
    "gb_videos = pd.read_csv(\"Trending-YouTube-Data-Viz/youtube-new/GBvideos.csv\")\n",
    "us_videos = pd.read_csv(\"Trending-YouTube-Data-Viz/youtube-new/USvideos.csv\")"
   ]
  },
  {
   "cell_type": "code",
   "execution_count": 3,
   "metadata": {},
   "outputs": [
    {
     "ename": "NameError",
     "evalue": "name 'ca_videos' is not defined",
     "output_type": "error",
     "traceback": [
      "\u001b[0;31m---------------------------------------------------------------------------\u001b[0m",
      "\u001b[0;31mNameError\u001b[0m                                 Traceback (most recent call last)",
      "\u001b[0;32m<ipython-input-3-686b595dcf22>\u001b[0m in \u001b[0;36m<module>\u001b[0;34m()\u001b[0m\n\u001b[0;32m----> 1\u001b[0;31m \u001b[0mca_videos\u001b[0m\u001b[0;34m.\u001b[0m\u001b[0mcolumns\u001b[0m\u001b[0;34m\u001b[0m\u001b[0m\n\u001b[0m",
      "\u001b[0;31mNameError\u001b[0m: name 'ca_videos' is not defined"
     ]
    }
   ],
   "source": [
    "ca_videos.columns"
   ]
  },
  {
   "cell_type": "code",
   "execution_count": 4,
   "metadata": {},
   "outputs": [
    {
     "data": {
      "text/plain": [
       "145"
      ]
     },
     "execution_count": 4,
     "metadata": {},
     "output_type": "execute_result"
    }
   ],
   "source": [
    "len(ca_videos.trending_date.unique()) # YY-DD-MM"
   ]
  },
  {
   "cell_type": "code",
   "execution_count": 5,
   "metadata": {},
   "outputs": [
    {
     "data": {
      "text/plain": [
       "(28919, 16)"
      ]
     },
     "execution_count": 5,
     "metadata": {},
     "output_type": "execute_result"
    }
   ],
   "source": [
    "ca_videos.shape"
   ]
  },
  {
   "cell_type": "code",
   "execution_count": 6,
   "metadata": {
    "collapsed": true
   },
   "outputs": [],
   "source": [
    "def category_dict(file):\n",
    "    category_dict = {}\n",
    "    with open(file) as json_data:\n",
    "        d = json.load(json_data)\n",
    "        for item in d[\"items\"]:\n",
    "            category_dict[int(item[\"id\"])] = item[\"snippet\"][\"title\"]\n",
    "    category_dict[29] = \"Nonprofits & Activism\"\n",
    "    return category_dict"
   ]
  },
  {
   "cell_type": "code",
   "execution_count": 7,
   "metadata": {
    "collapsed": true
   },
   "outputs": [],
   "source": [
    "us_category = category_dict(\"Trending-YouTube-Data-Viz/youtube-new/US_category_id.json\")"
   ]
  },
  {
   "cell_type": "code",
   "execution_count": 8,
   "metadata": {
    "collapsed": true
   },
   "outputs": [],
   "source": [
    "de_category = category_dict(\"Trending-YouTube-Data-Viz/youtube-new/DE_category_id.json\")"
   ]
  },
  {
   "cell_type": "code",
   "execution_count": 9,
   "metadata": {
    "collapsed": true
   },
   "outputs": [],
   "source": [
    "ca_category = category_dict(\"Trending-YouTube-Data-Viz/youtube-new/CA_category_id.json\")"
   ]
  },
  {
   "cell_type": "code",
   "execution_count": 10,
   "metadata": {
    "collapsed": true
   },
   "outputs": [],
   "source": [
    "gb_category = category_dict(\"Trending-YouTube-Data-Viz/youtube-new/GB_category_id.json\")"
   ]
  },
  {
   "cell_type": "code",
   "execution_count": 11,
   "metadata": {
    "collapsed": true
   },
   "outputs": [],
   "source": [
    "fr_category = category_dict(\"Trending-YouTube-Data-Viz/youtube-new/FR_category_id.json\")"
   ]
  },
  {
   "cell_type": "code",
   "execution_count": 12,
   "metadata": {
    "collapsed": true
   },
   "outputs": [],
   "source": [
    "ca_videos[\"category\"] = ca_videos[\"category_id\"].map(ca_category)"
   ]
  },
  {
   "cell_type": "code",
   "execution_count": 13,
   "metadata": {
    "collapsed": true
   },
   "outputs": [],
   "source": [
    "us_videos[\"category\"] = us_videos[\"category_id\"].map(us_category)"
   ]
  },
  {
   "cell_type": "code",
   "execution_count": 14,
   "metadata": {
    "collapsed": true
   },
   "outputs": [],
   "source": [
    "de_videos[\"category\"] = de_videos[\"category_id\"].map(de_category)"
   ]
  },
  {
   "cell_type": "code",
   "execution_count": 15,
   "metadata": {
    "collapsed": true
   },
   "outputs": [],
   "source": [
    "gb_videos[\"category\"] = gb_videos[\"category_id\"].map(gb_category)\n",
    "fr_videos[\"category\"] = fr_videos[\"category_id\"].map(fr_category)"
   ]
  },
  {
   "cell_type": "code",
   "execution_count": 16,
   "metadata": {
    "collapsed": true
   },
   "outputs": [],
   "source": [
    "gb_videos[\"trending_date\"] = gb_videos.trending_date.apply(lambda x: datetime.strptime(x, \"%y.%d.%m\"))"
   ]
  },
  {
   "cell_type": "code",
   "execution_count": 17,
   "metadata": {
    "collapsed": true
   },
   "outputs": [],
   "source": [
    "fr_videos = fr_videos.drop([18054, 18055], axis=0)"
   ]
  },
  {
   "cell_type": "code",
   "execution_count": 18,
   "metadata": {
    "collapsed": true
   },
   "outputs": [],
   "source": [
    "us_videos[\"trending_date\"] = us_videos.trending_date.apply(lambda x: datetime.strptime(x, \"%y.%d.%m\"))\n",
    "ca_videos[\"trending_date\"] = ca_videos.trending_date.apply(lambda x: datetime.strptime(x, \"%y.%d.%m\"))"
   ]
  },
  {
   "cell_type": "code",
   "execution_count": 19,
   "metadata": {
    "collapsed": true
   },
   "outputs": [],
   "source": [
    "fr_videos[\"trending_date\"] = fr_videos.trending_date.apply(lambda x: datetime.strptime(x, \"%y.%d.%m\"))\n",
    "de_videos[\"trending_date\"] = de_videos.trending_date.apply(lambda x: datetime.strptime(x, \"%y.%d.%m\"))"
   ]
  },
  {
   "cell_type": "code",
   "execution_count": 20,
   "metadata": {
    "collapsed": true
   },
   "outputs": [],
   "source": [
    "gb_videos[\"trending_month\"] = gb_videos.trending_date.apply(lambda x: datetime.strftime(x, \"%y-%m\"))"
   ]
  },
  {
   "cell_type": "code",
   "execution_count": 21,
   "metadata": {
    "collapsed": true
   },
   "outputs": [],
   "source": [
    "us_videos[\"trending_month\"] = us_videos.trending_date.apply(lambda x: datetime.strftime(x, \"%y-%m\"))"
   ]
  },
  {
   "cell_type": "code",
   "execution_count": 22,
   "metadata": {
    "collapsed": true
   },
   "outputs": [],
   "source": [
    "ca_videos[\"trending_month\"] = ca_videos.trending_date.apply(lambda x: datetime.strftime(x, \"%y-%m\"))"
   ]
  },
  {
   "cell_type": "code",
   "execution_count": 23,
   "metadata": {
    "collapsed": true
   },
   "outputs": [],
   "source": [
    "fr_videos[\"trending_month\"] = fr_videos.trending_date.apply(lambda x: datetime.strftime(x, \"%y-%m\"))"
   ]
  },
  {
   "cell_type": "code",
   "execution_count": 24,
   "metadata": {
    "collapsed": true
   },
   "outputs": [],
   "source": [
    "de_videos[\"trending_month\"] = de_videos.trending_date.apply(lambda x: datetime.strftime(x, \"%y-%m\"))"
   ]
  },
  {
   "cell_type": "markdown",
   "metadata": {},
   "source": [
    "### IF WE REMOVE ALL THE VIDEOS WITH 0 LIKES AND 0 COMMENTS"
   ]
  },
  {
   "cell_type": "code",
   "execution_count": 89,
   "metadata": {
    "collapsed": true
   },
   "outputs": [],
   "source": [
    "us_videos = us_videos[(us_videos.comment_count != 0) & (us_videos.likes != 0)]"
   ]
  },
  {
   "cell_type": "markdown",
   "metadata": {},
   "source": [
    "#### dataframe for category counts"
   ]
  },
  {
   "cell_type": "code",
   "execution_count": 25,
   "metadata": {
    "collapsed": true
   },
   "outputs": [],
   "source": [
    "# def count_cat(df):\n",
    "#     cat_count_df = df \\\n",
    "#         .groupby([\"trending_month\", \"category\"])[\"category_id\"].count().reset_index(name=\"count\")\n",
    "#     return cat_count_df\n",
    "def count_cat(df):\n",
    "    cat_count_df = df \\\n",
    "        .groupby([\"trending_month\", \"category\"])\\\n",
    "        .agg({\"category_id\": \"count\", \"comment_count\": \"sum\", \"likes\": \"sum\"})[[\"category_id\", \"comment_count\", \"likes\"]]\\\n",
    "        .reset_index()\n",
    "    cat_count_df.columns = [\"trending_month\", \"category\", \"cat_cnt\", \"sum_comment_cnt\", \"sum_likes_cnt\"]\n",
    "    return cat_count_df"
   ]
  },
  {
   "cell_type": "code",
   "execution_count": 91,
   "metadata": {
    "collapsed": true
   },
   "outputs": [],
   "source": [
    "gb_mntly = count_cat(gb_videos)\n",
    "gb_mntly[\"country\"] = \"Great Britain\""
   ]
  },
  {
   "cell_type": "markdown",
   "metadata": {},
   "source": [
    "## --------------------- ##"
   ]
  },
  {
   "cell_type": "code",
   "execution_count": 26,
   "metadata": {
    "collapsed": true
   },
   "outputs": [],
   "source": [
    "us_mntly = count_cat(us_videos)\n",
    "us_mntly[\"country\"] = \"United States\""
   ]
  },
  {
   "cell_type": "markdown",
   "metadata": {},
   "source": [
    "## --------------------- ##"
   ]
  },
  {
   "cell_type": "code",
   "execution_count": 27,
   "metadata": {
    "collapsed": true
   },
   "outputs": [],
   "source": [
    "ca_mntly = count_cat(ca_videos)\n",
    "ca_mntly[\"country\"] = \"Canada\""
   ]
  },
  {
   "cell_type": "code",
   "execution_count": 28,
   "metadata": {
    "collapsed": true
   },
   "outputs": [],
   "source": [
    "de_mntly = count_cat(de_videos)\n",
    "de_mntly[\"country\"] = \"Germany\""
   ]
  },
  {
   "cell_type": "code",
   "execution_count": 95,
   "metadata": {
    "collapsed": true
   },
   "outputs": [],
   "source": [
    "fr_videos[\"likes\"] = fr_videos[\"likes\"].apply(int)"
   ]
  },
  {
   "cell_type": "code",
   "execution_count": 96,
   "metadata": {
    "collapsed": true
   },
   "outputs": [],
   "source": [
    "fr_mntly = count_cat(fr_videos)\n",
    "fr_mntly[\"country\"] = \"France\""
   ]
  },
  {
   "cell_type": "code",
   "execution_count": 97,
   "metadata": {
    "collapsed": true
   },
   "outputs": [],
   "source": [
    "gb_videos.to_csv(\"Trending-YouTube-Data-Viz/gb_videos.csv\", index=False)"
   ]
  },
  {
   "cell_type": "code",
   "execution_count": 98,
   "metadata": {
    "collapsed": true
   },
   "outputs": [],
   "source": [
    "fr_videos.to_csv(\"Trending-YouTube-Data-Viz/fr_videos.csv\", index=False)"
   ]
  },
  {
   "cell_type": "code",
   "execution_count": 99,
   "metadata": {
    "collapsed": true
   },
   "outputs": [],
   "source": [
    "ca_videos.to_csv(\"Trending-YouTube-Data-Viz/ca_videos.csv\", index=False)"
   ]
  },
  {
   "cell_type": "code",
   "execution_count": 100,
   "metadata": {
    "collapsed": true
   },
   "outputs": [],
   "source": [
    "us_videos.to_csv(\"Trending-YouTube-Data-Viz/us_videos.csv\", index=False)"
   ]
  },
  {
   "cell_type": "code",
   "execution_count": 101,
   "metadata": {
    "collapsed": true
   },
   "outputs": [],
   "source": [
    "de_videos.to_csv(\"Trending-YouTube-Data-Viz/de_videos.csv\", index=False)"
   ]
  },
  {
   "cell_type": "markdown",
   "metadata": {},
   "source": [
    "## ---------------------------------"
   ]
  },
  {
   "cell_type": "code",
   "execution_count": 27,
   "metadata": {
    "collapsed": true
   },
   "outputs": [],
   "source": [
    "us_mntly = us_mntly.drop([9], axis=0)"
   ]
  },
  {
   "cell_type": "code",
   "execution_count": 55,
   "metadata": {
    "collapsed": true
   },
   "outputs": [],
   "source": []
  },
  {
   "cell_type": "code",
   "execution_count": 56,
   "metadata": {
    "collapsed": true
   },
   "outputs": [],
   "source": [
    "us_mntly[\"sum_likes_cnt\"] = round(us_mntly[\"sum_likes_cnt\"] / 1000, 3)"
   ]
  },
  {
   "cell_type": "code",
   "execution_count": 28,
   "metadata": {
    "collapsed": true
   },
   "outputs": [],
   "source": [
    "us_mntly.to_csv(\"Trending-YouTube-Data-Viz/us_mntly.csv\", index=False)"
   ]
  },
  {
   "cell_type": "code",
   "execution_count": 4,
   "metadata": {},
   "outputs": [
    {
     "data": {
      "text/plain": [
       "count    9.000000e+01\n",
       "mean     1.991316e+06\n",
       "std      3.112370e+06\n",
       "min      1.507000e+03\n",
       "25%      2.149242e+05\n",
       "50%      8.766205e+05\n",
       "75%      2.383412e+06\n",
       "max      1.588929e+07\n",
       "Name: sum_comment_cnt, dtype: float64"
      ]
     },
     "execution_count": 4,
     "metadata": {},
     "output_type": "execute_result"
    }
   ],
   "source": [
    "us_mntly.sum_comment_cnt.describe()"
   ]
  },
  {
   "cell_type": "code",
   "execution_count": 5,
   "metadata": {},
   "outputs": [
    {
     "data": {
      "text/plain": [
       "count    9.000000e+01\n",
       "mean     1.624352e+07\n",
       "std      2.747232e+07\n",
       "min      8.382000e+03\n",
       "25%      1.397635e+06\n",
       "50%      6.433709e+06\n",
       "75%      1.572878e+07\n",
       "max      1.622845e+08\n",
       "Name: sum_likes_cnt, dtype: float64"
      ]
     },
     "execution_count": 5,
     "metadata": {},
     "output_type": "execute_result"
    }
   ],
   "source": [
    "us_mntly.sum_likes_cnt.describe()"
   ]
  },
  {
   "cell_type": "markdown",
   "metadata": {
    "collapsed": true
   },
   "source": [
    "### combine more data"
   ]
  },
  {
   "cell_type": "code",
   "execution_count": 35,
   "metadata": {},
   "outputs": [
    {
     "ename": "NameError",
     "evalue": "name 'gb_mntly' is not defined",
     "output_type": "error",
     "traceback": [
      "\u001b[0;31m---------------------------------------------------------------------------\u001b[0m",
      "\u001b[0;31mNameError\u001b[0m                                 Traceback (most recent call last)",
      "\u001b[0;32m<ipython-input-35-537a31d0b1a9>\u001b[0m in \u001b[0;36m<module>\u001b[0;34m()\u001b[0m\n\u001b[0;32m----> 1\u001b[0;31m \u001b[0mall_mntly\u001b[0m \u001b[0;34m=\u001b[0m \u001b[0mgb_mntly\u001b[0m\u001b[0;34m.\u001b[0m\u001b[0mappend\u001b[0m\u001b[0;34m(\u001b[0m\u001b[0mfr_mntly\u001b[0m\u001b[0;34m)\u001b[0m\u001b[0;34m.\u001b[0m\u001b[0mappend\u001b[0m\u001b[0;34m(\u001b[0m\u001b[0mca_mntly\u001b[0m\u001b[0;34m)\u001b[0m\u001b[0;34m.\u001b[0m\u001b[0mappend\u001b[0m\u001b[0;34m(\u001b[0m\u001b[0mus_mntly\u001b[0m\u001b[0;34m)\u001b[0m\u001b[0;34m.\u001b[0m\u001b[0mappend\u001b[0m\u001b[0;34m(\u001b[0m\u001b[0mde_mntly\u001b[0m\u001b[0;34m)\u001b[0m\u001b[0;34m\u001b[0m\u001b[0m\n\u001b[0m",
      "\u001b[0;31mNameError\u001b[0m: name 'gb_mntly' is not defined"
     ]
    }
   ],
   "source": [
    "all_mntly = gb_mntly.append(fr_mntly).append(ca_mntly).append(us_mntly).append(de_mntly)"
   ]
  },
  {
   "cell_type": "code",
   "execution_count": 54,
   "metadata": {
    "collapsed": true
   },
   "outputs": [],
   "source": [
    "all_mntly.to_csv(\"Trending-YouTube-Data-Viz/all_mntly.csv\", index=False)"
   ]
  },
  {
   "cell_type": "markdown",
   "metadata": {},
   "source": [
    "### Plotly (us_mntly)"
   ]
  },
  {
   "cell_type": "code",
   "execution_count": 1,
   "metadata": {},
   "outputs": [
    {
     "data": {
      "text/html": [
       "<script>requirejs.config({paths: { 'plotly': ['https://cdn.plot.ly/plotly-latest.min']},});if(!window.Plotly) {{require(['plotly'],function(plotly) {window.Plotly=plotly;});}}</script>"
      ],
      "text/vnd.plotly.v1+html": [
       "<script>requirejs.config({paths: { 'plotly': ['https://cdn.plot.ly/plotly-latest.min']},});if(!window.Plotly) {{require(['plotly'],function(plotly) {window.Plotly=plotly;});}}</script>"
      ]
     },
     "metadata": {},
     "output_type": "display_data"
    }
   ],
   "source": [
    "from plotly.offline import init_notebook_mode, iplot\n",
    "\n",
    "import plotly\n",
    "import plotly.plotly as py\n",
    "from plotly.grid_objs import Grid, Column\n",
    "from plotly.tools import FigureFactory as FF\n",
    "\n",
    "init_notebook_mode(connected=True) "
   ]
  },
  {
   "cell_type": "code",
   "execution_count": 2,
   "metadata": {
    "collapsed": true
   },
   "outputs": [],
   "source": [
    "import time\n",
    "import pandas as pd"
   ]
  },
  {
   "cell_type": "code",
   "execution_count": 40,
   "metadata": {
    "collapsed": true
   },
   "outputs": [],
   "source": [
    "us_mntly = pd.read_csv(\"Trending-YouTube-Data-Viz/us_mntly.csv\")"
   ]
  },
  {
   "cell_type": "code",
   "execution_count": 4,
   "metadata": {
    "collapsed": true
   },
   "outputs": [],
   "source": [
    "# us_mntly[\"sum_comment_cnt\"] = round((us_mntly[\"sum_comment_cnt\"] / 1000), 3)"
   ]
  },
  {
   "cell_type": "code",
   "execution_count": 5,
   "metadata": {
    "collapsed": true
   },
   "outputs": [],
   "source": [
    "# us_mntly[\"sum_likes_cnt\"] = round(us_mntly[\"sum_likes_cnt\"] / 1000, 3)"
   ]
  },
  {
   "cell_type": "code",
   "execution_count": 6,
   "metadata": {},
   "outputs": [
    {
     "data": {
      "text/plain": [
       "count    9.000000e+01\n",
       "mean     1.991316e+06\n",
       "std      3.112370e+06\n",
       "min      1.507000e+03\n",
       "25%      2.149242e+05\n",
       "50%      8.766205e+05\n",
       "75%      2.383412e+06\n",
       "max      1.588929e+07\n",
       "Name: sum_comment_cnt, dtype: float64"
      ]
     },
     "execution_count": 6,
     "metadata": {},
     "output_type": "execute_result"
    }
   ],
   "source": [
    "us_mntly.sum_comment_cnt.describe()"
   ]
  },
  {
   "cell_type": "code",
   "execution_count": 7,
   "metadata": {},
   "outputs": [
    {
     "data": {
      "text/plain": [
       "count    9.000000e+01\n",
       "mean     1.624352e+07\n",
       "std      2.747232e+07\n",
       "min      8.382000e+03\n",
       "25%      1.397635e+06\n",
       "50%      6.433709e+06\n",
       "75%      1.572878e+07\n",
       "max      1.622845e+08\n",
       "Name: sum_likes_cnt, dtype: float64"
      ]
     },
     "execution_count": 7,
     "metadata": {},
     "output_type": "execute_result"
    }
   ],
   "source": [
    "us_mntly.sum_likes_cnt.describe()"
   ]
  },
  {
   "cell_type": "code",
   "execution_count": 8,
   "metadata": {
    "collapsed": true
   },
   "outputs": [],
   "source": [
    "plotly.tools.set_credentials_file(username='jingjuewang', api_key='Jlw5mC8COv1lXpqTUyMP')"
   ]
  },
  {
   "cell_type": "code",
   "execution_count": 9,
   "metadata": {},
   "outputs": [
    {
     "name": "stderr",
     "output_type": "stream",
     "text": [
      "/Users/jingjuewang/anaconda/envs/fastai/lib/python3.6/site-packages/plotly/tools.py:1491: UserWarning:\n",
      "\n",
      "plotly.tools.FigureFactory.create_table is deprecated. Use plotly.figure_factory.create_table\n",
      "\n"
     ]
    }
   ],
   "source": [
    "table = FF.create_table(us_mntly.head(10))"
   ]
  },
  {
   "cell_type": "code",
   "execution_count": 10,
   "metadata": {},
   "outputs": [
    {
     "data": {
      "application/vnd.plotly.v1+json": {
       "data": [
        {
         "colorscale": [
          [
           0,
           "#00083e"
          ],
          [
           0.5,
           "#ededee"
          ],
          [
           1,
           "#ffffff"
          ]
         ],
         "hoverinfo": "none",
         "opacity": 0.75,
         "showscale": false,
         "type": "heatmap",
         "z": [
          [
           0,
           0,
           0,
           0,
           0,
           0
          ],
          [
           0.5,
           0.5,
           0.5,
           0.5,
           0.5,
           0.5
          ],
          [
           1,
           1,
           1,
           1,
           1,
           1
          ],
          [
           0.5,
           0.5,
           0.5,
           0.5,
           0.5,
           0.5
          ],
          [
           1,
           1,
           1,
           1,
           1,
           1
          ],
          [
           0.5,
           0.5,
           0.5,
           0.5,
           0.5,
           0.5
          ],
          [
           1,
           1,
           1,
           1,
           1,
           1
          ],
          [
           0.5,
           0.5,
           0.5,
           0.5,
           0.5,
           0.5
          ],
          [
           1,
           1,
           1,
           1,
           1,
           1
          ],
          [
           0.5,
           0.5,
           0.5,
           0.5,
           0.5,
           0.5
          ],
          [
           1,
           1,
           1,
           1,
           1,
           1
          ]
         ]
        }
       ],
       "layout": {
        "annotations": [
         {
          "align": "left",
          "font": {
           "color": "#ffffff"
          },
          "showarrow": false,
          "text": "<b>trending_month</b>",
          "x": -0.45,
          "xanchor": "left",
          "xref": "x1",
          "y": 0,
          "yref": "y1"
         },
         {
          "align": "left",
          "font": {
           "color": "#ffffff"
          },
          "showarrow": false,
          "text": "<b>category</b>",
          "x": 0.55,
          "xanchor": "left",
          "xref": "x1",
          "y": 0,
          "yref": "y1"
         },
         {
          "align": "left",
          "font": {
           "color": "#ffffff"
          },
          "showarrow": false,
          "text": "<b>cat_cnt</b>",
          "x": 1.55,
          "xanchor": "left",
          "xref": "x1",
          "y": 0,
          "yref": "y1"
         },
         {
          "align": "left",
          "font": {
           "color": "#ffffff"
          },
          "showarrow": false,
          "text": "<b>sum_comment_cnt</b>",
          "x": 2.55,
          "xanchor": "left",
          "xref": "x1",
          "y": 0,
          "yref": "y1"
         },
         {
          "align": "left",
          "font": {
           "color": "#ffffff"
          },
          "showarrow": false,
          "text": "<b>sum_likes_cnt</b>",
          "x": 3.55,
          "xanchor": "left",
          "xref": "x1",
          "y": 0,
          "yref": "y1"
         },
         {
          "align": "left",
          "font": {
           "color": "#ffffff"
          },
          "showarrow": false,
          "text": "<b>country</b>",
          "x": 4.55,
          "xanchor": "left",
          "xref": "x1",
          "y": 0,
          "yref": "y1"
         },
         {
          "align": "left",
          "font": {
           "color": "#000000"
          },
          "showarrow": false,
          "text": "17-11",
          "x": -0.45,
          "xanchor": "left",
          "xref": "x1",
          "y": 1,
          "yref": "y1"
         },
         {
          "align": "left",
          "font": {
           "color": "#000000"
          },
          "showarrow": false,
          "text": "Autos & Vehicles",
          "x": 0.55,
          "xanchor": "left",
          "xref": "x1",
          "y": 1,
          "yref": "y1"
         },
         {
          "align": "left",
          "font": {
           "color": "#000000"
          },
          "showarrow": false,
          "text": "47",
          "x": 1.55,
          "xanchor": "left",
          "xref": "x1",
          "y": 1,
          "yref": "y1"
         },
         {
          "align": "left",
          "font": {
           "color": "#000000"
          },
          "showarrow": false,
          "text": "90286",
          "x": 2.55,
          "xanchor": "left",
          "xref": "x1",
          "y": 1,
          "yref": "y1"
         },
         {
          "align": "left",
          "font": {
           "color": "#000000"
          },
          "showarrow": false,
          "text": "577200",
          "x": 3.55,
          "xanchor": "left",
          "xref": "x1",
          "y": 1,
          "yref": "y1"
         },
         {
          "align": "left",
          "font": {
           "color": "#000000"
          },
          "showarrow": false,
          "text": "United States",
          "x": 4.55,
          "xanchor": "left",
          "xref": "x1",
          "y": 1,
          "yref": "y1"
         },
         {
          "align": "left",
          "font": {
           "color": "#000000"
          },
          "showarrow": false,
          "text": "17-11",
          "x": -0.45,
          "xanchor": "left",
          "xref": "x1",
          "y": 2,
          "yref": "y1"
         },
         {
          "align": "left",
          "font": {
           "color": "#000000"
          },
          "showarrow": false,
          "text": "Comedy",
          "x": 0.55,
          "xanchor": "left",
          "xref": "x1",
          "y": 2,
          "yref": "y1"
         },
         {
          "align": "left",
          "font": {
           "color": "#000000"
          },
          "showarrow": false,
          "text": "315",
          "x": 1.55,
          "xanchor": "left",
          "xref": "x1",
          "y": 2,
          "yref": "y1"
         },
         {
          "align": "left",
          "font": {
           "color": "#000000"
          },
          "showarrow": false,
          "text": "1564253",
          "x": 2.55,
          "xanchor": "left",
          "xref": "x1",
          "y": 2,
          "yref": "y1"
         },
         {
          "align": "left",
          "font": {
           "color": "#000000"
          },
          "showarrow": false,
          "text": "14335435",
          "x": 3.55,
          "xanchor": "left",
          "xref": "x1",
          "y": 2,
          "yref": "y1"
         },
         {
          "align": "left",
          "font": {
           "color": "#000000"
          },
          "showarrow": false,
          "text": "United States",
          "x": 4.55,
          "xanchor": "left",
          "xref": "x1",
          "y": 2,
          "yref": "y1"
         },
         {
          "align": "left",
          "font": {
           "color": "#000000"
          },
          "showarrow": false,
          "text": "17-11",
          "x": -0.45,
          "xanchor": "left",
          "xref": "x1",
          "y": 3,
          "yref": "y1"
         },
         {
          "align": "left",
          "font": {
           "color": "#000000"
          },
          "showarrow": false,
          "text": "Education",
          "x": 0.55,
          "xanchor": "left",
          "xref": "x1",
          "y": 3,
          "yref": "y1"
         },
         {
          "align": "left",
          "font": {
           "color": "#000000"
          },
          "showarrow": false,
          "text": "138",
          "x": 1.55,
          "xanchor": "left",
          "xref": "x1",
          "y": 3,
          "yref": "y1"
         },
         {
          "align": "left",
          "font": {
           "color": "#000000"
          },
          "showarrow": false,
          "text": "345432",
          "x": 2.55,
          "xanchor": "left",
          "xref": "x1",
          "y": 3,
          "yref": "y1"
         },
         {
          "align": "left",
          "font": {
           "color": "#000000"
          },
          "showarrow": false,
          "text": "2650043",
          "x": 3.55,
          "xanchor": "left",
          "xref": "x1",
          "y": 3,
          "yref": "y1"
         },
         {
          "align": "left",
          "font": {
           "color": "#000000"
          },
          "showarrow": false,
          "text": "United States",
          "x": 4.55,
          "xanchor": "left",
          "xref": "x1",
          "y": 3,
          "yref": "y1"
         },
         {
          "align": "left",
          "font": {
           "color": "#000000"
          },
          "showarrow": false,
          "text": "17-11",
          "x": -0.45,
          "xanchor": "left",
          "xref": "x1",
          "y": 4,
          "yref": "y1"
         },
         {
          "align": "left",
          "font": {
           "color": "#000000"
          },
          "showarrow": false,
          "text": "Entertainment",
          "x": 0.55,
          "xanchor": "left",
          "xref": "x1",
          "y": 4,
          "yref": "y1"
         },
         {
          "align": "left",
          "font": {
           "color": "#000000"
          },
          "showarrow": false,
          "text": "790",
          "x": 1.55,
          "xanchor": "left",
          "xref": "x1",
          "y": 4,
          "yref": "y1"
         },
         {
          "align": "left",
          "font": {
           "color": "#000000"
          },
          "showarrow": false,
          "text": "3385777",
          "x": 2.55,
          "xanchor": "left",
          "xref": "x1",
          "y": 4,
          "yref": "y1"
         },
         {
          "align": "left",
          "font": {
           "color": "#000000"
          },
          "showarrow": false,
          "text": "26570394",
          "x": 3.55,
          "xanchor": "left",
          "xref": "x1",
          "y": 4,
          "yref": "y1"
         },
         {
          "align": "left",
          "font": {
           "color": "#000000"
          },
          "showarrow": false,
          "text": "United States",
          "x": 4.55,
          "xanchor": "left",
          "xref": "x1",
          "y": 4,
          "yref": "y1"
         },
         {
          "align": "left",
          "font": {
           "color": "#000000"
          },
          "showarrow": false,
          "text": "17-11",
          "x": -0.45,
          "xanchor": "left",
          "xref": "x1",
          "y": 5,
          "yref": "y1"
         },
         {
          "align": "left",
          "font": {
           "color": "#000000"
          },
          "showarrow": false,
          "text": "Film & Animation",
          "x": 0.55,
          "xanchor": "left",
          "xref": "x1",
          "y": 5,
          "yref": "y1"
         },
         {
          "align": "left",
          "font": {
           "color": "#000000"
          },
          "showarrow": false,
          "text": "174",
          "x": 1.55,
          "xanchor": "left",
          "xref": "x1",
          "y": 5,
          "yref": "y1"
         },
         {
          "align": "left",
          "font": {
           "color": "#000000"
          },
          "showarrow": false,
          "text": "890131",
          "x": 2.55,
          "xanchor": "left",
          "xref": "x1",
          "y": 5,
          "yref": "y1"
         },
         {
          "align": "left",
          "font": {
           "color": "#000000"
          },
          "showarrow": false,
          "text": "8291683",
          "x": 3.55,
          "xanchor": "left",
          "xref": "x1",
          "y": 5,
          "yref": "y1"
         },
         {
          "align": "left",
          "font": {
           "color": "#000000"
          },
          "showarrow": false,
          "text": "United States",
          "x": 4.55,
          "xanchor": "left",
          "xref": "x1",
          "y": 5,
          "yref": "y1"
         },
         {
          "align": "left",
          "font": {
           "color": "#000000"
          },
          "showarrow": false,
          "text": "17-11",
          "x": -0.45,
          "xanchor": "left",
          "xref": "x1",
          "y": 6,
          "yref": "y1"
         },
         {
          "align": "left",
          "font": {
           "color": "#000000"
          },
          "showarrow": false,
          "text": "Gaming",
          "x": 0.55,
          "xanchor": "left",
          "xref": "x1",
          "y": 6,
          "yref": "y1"
         },
         {
          "align": "left",
          "font": {
           "color": "#000000"
          },
          "showarrow": false,
          "text": "22",
          "x": 1.55,
          "xanchor": "left",
          "xref": "x1",
          "y": 6,
          "yref": "y1"
         },
         {
          "align": "left",
          "font": {
           "color": "#000000"
          },
          "showarrow": false,
          "text": "45093",
          "x": 2.55,
          "xanchor": "left",
          "xref": "x1",
          "y": 6,
          "yref": "y1"
         },
         {
          "align": "left",
          "font": {
           "color": "#000000"
          },
          "showarrow": false,
          "text": "338444",
          "x": 3.55,
          "xanchor": "left",
          "xref": "x1",
          "y": 6,
          "yref": "y1"
         },
         {
          "align": "left",
          "font": {
           "color": "#000000"
          },
          "showarrow": false,
          "text": "United States",
          "x": 4.55,
          "xanchor": "left",
          "xref": "x1",
          "y": 6,
          "yref": "y1"
         },
         {
          "align": "left",
          "font": {
           "color": "#000000"
          },
          "showarrow": false,
          "text": "17-11",
          "x": -0.45,
          "xanchor": "left",
          "xref": "x1",
          "y": 7,
          "yref": "y1"
         },
         {
          "align": "left",
          "font": {
           "color": "#000000"
          },
          "showarrow": false,
          "text": "Howto & Style",
          "x": 0.55,
          "xanchor": "left",
          "xref": "x1",
          "y": 7,
          "yref": "y1"
         },
         {
          "align": "left",
          "font": {
           "color": "#000000"
          },
          "showarrow": false,
          "text": "319",
          "x": 1.55,
          "xanchor": "left",
          "xref": "x1",
          "y": 7,
          "yref": "y1"
         },
         {
          "align": "left",
          "font": {
           "color": "#000000"
          },
          "showarrow": false,
          "text": "1049190",
          "x": 2.55,
          "xanchor": "left",
          "xref": "x1",
          "y": 7,
          "yref": "y1"
         },
         {
          "align": "left",
          "font": {
           "color": "#000000"
          },
          "showarrow": false,
          "text": "8171398",
          "x": 3.55,
          "xanchor": "left",
          "xref": "x1",
          "y": 7,
          "yref": "y1"
         },
         {
          "align": "left",
          "font": {
           "color": "#000000"
          },
          "showarrow": false,
          "text": "United States",
          "x": 4.55,
          "xanchor": "left",
          "xref": "x1",
          "y": 7,
          "yref": "y1"
         },
         {
          "align": "left",
          "font": {
           "color": "#000000"
          },
          "showarrow": false,
          "text": "17-11",
          "x": -0.45,
          "xanchor": "left",
          "xref": "x1",
          "y": 8,
          "yref": "y1"
         },
         {
          "align": "left",
          "font": {
           "color": "#000000"
          },
          "showarrow": false,
          "text": "Music",
          "x": 0.55,
          "xanchor": "left",
          "xref": "x1",
          "y": 8,
          "yref": "y1"
         },
         {
          "align": "left",
          "font": {
           "color": "#000000"
          },
          "showarrow": false,
          "text": "613",
          "x": 1.55,
          "xanchor": "left",
          "xref": "x1",
          "y": 8,
          "yref": "y1"
         },
         {
          "align": "left",
          "font": {
           "color": "#000000"
          },
          "showarrow": false,
          "text": "8210654",
          "x": 2.55,
          "xanchor": "left",
          "xref": "x1",
          "y": 8,
          "yref": "y1"
         },
         {
          "align": "left",
          "font": {
           "color": "#000000"
          },
          "showarrow": false,
          "text": "85173641",
          "x": 3.55,
          "xanchor": "left",
          "xref": "x1",
          "y": 8,
          "yref": "y1"
         },
         {
          "align": "left",
          "font": {
           "color": "#000000"
          },
          "showarrow": false,
          "text": "United States",
          "x": 4.55,
          "xanchor": "left",
          "xref": "x1",
          "y": 8,
          "yref": "y1"
         },
         {
          "align": "left",
          "font": {
           "color": "#000000"
          },
          "showarrow": false,
          "text": "17-11",
          "x": -0.45,
          "xanchor": "left",
          "xref": "x1",
          "y": 9,
          "yref": "y1"
         },
         {
          "align": "left",
          "font": {
           "color": "#000000"
          },
          "showarrow": false,
          "text": "News & Politics",
          "x": 0.55,
          "xanchor": "left",
          "xref": "x1",
          "y": 9,
          "yref": "y1"
         },
         {
          "align": "left",
          "font": {
           "color": "#000000"
          },
          "showarrow": false,
          "text": "221",
          "x": 1.55,
          "xanchor": "left",
          "xref": "x1",
          "y": 9,
          "yref": "y1"
         },
         {
          "align": "left",
          "font": {
           "color": "#000000"
          },
          "showarrow": false,
          "text": "206700",
          "x": 2.55,
          "xanchor": "left",
          "xref": "x1",
          "y": 9,
          "yref": "y1"
         },
         {
          "align": "left",
          "font": {
           "color": "#000000"
          },
          "showarrow": false,
          "text": "622114",
          "x": 3.55,
          "xanchor": "left",
          "xref": "x1",
          "y": 9,
          "yref": "y1"
         },
         {
          "align": "left",
          "font": {
           "color": "#000000"
          },
          "showarrow": false,
          "text": "United States",
          "x": 4.55,
          "xanchor": "left",
          "xref": "x1",
          "y": 9,
          "yref": "y1"
         },
         {
          "align": "left",
          "font": {
           "color": "#000000"
          },
          "showarrow": false,
          "text": "17-11",
          "x": -0.45,
          "xanchor": "left",
          "xref": "x1",
          "y": 10,
          "yref": "y1"
         },
         {
          "align": "left",
          "font": {
           "color": "#000000"
          },
          "showarrow": false,
          "text": "People & Blogs",
          "x": 0.55,
          "xanchor": "left",
          "xref": "x1",
          "y": 10,
          "yref": "y1"
         },
         {
          "align": "left",
          "font": {
           "color": "#000000"
          },
          "showarrow": false,
          "text": "247",
          "x": 1.55,
          "xanchor": "left",
          "xref": "x1",
          "y": 10,
          "yref": "y1"
         },
         {
          "align": "left",
          "font": {
           "color": "#000000"
          },
          "showarrow": false,
          "text": "541418",
          "x": 2.55,
          "xanchor": "left",
          "xref": "x1",
          "y": 10,
          "yref": "y1"
         },
         {
          "align": "left",
          "font": {
           "color": "#000000"
          },
          "showarrow": false,
          "text": "4250225",
          "x": 3.55,
          "xanchor": "left",
          "xref": "x1",
          "y": 10,
          "yref": "y1"
         },
         {
          "align": "left",
          "font": {
           "color": "#000000"
          },
          "showarrow": false,
          "text": "United States",
          "x": 4.55,
          "xanchor": "left",
          "xref": "x1",
          "y": 10,
          "yref": "y1"
         }
        ],
        "height": 380,
        "margin": {
         "b": 0,
         "l": 0,
         "r": 0,
         "t": 0
        },
        "xaxis": {
         "dtick": 1,
         "gridwidth": 2,
         "showticklabels": false,
         "tick0": -0.5,
         "ticks": "",
         "zeroline": false
        },
        "yaxis": {
         "autorange": "reversed",
         "dtick": 1,
         "gridwidth": 2,
         "showticklabels": false,
         "tick0": 0.5,
         "ticks": "",
         "zeroline": false
        }
       }
      },
      "text/html": [
       "<div id=\"40e3c9e8-d9e4-4b31-bd99-e90b208b8d17\" style=\"height: 380px; width: 100%;\" class=\"plotly-graph-div\"></div><script type=\"text/javascript\">require([\"plotly\"], function(Plotly) { window.PLOTLYENV=window.PLOTLYENV || {};window.PLOTLYENV.BASE_URL=\"https://plot.ly\";Plotly.newPlot(\"40e3c9e8-d9e4-4b31-bd99-e90b208b8d17\", [{\"type\": \"heatmap\", \"z\": [[0, 0, 0, 0, 0, 0], [0.5, 0.5, 0.5, 0.5, 0.5, 0.5], [1, 1, 1, 1, 1, 1], [0.5, 0.5, 0.5, 0.5, 0.5, 0.5], [1, 1, 1, 1, 1, 1], [0.5, 0.5, 0.5, 0.5, 0.5, 0.5], [1, 1, 1, 1, 1, 1], [0.5, 0.5, 0.5, 0.5, 0.5, 0.5], [1, 1, 1, 1, 1, 1], [0.5, 0.5, 0.5, 0.5, 0.5, 0.5], [1, 1, 1, 1, 1, 1]], \"opacity\": 0.75, \"colorscale\": [[0, \"#00083e\"], [0.5, \"#ededee\"], [1, \"#ffffff\"]], \"showscale\": false, \"hoverinfo\": \"none\"}], {\"annotations\": [{\"text\": \"<b>trending_month</b>\", \"x\": -0.45, \"y\": 0, \"xref\": \"x1\", \"yref\": \"y1\", \"align\": \"left\", \"xanchor\": \"left\", \"font\": {\"color\": \"#ffffff\"}, \"showarrow\": false}, {\"text\": \"<b>category</b>\", \"x\": 0.55, \"y\": 0, \"xref\": \"x1\", \"yref\": \"y1\", \"align\": \"left\", \"xanchor\": \"left\", \"font\": {\"color\": \"#ffffff\"}, \"showarrow\": false}, {\"text\": \"<b>cat_cnt</b>\", \"x\": 1.55, \"y\": 0, \"xref\": \"x1\", \"yref\": \"y1\", \"align\": \"left\", \"xanchor\": \"left\", \"font\": {\"color\": \"#ffffff\"}, \"showarrow\": false}, {\"text\": \"<b>sum_comment_cnt</b>\", \"x\": 2.55, \"y\": 0, \"xref\": \"x1\", \"yref\": \"y1\", \"align\": \"left\", \"xanchor\": \"left\", \"font\": {\"color\": \"#ffffff\"}, \"showarrow\": false}, {\"text\": \"<b>sum_likes_cnt</b>\", \"x\": 3.55, \"y\": 0, \"xref\": \"x1\", \"yref\": \"y1\", \"align\": \"left\", \"xanchor\": \"left\", \"font\": {\"color\": \"#ffffff\"}, \"showarrow\": false}, {\"text\": \"<b>country</b>\", \"x\": 4.55, \"y\": 0, \"xref\": \"x1\", \"yref\": \"y1\", \"align\": \"left\", \"xanchor\": \"left\", \"font\": {\"color\": \"#ffffff\"}, \"showarrow\": false}, {\"text\": \"17-11\", \"x\": -0.45, \"y\": 1, \"xref\": \"x1\", \"yref\": \"y1\", \"align\": \"left\", \"xanchor\": \"left\", \"font\": {\"color\": \"#000000\"}, \"showarrow\": false}, {\"text\": \"Autos & Vehicles\", \"x\": 0.55, \"y\": 1, \"xref\": \"x1\", \"yref\": \"y1\", \"align\": \"left\", \"xanchor\": \"left\", \"font\": {\"color\": \"#000000\"}, \"showarrow\": false}, {\"text\": \"47\", \"x\": 1.55, \"y\": 1, \"xref\": \"x1\", \"yref\": \"y1\", \"align\": \"left\", \"xanchor\": \"left\", \"font\": {\"color\": \"#000000\"}, \"showarrow\": false}, {\"text\": \"90286\", \"x\": 2.55, \"y\": 1, \"xref\": \"x1\", \"yref\": \"y1\", \"align\": \"left\", \"xanchor\": \"left\", \"font\": {\"color\": \"#000000\"}, \"showarrow\": false}, {\"text\": \"577200\", \"x\": 3.55, \"y\": 1, \"xref\": \"x1\", \"yref\": \"y1\", \"align\": \"left\", \"xanchor\": \"left\", \"font\": {\"color\": \"#000000\"}, \"showarrow\": false}, {\"text\": \"United States\", \"x\": 4.55, \"y\": 1, \"xref\": \"x1\", \"yref\": \"y1\", \"align\": \"left\", \"xanchor\": \"left\", \"font\": {\"color\": \"#000000\"}, \"showarrow\": false}, {\"text\": \"17-11\", \"x\": -0.45, \"y\": 2, \"xref\": \"x1\", \"yref\": \"y1\", \"align\": \"left\", \"xanchor\": \"left\", \"font\": {\"color\": \"#000000\"}, \"showarrow\": false}, {\"text\": \"Comedy\", \"x\": 0.55, \"y\": 2, \"xref\": \"x1\", \"yref\": \"y1\", \"align\": \"left\", \"xanchor\": \"left\", \"font\": {\"color\": \"#000000\"}, \"showarrow\": false}, {\"text\": \"315\", \"x\": 1.55, \"y\": 2, \"xref\": \"x1\", \"yref\": \"y1\", \"align\": \"left\", \"xanchor\": \"left\", \"font\": {\"color\": \"#000000\"}, \"showarrow\": false}, {\"text\": \"1564253\", \"x\": 2.55, \"y\": 2, \"xref\": \"x1\", \"yref\": \"y1\", \"align\": \"left\", \"xanchor\": \"left\", \"font\": {\"color\": \"#000000\"}, \"showarrow\": false}, {\"text\": \"14335435\", \"x\": 3.55, \"y\": 2, \"xref\": \"x1\", \"yref\": \"y1\", \"align\": \"left\", \"xanchor\": \"left\", \"font\": {\"color\": \"#000000\"}, \"showarrow\": false}, {\"text\": \"United States\", \"x\": 4.55, \"y\": 2, \"xref\": \"x1\", \"yref\": \"y1\", \"align\": \"left\", \"xanchor\": \"left\", \"font\": {\"color\": \"#000000\"}, \"showarrow\": false}, {\"text\": \"17-11\", \"x\": -0.45, \"y\": 3, \"xref\": \"x1\", \"yref\": \"y1\", \"align\": \"left\", \"xanchor\": \"left\", \"font\": {\"color\": \"#000000\"}, \"showarrow\": false}, {\"text\": \"Education\", \"x\": 0.55, \"y\": 3, \"xref\": \"x1\", \"yref\": \"y1\", \"align\": \"left\", \"xanchor\": \"left\", \"font\": {\"color\": \"#000000\"}, \"showarrow\": false}, {\"text\": \"138\", \"x\": 1.55, \"y\": 3, \"xref\": \"x1\", \"yref\": \"y1\", \"align\": \"left\", \"xanchor\": \"left\", \"font\": {\"color\": \"#000000\"}, \"showarrow\": false}, {\"text\": \"345432\", \"x\": 2.55, \"y\": 3, \"xref\": \"x1\", \"yref\": \"y1\", \"align\": \"left\", \"xanchor\": \"left\", \"font\": {\"color\": \"#000000\"}, \"showarrow\": false}, {\"text\": \"2650043\", \"x\": 3.55, \"y\": 3, \"xref\": \"x1\", \"yref\": \"y1\", \"align\": \"left\", \"xanchor\": \"left\", \"font\": {\"color\": \"#000000\"}, \"showarrow\": false}, {\"text\": \"United States\", \"x\": 4.55, \"y\": 3, \"xref\": \"x1\", \"yref\": \"y1\", \"align\": \"left\", \"xanchor\": \"left\", \"font\": {\"color\": \"#000000\"}, \"showarrow\": false}, {\"text\": \"17-11\", \"x\": -0.45, \"y\": 4, \"xref\": \"x1\", \"yref\": \"y1\", \"align\": \"left\", \"xanchor\": \"left\", \"font\": {\"color\": \"#000000\"}, \"showarrow\": false}, {\"text\": \"Entertainment\", \"x\": 0.55, \"y\": 4, \"xref\": \"x1\", \"yref\": \"y1\", \"align\": \"left\", \"xanchor\": \"left\", \"font\": {\"color\": \"#000000\"}, \"showarrow\": false}, {\"text\": \"790\", \"x\": 1.55, \"y\": 4, \"xref\": \"x1\", \"yref\": \"y1\", \"align\": \"left\", \"xanchor\": \"left\", \"font\": {\"color\": \"#000000\"}, \"showarrow\": false}, {\"text\": \"3385777\", \"x\": 2.55, \"y\": 4, \"xref\": \"x1\", \"yref\": \"y1\", \"align\": \"left\", \"xanchor\": \"left\", \"font\": {\"color\": \"#000000\"}, \"showarrow\": false}, {\"text\": \"26570394\", \"x\": 3.55, \"y\": 4, \"xref\": \"x1\", \"yref\": \"y1\", \"align\": \"left\", \"xanchor\": \"left\", \"font\": {\"color\": \"#000000\"}, \"showarrow\": false}, {\"text\": \"United States\", \"x\": 4.55, \"y\": 4, \"xref\": \"x1\", \"yref\": \"y1\", \"align\": \"left\", \"xanchor\": \"left\", \"font\": {\"color\": \"#000000\"}, \"showarrow\": false}, {\"text\": \"17-11\", \"x\": -0.45, \"y\": 5, \"xref\": \"x1\", \"yref\": \"y1\", \"align\": \"left\", \"xanchor\": \"left\", \"font\": {\"color\": \"#000000\"}, \"showarrow\": false}, {\"text\": \"Film & Animation\", \"x\": 0.55, \"y\": 5, \"xref\": \"x1\", \"yref\": \"y1\", \"align\": \"left\", \"xanchor\": \"left\", \"font\": {\"color\": \"#000000\"}, \"showarrow\": false}, {\"text\": \"174\", \"x\": 1.55, \"y\": 5, \"xref\": \"x1\", \"yref\": \"y1\", \"align\": \"left\", \"xanchor\": \"left\", \"font\": {\"color\": \"#000000\"}, \"showarrow\": false}, {\"text\": \"890131\", \"x\": 2.55, \"y\": 5, \"xref\": \"x1\", \"yref\": \"y1\", \"align\": \"left\", \"xanchor\": \"left\", \"font\": {\"color\": \"#000000\"}, \"showarrow\": false}, {\"text\": \"8291683\", \"x\": 3.55, \"y\": 5, \"xref\": \"x1\", \"yref\": \"y1\", \"align\": \"left\", \"xanchor\": \"left\", \"font\": {\"color\": \"#000000\"}, \"showarrow\": false}, {\"text\": \"United States\", \"x\": 4.55, \"y\": 5, \"xref\": \"x1\", \"yref\": \"y1\", \"align\": \"left\", \"xanchor\": \"left\", \"font\": {\"color\": \"#000000\"}, \"showarrow\": false}, {\"text\": \"17-11\", \"x\": -0.45, \"y\": 6, \"xref\": \"x1\", \"yref\": \"y1\", \"align\": \"left\", \"xanchor\": \"left\", \"font\": {\"color\": \"#000000\"}, \"showarrow\": false}, {\"text\": \"Gaming\", \"x\": 0.55, \"y\": 6, \"xref\": \"x1\", \"yref\": \"y1\", \"align\": \"left\", \"xanchor\": \"left\", \"font\": {\"color\": \"#000000\"}, \"showarrow\": false}, {\"text\": \"22\", \"x\": 1.55, \"y\": 6, \"xref\": \"x1\", \"yref\": \"y1\", \"align\": \"left\", \"xanchor\": \"left\", \"font\": {\"color\": \"#000000\"}, \"showarrow\": false}, {\"text\": \"45093\", \"x\": 2.55, \"y\": 6, \"xref\": \"x1\", \"yref\": \"y1\", \"align\": \"left\", \"xanchor\": \"left\", \"font\": {\"color\": \"#000000\"}, \"showarrow\": false}, {\"text\": \"338444\", \"x\": 3.55, \"y\": 6, \"xref\": \"x1\", \"yref\": \"y1\", \"align\": \"left\", \"xanchor\": \"left\", \"font\": {\"color\": \"#000000\"}, \"showarrow\": false}, {\"text\": \"United States\", \"x\": 4.55, \"y\": 6, \"xref\": \"x1\", \"yref\": \"y1\", \"align\": \"left\", \"xanchor\": \"left\", \"font\": {\"color\": \"#000000\"}, \"showarrow\": false}, {\"text\": \"17-11\", \"x\": -0.45, \"y\": 7, \"xref\": \"x1\", \"yref\": \"y1\", \"align\": \"left\", \"xanchor\": \"left\", \"font\": {\"color\": \"#000000\"}, \"showarrow\": false}, {\"text\": \"Howto & Style\", \"x\": 0.55, \"y\": 7, \"xref\": \"x1\", \"yref\": \"y1\", \"align\": \"left\", \"xanchor\": \"left\", \"font\": {\"color\": \"#000000\"}, \"showarrow\": false}, {\"text\": \"319\", \"x\": 1.55, \"y\": 7, \"xref\": \"x1\", \"yref\": \"y1\", \"align\": \"left\", \"xanchor\": \"left\", \"font\": {\"color\": \"#000000\"}, \"showarrow\": false}, {\"text\": \"1049190\", \"x\": 2.55, \"y\": 7, \"xref\": \"x1\", \"yref\": \"y1\", \"align\": \"left\", \"xanchor\": \"left\", \"font\": {\"color\": \"#000000\"}, \"showarrow\": false}, {\"text\": \"8171398\", \"x\": 3.55, \"y\": 7, \"xref\": \"x1\", \"yref\": \"y1\", \"align\": \"left\", \"xanchor\": \"left\", \"font\": {\"color\": \"#000000\"}, \"showarrow\": false}, {\"text\": \"United States\", \"x\": 4.55, \"y\": 7, \"xref\": \"x1\", \"yref\": \"y1\", \"align\": \"left\", \"xanchor\": \"left\", \"font\": {\"color\": \"#000000\"}, \"showarrow\": false}, {\"text\": \"17-11\", \"x\": -0.45, \"y\": 8, \"xref\": \"x1\", \"yref\": \"y1\", \"align\": \"left\", \"xanchor\": \"left\", \"font\": {\"color\": \"#000000\"}, \"showarrow\": false}, {\"text\": \"Music\", \"x\": 0.55, \"y\": 8, \"xref\": \"x1\", \"yref\": \"y1\", \"align\": \"left\", \"xanchor\": \"left\", \"font\": {\"color\": \"#000000\"}, \"showarrow\": false}, {\"text\": \"613\", \"x\": 1.55, \"y\": 8, \"xref\": \"x1\", \"yref\": \"y1\", \"align\": \"left\", \"xanchor\": \"left\", \"font\": {\"color\": \"#000000\"}, \"showarrow\": false}, {\"text\": \"8210654\", \"x\": 2.55, \"y\": 8, \"xref\": \"x1\", \"yref\": \"y1\", \"align\": \"left\", \"xanchor\": \"left\", \"font\": {\"color\": \"#000000\"}, \"showarrow\": false}, {\"text\": \"85173641\", \"x\": 3.55, \"y\": 8, \"xref\": \"x1\", \"yref\": \"y1\", \"align\": \"left\", \"xanchor\": \"left\", \"font\": {\"color\": \"#000000\"}, \"showarrow\": false}, {\"text\": \"United States\", \"x\": 4.55, \"y\": 8, \"xref\": \"x1\", \"yref\": \"y1\", \"align\": \"left\", \"xanchor\": \"left\", \"font\": {\"color\": \"#000000\"}, \"showarrow\": false}, {\"text\": \"17-11\", \"x\": -0.45, \"y\": 9, \"xref\": \"x1\", \"yref\": \"y1\", \"align\": \"left\", \"xanchor\": \"left\", \"font\": {\"color\": \"#000000\"}, \"showarrow\": false}, {\"text\": \"News & Politics\", \"x\": 0.55, \"y\": 9, \"xref\": \"x1\", \"yref\": \"y1\", \"align\": \"left\", \"xanchor\": \"left\", \"font\": {\"color\": \"#000000\"}, \"showarrow\": false}, {\"text\": \"221\", \"x\": 1.55, \"y\": 9, \"xref\": \"x1\", \"yref\": \"y1\", \"align\": \"left\", \"xanchor\": \"left\", \"font\": {\"color\": \"#000000\"}, \"showarrow\": false}, {\"text\": \"206700\", \"x\": 2.55, \"y\": 9, \"xref\": \"x1\", \"yref\": \"y1\", \"align\": \"left\", \"xanchor\": \"left\", \"font\": {\"color\": \"#000000\"}, \"showarrow\": false}, {\"text\": \"622114\", \"x\": 3.55, \"y\": 9, \"xref\": \"x1\", \"yref\": \"y1\", \"align\": \"left\", \"xanchor\": \"left\", \"font\": {\"color\": \"#000000\"}, \"showarrow\": false}, {\"text\": \"United States\", \"x\": 4.55, \"y\": 9, \"xref\": \"x1\", \"yref\": \"y1\", \"align\": \"left\", \"xanchor\": \"left\", \"font\": {\"color\": \"#000000\"}, \"showarrow\": false}, {\"text\": \"17-11\", \"x\": -0.45, \"y\": 10, \"xref\": \"x1\", \"yref\": \"y1\", \"align\": \"left\", \"xanchor\": \"left\", \"font\": {\"color\": \"#000000\"}, \"showarrow\": false}, {\"text\": \"People & Blogs\", \"x\": 0.55, \"y\": 10, \"xref\": \"x1\", \"yref\": \"y1\", \"align\": \"left\", \"xanchor\": \"left\", \"font\": {\"color\": \"#000000\"}, \"showarrow\": false}, {\"text\": \"247\", \"x\": 1.55, \"y\": 10, \"xref\": \"x1\", \"yref\": \"y1\", \"align\": \"left\", \"xanchor\": \"left\", \"font\": {\"color\": \"#000000\"}, \"showarrow\": false}, {\"text\": \"541418\", \"x\": 2.55, \"y\": 10, \"xref\": \"x1\", \"yref\": \"y1\", \"align\": \"left\", \"xanchor\": \"left\", \"font\": {\"color\": \"#000000\"}, \"showarrow\": false}, {\"text\": \"4250225\", \"x\": 3.55, \"y\": 10, \"xref\": \"x1\", \"yref\": \"y1\", \"align\": \"left\", \"xanchor\": \"left\", \"font\": {\"color\": \"#000000\"}, \"showarrow\": false}, {\"text\": \"United States\", \"x\": 4.55, \"y\": 10, \"xref\": \"x1\", \"yref\": \"y1\", \"align\": \"left\", \"xanchor\": \"left\", \"font\": {\"color\": \"#000000\"}, \"showarrow\": false}], \"height\": 380, \"margin\": {\"t\": 0, \"b\": 0, \"r\": 0, \"l\": 0}, \"yaxis\": {\"autorange\": \"reversed\", \"zeroline\": false, \"gridwidth\": 2, \"ticks\": \"\", \"dtick\": 1, \"tick0\": 0.5, \"showticklabels\": false}, \"xaxis\": {\"zeroline\": false, \"gridwidth\": 2, \"ticks\": \"\", \"dtick\": 1, \"tick0\": -0.5, \"showticklabels\": false}}, {\"showLink\": true, \"linkText\": \"Export to plot.ly\"})});</script>"
      ],
      "text/vnd.plotly.v1+html": [
       "<div id=\"40e3c9e8-d9e4-4b31-bd99-e90b208b8d17\" style=\"height: 380px; width: 100%;\" class=\"plotly-graph-div\"></div><script type=\"text/javascript\">require([\"plotly\"], function(Plotly) { window.PLOTLYENV=window.PLOTLYENV || {};window.PLOTLYENV.BASE_URL=\"https://plot.ly\";Plotly.newPlot(\"40e3c9e8-d9e4-4b31-bd99-e90b208b8d17\", [{\"type\": \"heatmap\", \"z\": [[0, 0, 0, 0, 0, 0], [0.5, 0.5, 0.5, 0.5, 0.5, 0.5], [1, 1, 1, 1, 1, 1], [0.5, 0.5, 0.5, 0.5, 0.5, 0.5], [1, 1, 1, 1, 1, 1], [0.5, 0.5, 0.5, 0.5, 0.5, 0.5], [1, 1, 1, 1, 1, 1], [0.5, 0.5, 0.5, 0.5, 0.5, 0.5], [1, 1, 1, 1, 1, 1], [0.5, 0.5, 0.5, 0.5, 0.5, 0.5], [1, 1, 1, 1, 1, 1]], \"opacity\": 0.75, \"colorscale\": [[0, \"#00083e\"], [0.5, \"#ededee\"], [1, \"#ffffff\"]], \"showscale\": false, \"hoverinfo\": \"none\"}], {\"annotations\": [{\"text\": \"<b>trending_month</b>\", \"x\": -0.45, \"y\": 0, \"xref\": \"x1\", \"yref\": \"y1\", \"align\": \"left\", \"xanchor\": \"left\", \"font\": {\"color\": \"#ffffff\"}, \"showarrow\": false}, {\"text\": \"<b>category</b>\", \"x\": 0.55, \"y\": 0, \"xref\": \"x1\", \"yref\": \"y1\", \"align\": \"left\", \"xanchor\": \"left\", \"font\": {\"color\": \"#ffffff\"}, \"showarrow\": false}, {\"text\": \"<b>cat_cnt</b>\", \"x\": 1.55, \"y\": 0, \"xref\": \"x1\", \"yref\": \"y1\", \"align\": \"left\", \"xanchor\": \"left\", \"font\": {\"color\": \"#ffffff\"}, \"showarrow\": false}, {\"text\": \"<b>sum_comment_cnt</b>\", \"x\": 2.55, \"y\": 0, \"xref\": \"x1\", \"yref\": \"y1\", \"align\": \"left\", \"xanchor\": \"left\", \"font\": {\"color\": \"#ffffff\"}, \"showarrow\": false}, {\"text\": \"<b>sum_likes_cnt</b>\", \"x\": 3.55, \"y\": 0, \"xref\": \"x1\", \"yref\": \"y1\", \"align\": \"left\", \"xanchor\": \"left\", \"font\": {\"color\": \"#ffffff\"}, \"showarrow\": false}, {\"text\": \"<b>country</b>\", \"x\": 4.55, \"y\": 0, \"xref\": \"x1\", \"yref\": \"y1\", \"align\": \"left\", \"xanchor\": \"left\", \"font\": {\"color\": \"#ffffff\"}, \"showarrow\": false}, {\"text\": \"17-11\", \"x\": -0.45, \"y\": 1, \"xref\": \"x1\", \"yref\": \"y1\", \"align\": \"left\", \"xanchor\": \"left\", \"font\": {\"color\": \"#000000\"}, \"showarrow\": false}, {\"text\": \"Autos & Vehicles\", \"x\": 0.55, \"y\": 1, \"xref\": \"x1\", \"yref\": \"y1\", \"align\": \"left\", \"xanchor\": \"left\", \"font\": {\"color\": \"#000000\"}, \"showarrow\": false}, {\"text\": \"47\", \"x\": 1.55, \"y\": 1, \"xref\": \"x1\", \"yref\": \"y1\", \"align\": \"left\", \"xanchor\": \"left\", \"font\": {\"color\": \"#000000\"}, \"showarrow\": false}, {\"text\": \"90286\", \"x\": 2.55, \"y\": 1, \"xref\": \"x1\", \"yref\": \"y1\", \"align\": \"left\", \"xanchor\": \"left\", \"font\": {\"color\": \"#000000\"}, \"showarrow\": false}, {\"text\": \"577200\", \"x\": 3.55, \"y\": 1, \"xref\": \"x1\", \"yref\": \"y1\", \"align\": \"left\", \"xanchor\": \"left\", \"font\": {\"color\": \"#000000\"}, \"showarrow\": false}, {\"text\": \"United States\", \"x\": 4.55, \"y\": 1, \"xref\": \"x1\", \"yref\": \"y1\", \"align\": \"left\", \"xanchor\": \"left\", \"font\": {\"color\": \"#000000\"}, \"showarrow\": false}, {\"text\": \"17-11\", \"x\": -0.45, \"y\": 2, \"xref\": \"x1\", \"yref\": \"y1\", \"align\": \"left\", \"xanchor\": \"left\", \"font\": {\"color\": \"#000000\"}, \"showarrow\": false}, {\"text\": \"Comedy\", \"x\": 0.55, \"y\": 2, \"xref\": \"x1\", \"yref\": \"y1\", \"align\": \"left\", \"xanchor\": \"left\", \"font\": {\"color\": \"#000000\"}, \"showarrow\": false}, {\"text\": \"315\", \"x\": 1.55, \"y\": 2, \"xref\": \"x1\", \"yref\": \"y1\", \"align\": \"left\", \"xanchor\": \"left\", \"font\": {\"color\": \"#000000\"}, \"showarrow\": false}, {\"text\": \"1564253\", \"x\": 2.55, \"y\": 2, \"xref\": \"x1\", \"yref\": \"y1\", \"align\": \"left\", \"xanchor\": \"left\", \"font\": {\"color\": \"#000000\"}, \"showarrow\": false}, {\"text\": \"14335435\", \"x\": 3.55, \"y\": 2, \"xref\": \"x1\", \"yref\": \"y1\", \"align\": \"left\", \"xanchor\": \"left\", \"font\": {\"color\": \"#000000\"}, \"showarrow\": false}, {\"text\": \"United States\", \"x\": 4.55, \"y\": 2, \"xref\": \"x1\", \"yref\": \"y1\", \"align\": \"left\", \"xanchor\": \"left\", \"font\": {\"color\": \"#000000\"}, \"showarrow\": false}, {\"text\": \"17-11\", \"x\": -0.45, \"y\": 3, \"xref\": \"x1\", \"yref\": \"y1\", \"align\": \"left\", \"xanchor\": \"left\", \"font\": {\"color\": \"#000000\"}, \"showarrow\": false}, {\"text\": \"Education\", \"x\": 0.55, \"y\": 3, \"xref\": \"x1\", \"yref\": \"y1\", \"align\": \"left\", \"xanchor\": \"left\", \"font\": {\"color\": \"#000000\"}, \"showarrow\": false}, {\"text\": \"138\", \"x\": 1.55, \"y\": 3, \"xref\": \"x1\", \"yref\": \"y1\", \"align\": \"left\", \"xanchor\": \"left\", \"font\": {\"color\": \"#000000\"}, \"showarrow\": false}, {\"text\": \"345432\", \"x\": 2.55, \"y\": 3, \"xref\": \"x1\", \"yref\": \"y1\", \"align\": \"left\", \"xanchor\": \"left\", \"font\": {\"color\": \"#000000\"}, \"showarrow\": false}, {\"text\": \"2650043\", \"x\": 3.55, \"y\": 3, \"xref\": \"x1\", \"yref\": \"y1\", \"align\": \"left\", \"xanchor\": \"left\", \"font\": {\"color\": \"#000000\"}, \"showarrow\": false}, {\"text\": \"United States\", \"x\": 4.55, \"y\": 3, \"xref\": \"x1\", \"yref\": \"y1\", \"align\": \"left\", \"xanchor\": \"left\", \"font\": {\"color\": \"#000000\"}, \"showarrow\": false}, {\"text\": \"17-11\", \"x\": -0.45, \"y\": 4, \"xref\": \"x1\", \"yref\": \"y1\", \"align\": \"left\", \"xanchor\": \"left\", \"font\": {\"color\": \"#000000\"}, \"showarrow\": false}, {\"text\": \"Entertainment\", \"x\": 0.55, \"y\": 4, \"xref\": \"x1\", \"yref\": \"y1\", \"align\": \"left\", \"xanchor\": \"left\", \"font\": {\"color\": \"#000000\"}, \"showarrow\": false}, {\"text\": \"790\", \"x\": 1.55, \"y\": 4, \"xref\": \"x1\", \"yref\": \"y1\", \"align\": \"left\", \"xanchor\": \"left\", \"font\": {\"color\": \"#000000\"}, \"showarrow\": false}, {\"text\": \"3385777\", \"x\": 2.55, \"y\": 4, \"xref\": \"x1\", \"yref\": \"y1\", \"align\": \"left\", \"xanchor\": \"left\", \"font\": {\"color\": \"#000000\"}, \"showarrow\": false}, {\"text\": \"26570394\", \"x\": 3.55, \"y\": 4, \"xref\": \"x1\", \"yref\": \"y1\", \"align\": \"left\", \"xanchor\": \"left\", \"font\": {\"color\": \"#000000\"}, \"showarrow\": false}, {\"text\": \"United States\", \"x\": 4.55, \"y\": 4, \"xref\": \"x1\", \"yref\": \"y1\", \"align\": \"left\", \"xanchor\": \"left\", \"font\": {\"color\": \"#000000\"}, \"showarrow\": false}, {\"text\": \"17-11\", \"x\": -0.45, \"y\": 5, \"xref\": \"x1\", \"yref\": \"y1\", \"align\": \"left\", \"xanchor\": \"left\", \"font\": {\"color\": \"#000000\"}, \"showarrow\": false}, {\"text\": \"Film & Animation\", \"x\": 0.55, \"y\": 5, \"xref\": \"x1\", \"yref\": \"y1\", \"align\": \"left\", \"xanchor\": \"left\", \"font\": {\"color\": \"#000000\"}, \"showarrow\": false}, {\"text\": \"174\", \"x\": 1.55, \"y\": 5, \"xref\": \"x1\", \"yref\": \"y1\", \"align\": \"left\", \"xanchor\": \"left\", \"font\": {\"color\": \"#000000\"}, \"showarrow\": false}, {\"text\": \"890131\", \"x\": 2.55, \"y\": 5, \"xref\": \"x1\", \"yref\": \"y1\", \"align\": \"left\", \"xanchor\": \"left\", \"font\": {\"color\": \"#000000\"}, \"showarrow\": false}, {\"text\": \"8291683\", \"x\": 3.55, \"y\": 5, \"xref\": \"x1\", \"yref\": \"y1\", \"align\": \"left\", \"xanchor\": \"left\", \"font\": {\"color\": \"#000000\"}, \"showarrow\": false}, {\"text\": \"United States\", \"x\": 4.55, \"y\": 5, \"xref\": \"x1\", \"yref\": \"y1\", \"align\": \"left\", \"xanchor\": \"left\", \"font\": {\"color\": \"#000000\"}, \"showarrow\": false}, {\"text\": \"17-11\", \"x\": -0.45, \"y\": 6, \"xref\": \"x1\", \"yref\": \"y1\", \"align\": \"left\", \"xanchor\": \"left\", \"font\": {\"color\": \"#000000\"}, \"showarrow\": false}, {\"text\": \"Gaming\", \"x\": 0.55, \"y\": 6, \"xref\": \"x1\", \"yref\": \"y1\", \"align\": \"left\", \"xanchor\": \"left\", \"font\": {\"color\": \"#000000\"}, \"showarrow\": false}, {\"text\": \"22\", \"x\": 1.55, \"y\": 6, \"xref\": \"x1\", \"yref\": \"y1\", \"align\": \"left\", \"xanchor\": \"left\", \"font\": {\"color\": \"#000000\"}, \"showarrow\": false}, {\"text\": \"45093\", \"x\": 2.55, \"y\": 6, \"xref\": \"x1\", \"yref\": \"y1\", \"align\": \"left\", \"xanchor\": \"left\", \"font\": {\"color\": \"#000000\"}, \"showarrow\": false}, {\"text\": \"338444\", \"x\": 3.55, \"y\": 6, \"xref\": \"x1\", \"yref\": \"y1\", \"align\": \"left\", \"xanchor\": \"left\", \"font\": {\"color\": \"#000000\"}, \"showarrow\": false}, {\"text\": \"United States\", \"x\": 4.55, \"y\": 6, \"xref\": \"x1\", \"yref\": \"y1\", \"align\": \"left\", \"xanchor\": \"left\", \"font\": {\"color\": \"#000000\"}, \"showarrow\": false}, {\"text\": \"17-11\", \"x\": -0.45, \"y\": 7, \"xref\": \"x1\", \"yref\": \"y1\", \"align\": \"left\", \"xanchor\": \"left\", \"font\": {\"color\": \"#000000\"}, \"showarrow\": false}, {\"text\": \"Howto & Style\", \"x\": 0.55, \"y\": 7, \"xref\": \"x1\", \"yref\": \"y1\", \"align\": \"left\", \"xanchor\": \"left\", \"font\": {\"color\": \"#000000\"}, \"showarrow\": false}, {\"text\": \"319\", \"x\": 1.55, \"y\": 7, \"xref\": \"x1\", \"yref\": \"y1\", \"align\": \"left\", \"xanchor\": \"left\", \"font\": {\"color\": \"#000000\"}, \"showarrow\": false}, {\"text\": \"1049190\", \"x\": 2.55, \"y\": 7, \"xref\": \"x1\", \"yref\": \"y1\", \"align\": \"left\", \"xanchor\": \"left\", \"font\": {\"color\": \"#000000\"}, \"showarrow\": false}, {\"text\": \"8171398\", \"x\": 3.55, \"y\": 7, \"xref\": \"x1\", \"yref\": \"y1\", \"align\": \"left\", \"xanchor\": \"left\", \"font\": {\"color\": \"#000000\"}, \"showarrow\": false}, {\"text\": \"United States\", \"x\": 4.55, \"y\": 7, \"xref\": \"x1\", \"yref\": \"y1\", \"align\": \"left\", \"xanchor\": \"left\", \"font\": {\"color\": \"#000000\"}, \"showarrow\": false}, {\"text\": \"17-11\", \"x\": -0.45, \"y\": 8, \"xref\": \"x1\", \"yref\": \"y1\", \"align\": \"left\", \"xanchor\": \"left\", \"font\": {\"color\": \"#000000\"}, \"showarrow\": false}, {\"text\": \"Music\", \"x\": 0.55, \"y\": 8, \"xref\": \"x1\", \"yref\": \"y1\", \"align\": \"left\", \"xanchor\": \"left\", \"font\": {\"color\": \"#000000\"}, \"showarrow\": false}, {\"text\": \"613\", \"x\": 1.55, \"y\": 8, \"xref\": \"x1\", \"yref\": \"y1\", \"align\": \"left\", \"xanchor\": \"left\", \"font\": {\"color\": \"#000000\"}, \"showarrow\": false}, {\"text\": \"8210654\", \"x\": 2.55, \"y\": 8, \"xref\": \"x1\", \"yref\": \"y1\", \"align\": \"left\", \"xanchor\": \"left\", \"font\": {\"color\": \"#000000\"}, \"showarrow\": false}, {\"text\": \"85173641\", \"x\": 3.55, \"y\": 8, \"xref\": \"x1\", \"yref\": \"y1\", \"align\": \"left\", \"xanchor\": \"left\", \"font\": {\"color\": \"#000000\"}, \"showarrow\": false}, {\"text\": \"United States\", \"x\": 4.55, \"y\": 8, \"xref\": \"x1\", \"yref\": \"y1\", \"align\": \"left\", \"xanchor\": \"left\", \"font\": {\"color\": \"#000000\"}, \"showarrow\": false}, {\"text\": \"17-11\", \"x\": -0.45, \"y\": 9, \"xref\": \"x1\", \"yref\": \"y1\", \"align\": \"left\", \"xanchor\": \"left\", \"font\": {\"color\": \"#000000\"}, \"showarrow\": false}, {\"text\": \"News & Politics\", \"x\": 0.55, \"y\": 9, \"xref\": \"x1\", \"yref\": \"y1\", \"align\": \"left\", \"xanchor\": \"left\", \"font\": {\"color\": \"#000000\"}, \"showarrow\": false}, {\"text\": \"221\", \"x\": 1.55, \"y\": 9, \"xref\": \"x1\", \"yref\": \"y1\", \"align\": \"left\", \"xanchor\": \"left\", \"font\": {\"color\": \"#000000\"}, \"showarrow\": false}, {\"text\": \"206700\", \"x\": 2.55, \"y\": 9, \"xref\": \"x1\", \"yref\": \"y1\", \"align\": \"left\", \"xanchor\": \"left\", \"font\": {\"color\": \"#000000\"}, \"showarrow\": false}, {\"text\": \"622114\", \"x\": 3.55, \"y\": 9, \"xref\": \"x1\", \"yref\": \"y1\", \"align\": \"left\", \"xanchor\": \"left\", \"font\": {\"color\": \"#000000\"}, \"showarrow\": false}, {\"text\": \"United States\", \"x\": 4.55, \"y\": 9, \"xref\": \"x1\", \"yref\": \"y1\", \"align\": \"left\", \"xanchor\": \"left\", \"font\": {\"color\": \"#000000\"}, \"showarrow\": false}, {\"text\": \"17-11\", \"x\": -0.45, \"y\": 10, \"xref\": \"x1\", \"yref\": \"y1\", \"align\": \"left\", \"xanchor\": \"left\", \"font\": {\"color\": \"#000000\"}, \"showarrow\": false}, {\"text\": \"People & Blogs\", \"x\": 0.55, \"y\": 10, \"xref\": \"x1\", \"yref\": \"y1\", \"align\": \"left\", \"xanchor\": \"left\", \"font\": {\"color\": \"#000000\"}, \"showarrow\": false}, {\"text\": \"247\", \"x\": 1.55, \"y\": 10, \"xref\": \"x1\", \"yref\": \"y1\", \"align\": \"left\", \"xanchor\": \"left\", \"font\": {\"color\": \"#000000\"}, \"showarrow\": false}, {\"text\": \"541418\", \"x\": 2.55, \"y\": 10, \"xref\": \"x1\", \"yref\": \"y1\", \"align\": \"left\", \"xanchor\": \"left\", \"font\": {\"color\": \"#000000\"}, \"showarrow\": false}, {\"text\": \"4250225\", \"x\": 3.55, \"y\": 10, \"xref\": \"x1\", \"yref\": \"y1\", \"align\": \"left\", \"xanchor\": \"left\", \"font\": {\"color\": \"#000000\"}, \"showarrow\": false}, {\"text\": \"United States\", \"x\": 4.55, \"y\": 10, \"xref\": \"x1\", \"yref\": \"y1\", \"align\": \"left\", \"xanchor\": \"left\", \"font\": {\"color\": \"#000000\"}, \"showarrow\": false}], \"height\": 380, \"margin\": {\"t\": 0, \"b\": 0, \"r\": 0, \"l\": 0}, \"yaxis\": {\"autorange\": \"reversed\", \"zeroline\": false, \"gridwidth\": 2, \"ticks\": \"\", \"dtick\": 1, \"tick0\": 0.5, \"showticklabels\": false}, \"xaxis\": {\"zeroline\": false, \"gridwidth\": 2, \"ticks\": \"\", \"dtick\": 1, \"tick0\": -0.5, \"showticklabels\": false}}, {\"showLink\": true, \"linkText\": \"Export to plot.ly\"})});</script>"
      ]
     },
     "metadata": {},
     "output_type": "display_data"
    }
   ],
   "source": [
    "iplot(table)"
   ]
  },
  {
   "cell_type": "code",
   "execution_count": 11,
   "metadata": {
    "collapsed": true
   },
   "outputs": [],
   "source": [
    "month_from_col = set(us_mntly[\"trending_month\"])"
   ]
  },
  {
   "cell_type": "code",
   "execution_count": 12,
   "metadata": {
    "collapsed": true
   },
   "outputs": [],
   "source": [
    "month_list = sorted(list(month_from_col))"
   ]
  },
  {
   "cell_type": "code",
   "execution_count": 13,
   "metadata": {
    "collapsed": true
   },
   "outputs": [],
   "source": [
    "# make list of categories\n",
    "categories = []\n",
    "for category in us_mntly[\"category\"]:\n",
    "    if category not in categories:\n",
    "        categories.append(category)"
   ]
  },
  {
   "cell_type": "code",
   "execution_count": 14,
   "metadata": {
    "collapsed": true
   },
   "outputs": [],
   "source": [
    "columns = []"
   ]
  },
  {
   "cell_type": "code",
   "execution_count": 15,
   "metadata": {
    "collapsed": true
   },
   "outputs": [],
   "source": [
    "# make grid\n",
    "for month in month_list:\n",
    "    for cat in categories:\n",
    "        dataset_by_month = us_mntly[us_mntly[\"trending_month\"] == month]\n",
    "        dataset_by_month_and_cat = dataset_by_month[dataset_by_month[\"category\"] == cat]\n",
    "        for col_name in dataset_by_month_and_cat:\n",
    "            column_name = '{month}_{cat}_{header}_gapminder_grid'.format(\n",
    "                month=month, cat=cat, header=col_name\n",
    "            )\n",
    "            a_column = Column(list(dataset_by_month_and_cat[col_name]), column_name)\n",
    "            columns.append(a_column)"
   ]
  },
  {
   "cell_type": "code",
   "execution_count": 16,
   "metadata": {
    "collapsed": true
   },
   "outputs": [],
   "source": [
    "# upload grid \n",
    "grid = Grid(columns)\n",
    "url = py.grid_ops.upload(grid, 'gapminder_grid'+str(time.time()), auto_open=False)"
   ]
  },
  {
   "cell_type": "code",
   "execution_count": 17,
   "metadata": {},
   "outputs": [
    {
     "data": {
      "text/plain": [
       "'https://plot.ly/~jingjuewang/74/'"
      ]
     },
     "execution_count": 17,
     "metadata": {},
     "output_type": "execute_result"
    }
   ],
   "source": [
    "url"
   ]
  },
  {
   "cell_type": "markdown",
   "metadata": {},
   "source": [
    "### make the figure"
   ]
  },
  {
   "cell_type": "code",
   "execution_count": 18,
   "metadata": {
    "collapsed": true
   },
   "outputs": [],
   "source": [
    "figure = {\n",
    "    'data': [],\n",
    "    \"layout\": {},\n",
    "    \"frames\": [],\n",
    "    \"config\": {'scrollzoom': True}\n",
    "}"
   ]
  },
  {
   "cell_type": "code",
   "execution_count": 19,
   "metadata": {
    "collapsed": true
   },
   "outputs": [],
   "source": [
    "# fill in most of layout\n",
    "# figure['layout']['xaxis'] = {'range': [1, 20000], 'title': 'total comment count', 'gridcolor': '#FFFFFF'}\n",
    "# figure['layout']['yaxis'] = {'range': [8, 200000], 'title': 'total likes count', 'gridcolor': '#FFFFFF'}\n",
    "# figure['layout']['hovermode'] = 'closest'\n",
    "# figure['layout']['plot_bgcolor'] = 'rgb(223, 232, 243)'\n"
   ]
  },
  {
   "cell_type": "code",
   "execution_count": 20,
   "metadata": {
    "collapsed": true
   },
   "outputs": [],
   "source": [
    "x_min = us_mntly.sum_comment_cnt.min()\n",
    "x_max = us_mntly.sum_comment_cnt.max()\n",
    "y_min = us_mntly.sum_likes_cnt.min()\n",
    "y_max = us_mntly.sum_likes_cnt.max()"
   ]
  },
  {
   "cell_type": "code",
   "execution_count": 21,
   "metadata": {
    "collapsed": true
   },
   "outputs": [],
   "source": [
    "# fill in most of layout\n",
    "figure['layout']['xaxis'] = {'range': [x_min, x_max], \"autorange\": \"true\",'title': 'total comment count', 'gridcolor': '#FFFFFF'}\n",
    "figure['layout']['yaxis'] = {'range': [y_min, y_max], \"autorange\": \"true\",'title': 'total likes count', 'gridcolor': '#FFFFFF'}\n",
    "figure['layout']['hovermode'] = 'closest'\n",
    "figure['layout']['plot_bgcolor'] = '#FFFFFF'"
   ]
  },
  {
   "cell_type": "markdown",
   "metadata": {},
   "source": [
    "### Add slider"
   ]
  },
  {
   "cell_type": "code",
   "execution_count": 22,
   "metadata": {
    "collapsed": true
   },
   "outputs": [],
   "source": [
    "sliders_dict = {\n",
    "    'active': 0,\n",
    "    'yanchor': 'top',\n",
    "    'xanchor': 'left',\n",
    "    'currentvalue': {\n",
    "        'font': {'size': 20},\n",
    "        'prefix': 'month:',\n",
    "        'visible': True,\n",
    "        'xanchor': 'right'\n",
    "    },\n",
    "    'transition': {'duration': 300, 'easing': 'cubic-in-out'},\n",
    "    'pad': {'b': 10, 't': 50},\n",
    "    'len': 0.9,\n",
    "    'x': 0.1,\n",
    "    'y': 0,\n",
    "    'steps': []\n",
    "}"
   ]
  },
  {
   "cell_type": "markdown",
   "metadata": {},
   "source": [
    "### Add Play and Pause Buttons"
   ]
  },
  {
   "cell_type": "code",
   "execution_count": 23,
   "metadata": {
    "collapsed": true
   },
   "outputs": [],
   "source": [
    "figure['layout']['updatemenus'] = [\n",
    "    {\n",
    "        'buttons': [\n",
    "            {\n",
    "                'args': [None, {'frame': {'duration': 500, 'redraw': False},\n",
    "                         'fromcurrent': True, 'transition': {'duration': 300, 'easing': 'quadratic-in-out'}}],\n",
    "                'label': 'Play',\n",
    "                'method': 'animate'\n",
    "            },\n",
    "            {\n",
    "                'args': [[None], {'frame': {'duration': 0, 'redraw': False}, 'mode': 'immediate',\n",
    "                'transition': {'duration': 0}}],\n",
    "                'label': 'Pause',\n",
    "                'method': 'animate'\n",
    "            }\n",
    "        ],\n",
    "        'direction': 'left',\n",
    "        'pad': {'r': 10, 't': 87},\n",
    "        'showactive': False,\n",
    "        'type': 'buttons',\n",
    "        'x': 0.1,\n",
    "        'xanchor': 'right',\n",
    "        'y': 0,\n",
    "        'yanchor': 'top'\n",
    "    }\n",
    "]\n",
    "\n",
    "custom_colors = {\n",
    "    'Autos & Vehicles': 'rgb(171, 99, 250)',\n",
    "    'Comedy': 'rgb(230, 99, 250)',\n",
    "    'Education': 'rgb(99, 110, 250)',\n",
    "    'Entertainment': 'rgb(25, 211, 243)',\n",
    "    'Film & Animation': 'rgb(50, 170, 255)',\n",
    "    'Gaming': 'rgb(141,211,199)',\n",
    "    'Howto & Style': 'rgb(255,255,179)',\n",
    "    'Music': 'rgb(190,186,218)',\n",
    "    'News & Politics': 'rgb(251,128,114)',\n",
    "    'People & Blogs': 'rgb(128,177,211)',\n",
    "    'Pets & Animals': 'rgb(253,180,98)',\n",
    "    'Science & Technology': 'rgb(179,222,105)',\n",
    "    'Sports': 'rgb(252,205,229)',\n",
    "    'Travel & Events': 'rgb(217,217,217)',\n",
    "    'Nonprofits & Activism': 'rgb(188,128,189)',\n",
    "    'Shows': 'rgb(204,235,197)',\n",
    "}"
   ]
  },
  {
   "cell_type": "code",
   "execution_count": 24,
   "metadata": {},
   "outputs": [
    {
     "data": {
      "text/plain": [
       "array(['Autos & Vehicles', 'Comedy', 'Education', 'Entertainment',\n",
       "       'Film & Animation', 'Gaming', 'Howto & Style', 'Music',\n",
       "       'News & Politics', 'People & Blogs', 'Pets & Animals',\n",
       "       'Science & Technology', 'Sports', 'Travel & Events',\n",
       "       'Nonprofits & Activism', 'Shows'], dtype=object)"
      ]
     },
     "execution_count": 24,
     "metadata": {},
     "output_type": "execute_result"
    }
   ],
   "source": [
    "us_mntly.category.unique()"
   ]
  },
  {
   "cell_type": "markdown",
   "metadata": {},
   "source": [
    "#### Fill in Figure with Data and Frames"
   ]
  },
  {
   "cell_type": "code",
   "execution_count": 25,
   "metadata": {
    "collapsed": true,
    "scrolled": false
   },
   "outputs": [],
   "source": [
    "col_name_template = '{month}_{cat}_{header}_gapminder_grid'\n",
    "month = \"17-11\"\n",
    "for cat in categories:\n",
    "    data_dict = {\n",
    "        'xsrc': grid.get_column_reference(col_name_template.format(\n",
    "            month=month, cat=cat, header='sum_comment_cnt'\n",
    "        )),\n",
    "        'ysrc': grid.get_column_reference(col_name_template.format(\n",
    "            month=month, cat=cat, header='sum_likes_cnt'\n",
    "        )),\n",
    "        'mode': 'markers',\n",
    "        'textsrc': grid.get_column_reference(col_name_template.format(\n",
    "            month=month, cat=cat, header='country'\n",
    "        )),\n",
    "        'marker': {\n",
    "            'sizemode': 'area',\n",
    "            'sizeref': 200000,\n",
    "            'sizesrc': grid.get_column_reference(col_name_template.format(\n",
    "                 month=month, cat=cat, header='cat_cnt'\n",
    "            )),\n",
    "            'color': custom_colors[cat]\n",
    "        },\n",
    "        'name': cat\n",
    "    }\n",
    "    figure['data'].append(data_dict)"
   ]
  },
  {
   "cell_type": "markdown",
   "metadata": {},
   "source": [
    "### create frames"
   ]
  },
  {
   "cell_type": "code",
   "execution_count": 26,
   "metadata": {
    "collapsed": true
   },
   "outputs": [],
   "source": [
    "for month in month_list:\n",
    "    frame = {'data': [], 'name': str(month)}\n",
    "    for cat in categories:\n",
    "        data_dict = {\n",
    "            'xsrc': grid.get_column_reference(col_name_template.format(\n",
    "                month=month, cat=cat, header='sum_comment_cnt'\n",
    "            )),\n",
    "            'ysrc': grid.get_column_reference(col_name_template.format(\n",
    "                month=month, cat=cat, header='sum_likes_cnt'\n",
    "            )),\n",
    "            'mode': 'markers',\n",
    "            'textsrc': grid.get_column_reference(col_name_template.format(\n",
    "                month=month, cat=cat, header='country'\n",
    "                )),\n",
    "            'marker': {\n",
    "                'sizemode': 'area',\n",
    "                'sizeref': 1,\n",
    "                'sizesrc': grid.get_column_reference(col_name_template.format(\n",
    "                    month=month, cat=cat, header='cat_cnt'\n",
    "                )),\n",
    "                'color': custom_colors[cat],\n",
    "                \"opacity\": 0.8\n",
    "            },\n",
    "            'name': cat\n",
    "        }\n",
    "        frame['data'].append(data_dict)\n",
    "\n",
    "    figure['frames'].append(frame)\n",
    "    slider_step = {'args': [\n",
    "        [month],\n",
    "        {'frame': {'duration': 300, 'redraw': False},\n",
    "         'mode': 'immediate',\n",
    "       'transition': {'duration': 300}}\n",
    "     ],\n",
    "     'label': month,\n",
    "     'method': 'animate'}\n",
    "    sliders_dict['steps'].append(slider_step)\n",
    "\n",
    "figure['layout']['sliders'] = [sliders_dict]"
   ]
  },
  {
   "cell_type": "code",
   "execution_count": 27,
   "metadata": {},
   "outputs": [
    {
     "data": {
      "text/html": [
       "<iframe id=\"igraph\" scrolling=\"no\" style=\"border:none;\" seamless=\"seamless\" src=\"https://plot.ly/~jingjuewang/75.embed\" height=\"525px\" width=\"100%\"></iframe>"
      ],
      "text/plain": [
       "<plotly.tools.PlotlyDisplay object>"
      ]
     },
     "execution_count": 27,
     "metadata": {},
     "output_type": "execute_result"
    }
   ],
   "source": [
    "py.icreate_animations(figure, 'gapminder_example'+str(time.time()))"
   ]
  },
  {
   "cell_type": "markdown",
   "metadata": {},
   "source": [
    "# OFFLINE"
   ]
  },
  {
   "cell_type": "code",
   "execution_count": 28,
   "metadata": {},
   "outputs": [
    {
     "name": "stderr",
     "output_type": "stream",
     "text": [
      "IOPub data rate exceeded.\n",
      "The notebook server will temporarily stop sending output\n",
      "to the client in order to avoid crashing it.\n",
      "To change this limit, set the config variable\n",
      "`--NotebookApp.iopub_data_rate_limit`.\n"
     ]
    }
   ],
   "source": [
    "import pandas as pd\n",
    "import numpy as np\n",
    "from __future__ import division\n",
    "import plotly.plotly as py\n",
    "from plotly.offline import download_plotlyjs, init_notebook_mode, iplot\n",
    "from plotly.graph_objs import *\n",
    "init_notebook_mode()\n",
    "\n",
    "from plotly.grid_objs import Grid, Column\n",
    "from plotly.tools import FigureFactory as FF"
   ]
  },
  {
   "cell_type": "code",
   "execution_count": 41,
   "metadata": {
    "collapsed": true
   },
   "outputs": [],
   "source": [
    "df = pd.DataFrame()\n",
    "for month in month_list:\n",
    "    for cat in categories:\n",
    "        dataset_by_month = us_mntly[us_mntly[\"trending_month\"] == month]\n",
    "        dataset_by_month_and_cat = dataset_by_month[dataset_by_month[\"category\"] == cat]\n",
    "        for col_name in dataset_by_month_and_cat:\n",
    "            temp = '{month}_{cat}_{header}_gapminder_grid'.format(\n",
    "                month=month, cat=cat, header=col_name\n",
    "            )\n",
    "            df = df.append({'value': list(dataset_by_month_and_cat[col_name]), 'key': temp}, ignore_index=True)\n"
   ]
  },
  {
   "cell_type": "code",
   "execution_count": 42,
   "metadata": {
    "collapsed": true
   },
   "outputs": [],
   "source": [
    "figure = {\n",
    "    'data': [],\n",
    "    \"layout\": {},\n",
    "    \"frames\": [],\n",
    "    \"config\": {'scrollzoom': True}\n",
    "}"
   ]
  },
  {
   "cell_type": "code",
   "execution_count": 43,
   "metadata": {
    "collapsed": true
   },
   "outputs": [],
   "source": [
    "x_min = us_mntly.sum_comment_cnt.min()\n",
    "x_max = us_mntly.sum_comment_cnt.max()\n",
    "y_min = us_mntly.sum_likes_cnt.min()\n",
    "y_max = us_mntly.sum_likes_cnt.max()"
   ]
  },
  {
   "cell_type": "code",
   "execution_count": 44,
   "metadata": {
    "collapsed": true
   },
   "outputs": [],
   "source": [
    "# fill in most of layout\n",
    "figure['layout']['xaxis'] = {'range': [x_min, x_max], \"autorange\": \"true\",'title': 'total comment count', 'gridcolor': '#FFFFFF'}\n",
    "figure['layout']['yaxis'] = {'range': [y_min, y_max], \"autorange\": \"true\",'title': 'total likes count', 'gridcolor': '#FFFFFF'}\n",
    "figure['layout']['hovermode'] = 'closest'\n",
    "figure['layout']['plot_bgcolor'] = '#FFFFFF'"
   ]
  },
  {
   "cell_type": "code",
   "execution_count": 45,
   "metadata": {
    "collapsed": true
   },
   "outputs": [],
   "source": [
    "sliders_dict = {\n",
    "    'active': 0,\n",
    "    'yanchor': 'top',\n",
    "    'xanchor': 'left',\n",
    "    'currentvalue': {\n",
    "        'font': {'size': 20},\n",
    "        'prefix': 'month:',\n",
    "        'visible': True,\n",
    "        'xanchor': 'right'\n",
    "    },\n",
    "    'transition': {'duration': 300, 'easing': 'cubic-in-out'},\n",
    "    'pad': {'b': 10, 't': 50},\n",
    "    'len': 0.9,\n",
    "    'x': 0.1,\n",
    "    'y': 0,\n",
    "    'steps': []\n",
    "}"
   ]
  },
  {
   "cell_type": "code",
   "execution_count": 46,
   "metadata": {
    "collapsed": true
   },
   "outputs": [],
   "source": [
    "figure['layout']['updatemenus'] = [\n",
    "    {\n",
    "        'buttons': [\n",
    "            {\n",
    "                'args': [None, {'frame': {'duration': 500, 'redraw': False},\n",
    "                         'fromcurrent': True, 'transition': {'duration': 300, 'easing': 'quadratic-in-out'}}],\n",
    "                'label': 'Play',\n",
    "                'method': 'animate'\n",
    "            },\n",
    "            {\n",
    "                'args': [[None], {'frame': {'duration': 0, 'redraw': False}, 'mode': 'immediate',\n",
    "                'transition': {'duration': 0}}],\n",
    "                'label': 'Pause',\n",
    "                'method': 'animate'\n",
    "            }\n",
    "        ],\n",
    "        'direction': 'left',\n",
    "        'pad': {'r': 10, 't': 87},\n",
    "        'showactive': False,\n",
    "        'type': 'buttons',\n",
    "        'x': 0.1,\n",
    "        'xanchor': 'right',\n",
    "        'y': 0,\n",
    "        'yanchor': 'top'\n",
    "    }\n",
    "]\n",
    "\n",
    "custom_colors = {\n",
    "    'Autos & Vehicles': 'rgb(171, 99, 250)',\n",
    "    'Comedy': 'rgb(230, 99, 250)',\n",
    "    'Education': 'rgb(99, 110, 250)',\n",
    "    'Entertainment': 'rgb(25, 211, 243)',\n",
    "    'Film & Animation': 'rgb(50, 170, 255)',\n",
    "    'Gaming': 'rgb(141,211,199)',\n",
    "    'Howto & Style': 'rgb(255,255,179)',\n",
    "    'Music': 'rgb(190,186,218)',\n",
    "    'News & Politics': 'rgb(251,128,114)',\n",
    "    'People & Blogs': 'rgb(128,177,211)',\n",
    "    'Pets & Animals': 'rgb(253,180,98)',\n",
    "    'Science & Technology': 'rgb(179,222,105)',\n",
    "    'Sports': 'rgb(252,205,229)',\n",
    "    'Travel & Events': 'rgb(217,217,217)',\n",
    "    'Nonprofits & Activism': 'rgb(188,128,189)',\n",
    "    'Shows': 'rgb(204,235,197)',\n",
    "}"
   ]
  },
  {
   "cell_type": "code",
   "execution_count": 47,
   "metadata": {
    "collapsed": true
   },
   "outputs": [],
   "source": [
    "col_name_template = '{month}_{cat}_{header}_gapminder_grid'\n",
    "month = \"17-11\"\n",
    "for cat in categories:\n",
    "    data_dict = {\n",
    "        'xsrc': df.loc[df['key']==col_name_template.format(\n",
    "            month=month, cat=cat, header='sum_comment_cnt'\n",
    "        ), 'value'].values[0],\n",
    "        'ysrc': df.loc[df['key']==col_name_template.format(\n",
    "            month=month, cat=cat, header='sum_likes_cnt'\n",
    "        ), 'value'].values[0],\n",
    "        'mode': 'markers',\n",
    "        'textsrc': df.loc[df['key']==col_name_template.format(\n",
    "            month=month, cat=cat, header='country'\n",
    "        ), 'value'].values[0],\n",
    "        'marker': {\n",
    "            'sizemode': 'area',\n",
    "            'sizeref': 200000,\n",
    "            'sizesrc': df.loc[df['key']==col_name_template.format(\n",
    "            month=month, cat=cat, header='cat_cnt'\n",
    "        ), 'value'].values[0],\n",
    "            'color': custom_colors[cat]\n",
    "        },\n",
    "        'name': cat\n",
    "    }\n",
    "    figure['data'].append(data_dict)"
   ]
  },
  {
   "cell_type": "code",
   "execution_count": 48,
   "metadata": {
    "collapsed": true
   },
   "outputs": [],
   "source": [
    "for month in month_list:\n",
    "    frame = {'data': [], 'name': str(month)}\n",
    "    for cat in categories:\n",
    "        data_dict = {\n",
    "            'xsrc': df.loc[df['key']==col_name_template.format(\n",
    "            month=month, cat=cat, header='sum_comment_cnt'\n",
    "        ), 'value'].values[0],\n",
    "        'ysrc': df.loc[df['key']==col_name_template.format(\n",
    "            month=month, cat=cat, header='sum_likes_cnt'\n",
    "        ), 'value'].values[0],\n",
    "        'mode': 'markers',\n",
    "        'textsrc': df.loc[df['key']==col_name_template.format(\n",
    "            month=month, cat=cat, header='country'\n",
    "        ), 'value'].values[0],\n",
    "        'marker': {\n",
    "            'sizemode': 'area',\n",
    "            'sizeref': 200000,\n",
    "            'sizesrc': df.loc[df['key']==col_name_template.format(\n",
    "            month=month, cat=cat, header='cat_cnt'\n",
    "        ), 'value'].values[0],\n",
    "                'color': custom_colors[cat],\n",
    "                \"opacity\": 0.8\n",
    "            },\n",
    "            'name': cat\n",
    "        }\n",
    "        frame['data'].append(data_dict)\n",
    "\n",
    "    figure['frames'].append(frame)\n",
    "    slider_step = {'args': [\n",
    "        [month],\n",
    "        {'frame': {'duration': 300, 'redraw': False},\n",
    "         'mode': 'immediate',\n",
    "       'transition': {'duration': 300}}\n",
    "     ],\n",
    "     'label': month,\n",
    "     'method': 'animate'}\n",
    "    sliders_dict['steps'].append(slider_step)\n",
    "\n",
    "figure['layout']['sliders'] = [sliders_dict]"
   ]
  },
  {
   "cell_type": "code",
   "execution_count": 49,
   "metadata": {},
   "outputs": [
    {
     "data": {
      "application/vnd.plotly.v1+json": {
       "data": [
        {
         "marker": {
          "color": "rgb(171, 99, 250)",
          "sizemode": "area",
          "sizeref": 200000,
          "sizesrc": [
           47
          ]
         },
         "mode": "markers",
         "name": "Autos & Vehicles",
         "textsrc": [
          "United States"
         ],
         "xsrc": [
          90286
         ],
         "ysrc": [
          577200
         ]
        },
        {
         "marker": {
          "color": "rgb(230, 99, 250)",
          "sizemode": "area",
          "sizeref": 200000,
          "sizesrc": [
           315
          ]
         },
         "mode": "markers",
         "name": "Comedy",
         "textsrc": [
          "United States"
         ],
         "xsrc": [
          1564253
         ],
         "ysrc": [
          14335435
         ]
        },
        {
         "marker": {
          "color": "rgb(99, 110, 250)",
          "sizemode": "area",
          "sizeref": 200000,
          "sizesrc": [
           138
          ]
         },
         "mode": "markers",
         "name": "Education",
         "textsrc": [
          "United States"
         ],
         "xsrc": [
          345432
         ],
         "ysrc": [
          2650043
         ]
        },
        {
         "marker": {
          "color": "rgb(25, 211, 243)",
          "sizemode": "area",
          "sizeref": 200000,
          "sizesrc": [
           790
          ]
         },
         "mode": "markers",
         "name": "Entertainment",
         "textsrc": [
          "United States"
         ],
         "xsrc": [
          3385777
         ],
         "ysrc": [
          26570394
         ]
        },
        {
         "marker": {
          "color": "rgb(50, 170, 255)",
          "sizemode": "area",
          "sizeref": 200000,
          "sizesrc": [
           174
          ]
         },
         "mode": "markers",
         "name": "Film & Animation",
         "textsrc": [
          "United States"
         ],
         "xsrc": [
          890131
         ],
         "ysrc": [
          8291683
         ]
        },
        {
         "marker": {
          "color": "rgb(141,211,199)",
          "sizemode": "area",
          "sizeref": 200000,
          "sizesrc": [
           22
          ]
         },
         "mode": "markers",
         "name": "Gaming",
         "textsrc": [
          "United States"
         ],
         "xsrc": [
          45093
         ],
         "ysrc": [
          338444
         ]
        },
        {
         "marker": {
          "color": "rgb(255,255,179)",
          "sizemode": "area",
          "sizeref": 200000,
          "sizesrc": [
           319
          ]
         },
         "mode": "markers",
         "name": "Howto & Style",
         "textsrc": [
          "United States"
         ],
         "xsrc": [
          1049190
         ],
         "ysrc": [
          8171398
         ]
        },
        {
         "marker": {
          "color": "rgb(190,186,218)",
          "sizemode": "area",
          "sizeref": 200000,
          "sizesrc": [
           613
          ]
         },
         "mode": "markers",
         "name": "Music",
         "textsrc": [
          "United States"
         ],
         "xsrc": [
          8210654
         ],
         "ysrc": [
          85173641
         ]
        },
        {
         "marker": {
          "color": "rgb(251,128,114)",
          "sizemode": "area",
          "sizeref": 200000,
          "sizesrc": [
           221
          ]
         },
         "mode": "markers",
         "name": "News & Politics",
         "textsrc": [
          "United States"
         ],
         "xsrc": [
          206700
         ],
         "ysrc": [
          622114
         ]
        },
        {
         "marker": {
          "color": "rgb(128,177,211)",
          "sizemode": "area",
          "sizeref": 200000,
          "sizesrc": [
           247
          ]
         },
         "mode": "markers",
         "name": "People & Blogs",
         "textsrc": [
          "United States"
         ],
         "xsrc": [
          541418
         ],
         "ysrc": [
          4250225
         ]
        },
        {
         "marker": {
          "color": "rgb(253,180,98)",
          "sizemode": "area",
          "sizeref": 200000,
          "sizesrc": [
           56
          ]
         },
         "mode": "markers",
         "name": "Pets & Animals",
         "textsrc": [
          "United States"
         ],
         "xsrc": [
          68762
         ],
         "ysrc": [
          745383
         ]
        },
        {
         "marker": {
          "color": "rgb(179,222,105)",
          "sizemode": "area",
          "sizeref": 200000,
          "sizesrc": [
           237
          ]
         },
         "mode": "markers",
         "name": "Science & Technology",
         "textsrc": [
          "United States"
         ],
         "xsrc": [
          1041804
         ],
         "ysrc": [
          6100452
         ]
        },
        {
         "marker": {
          "color": "rgb(252,205,229)",
          "sizemode": "area",
          "sizeref": 200000,
          "sizesrc": [
           195
          ]
         },
         "mode": "markers",
         "name": "Sports",
         "textsrc": [
          "United States"
         ],
         "xsrc": [
          155833
         ],
         "ysrc": [
          995708
         ]
        },
        {
         "marker": {
          "color": "rgb(217,217,217)",
          "sizemode": "area",
          "sizeref": 200000,
          "sizesrc": [
           25
          ]
         },
         "mode": "markers",
         "name": "Travel & Events",
         "textsrc": [
          "United States"
         ],
         "xsrc": [
          24879
         ],
         "ysrc": [
          210258
         ]
        },
        {
         "marker": {
          "color": "rgb(188,128,189)",
          "sizemode": "area",
          "sizeref": 200000,
          "sizesrc": []
         },
         "mode": "markers",
         "name": "Nonprofits & Activism",
         "textsrc": [],
         "xsrc": [],
         "ysrc": []
        },
        {
         "marker": {
          "color": "rgb(204,235,197)",
          "sizemode": "area",
          "sizeref": 200000,
          "sizesrc": []
         },
         "mode": "markers",
         "name": "Shows",
         "textsrc": [],
         "xsrc": [],
         "ysrc": []
        }
       ],
       "frames": [
        {
         "data": [
          {
           "marker": {
            "color": "rgb(171, 99, 250)",
            "opacity": 0.8,
            "sizemode": "area",
            "sizeref": 200000,
            "sizesrc": [
             47
            ]
           },
           "mode": "markers",
           "name": "Autos & Vehicles",
           "textsrc": [
            "United States"
           ],
           "xsrc": [
            90286
           ],
           "ysrc": [
            577200
           ]
          },
          {
           "marker": {
            "color": "rgb(230, 99, 250)",
            "opacity": 0.8,
            "sizemode": "area",
            "sizeref": 200000,
            "sizesrc": [
             315
            ]
           },
           "mode": "markers",
           "name": "Comedy",
           "textsrc": [
            "United States"
           ],
           "xsrc": [
            1564253
           ],
           "ysrc": [
            14335435
           ]
          },
          {
           "marker": {
            "color": "rgb(99, 110, 250)",
            "opacity": 0.8,
            "sizemode": "area",
            "sizeref": 200000,
            "sizesrc": [
             138
            ]
           },
           "mode": "markers",
           "name": "Education",
           "textsrc": [
            "United States"
           ],
           "xsrc": [
            345432
           ],
           "ysrc": [
            2650043
           ]
          },
          {
           "marker": {
            "color": "rgb(25, 211, 243)",
            "opacity": 0.8,
            "sizemode": "area",
            "sizeref": 200000,
            "sizesrc": [
             790
            ]
           },
           "mode": "markers",
           "name": "Entertainment",
           "textsrc": [
            "United States"
           ],
           "xsrc": [
            3385777
           ],
           "ysrc": [
            26570394
           ]
          },
          {
           "marker": {
            "color": "rgb(50, 170, 255)",
            "opacity": 0.8,
            "sizemode": "area",
            "sizeref": 200000,
            "sizesrc": [
             174
            ]
           },
           "mode": "markers",
           "name": "Film & Animation",
           "textsrc": [
            "United States"
           ],
           "xsrc": [
            890131
           ],
           "ysrc": [
            8291683
           ]
          },
          {
           "marker": {
            "color": "rgb(141,211,199)",
            "opacity": 0.8,
            "sizemode": "area",
            "sizeref": 200000,
            "sizesrc": [
             22
            ]
           },
           "mode": "markers",
           "name": "Gaming",
           "textsrc": [
            "United States"
           ],
           "xsrc": [
            45093
           ],
           "ysrc": [
            338444
           ]
          },
          {
           "marker": {
            "color": "rgb(255,255,179)",
            "opacity": 0.8,
            "sizemode": "area",
            "sizeref": 200000,
            "sizesrc": [
             319
            ]
           },
           "mode": "markers",
           "name": "Howto & Style",
           "textsrc": [
            "United States"
           ],
           "xsrc": [
            1049190
           ],
           "ysrc": [
            8171398
           ]
          },
          {
           "marker": {
            "color": "rgb(190,186,218)",
            "opacity": 0.8,
            "sizemode": "area",
            "sizeref": 200000,
            "sizesrc": [
             613
            ]
           },
           "mode": "markers",
           "name": "Music",
           "textsrc": [
            "United States"
           ],
           "xsrc": [
            8210654
           ],
           "ysrc": [
            85173641
           ]
          },
          {
           "marker": {
            "color": "rgb(251,128,114)",
            "opacity": 0.8,
            "sizemode": "area",
            "sizeref": 200000,
            "sizesrc": [
             221
            ]
           },
           "mode": "markers",
           "name": "News & Politics",
           "textsrc": [
            "United States"
           ],
           "xsrc": [
            206700
           ],
           "ysrc": [
            622114
           ]
          },
          {
           "marker": {
            "color": "rgb(128,177,211)",
            "opacity": 0.8,
            "sizemode": "area",
            "sizeref": 200000,
            "sizesrc": [
             247
            ]
           },
           "mode": "markers",
           "name": "People & Blogs",
           "textsrc": [
            "United States"
           ],
           "xsrc": [
            541418
           ],
           "ysrc": [
            4250225
           ]
          },
          {
           "marker": {
            "color": "rgb(253,180,98)",
            "opacity": 0.8,
            "sizemode": "area",
            "sizeref": 200000,
            "sizesrc": [
             56
            ]
           },
           "mode": "markers",
           "name": "Pets & Animals",
           "textsrc": [
            "United States"
           ],
           "xsrc": [
            68762
           ],
           "ysrc": [
            745383
           ]
          },
          {
           "marker": {
            "color": "rgb(179,222,105)",
            "opacity": 0.8,
            "sizemode": "area",
            "sizeref": 200000,
            "sizesrc": [
             237
            ]
           },
           "mode": "markers",
           "name": "Science & Technology",
           "textsrc": [
            "United States"
           ],
           "xsrc": [
            1041804
           ],
           "ysrc": [
            6100452
           ]
          },
          {
           "marker": {
            "color": "rgb(252,205,229)",
            "opacity": 0.8,
            "sizemode": "area",
            "sizeref": 200000,
            "sizesrc": [
             195
            ]
           },
           "mode": "markers",
           "name": "Sports",
           "textsrc": [
            "United States"
           ],
           "xsrc": [
            155833
           ],
           "ysrc": [
            995708
           ]
          },
          {
           "marker": {
            "color": "rgb(217,217,217)",
            "opacity": 0.8,
            "sizemode": "area",
            "sizeref": 200000,
            "sizesrc": [
             25
            ]
           },
           "mode": "markers",
           "name": "Travel & Events",
           "textsrc": [
            "United States"
           ],
           "xsrc": [
            24879
           ],
           "ysrc": [
            210258
           ]
          },
          {
           "marker": {
            "color": "rgb(188,128,189)",
            "opacity": 0.8,
            "sizemode": "area",
            "sizeref": 200000,
            "sizesrc": []
           },
           "mode": "markers",
           "name": "Nonprofits & Activism",
           "textsrc": [],
           "xsrc": [],
           "ysrc": []
          },
          {
           "marker": {
            "color": "rgb(204,235,197)",
            "opacity": 0.8,
            "sizemode": "area",
            "sizeref": 200000,
            "sizesrc": []
           },
           "mode": "markers",
           "name": "Shows",
           "textsrc": [],
           "xsrc": [],
           "ysrc": []
          }
         ],
         "name": "17-11"
        },
        {
         "data": [
          {
           "marker": {
            "color": "rgb(171, 99, 250)",
            "opacity": 0.8,
            "sizemode": "area",
            "sizeref": 200000,
            "sizesrc": [
             58
            ]
           },
           "mode": "markers",
           "name": "Autos & Vehicles",
           "textsrc": [
            "United States"
           ],
           "xsrc": [
            115329
           ],
           "ysrc": [
            879366
           ]
          },
          {
           "marker": {
            "color": "rgb(230, 99, 250)",
            "opacity": 0.8,
            "sizemode": "area",
            "sizeref": 200000,
            "sizesrc": [
             579
            ]
           },
           "mode": "markers",
           "name": "Comedy",
           "textsrc": [
            "United States"
           ],
           "xsrc": [
            3076674
           ],
           "ysrc": [
            35337729
           ]
          },
          {
           "marker": {
            "color": "rgb(99, 110, 250)",
            "opacity": 0.8,
            "sizemode": "area",
            "sizeref": 200000,
            "sizesrc": [
             224
            ]
           },
           "mode": "markers",
           "name": "Education",
           "textsrc": [
            "United States"
           ],
           "xsrc": [
            647924
           ],
           "ysrc": [
            6021732
           ]
          },
          {
           "marker": {
            "color": "rgb(25, 211, 243)",
            "opacity": 0.8,
            "sizemode": "area",
            "sizeref": 200000,
            "sizesrc": [
             1549
            ]
           },
           "mode": "markers",
           "name": "Entertainment",
           "textsrc": [
            "United States"
           ],
           "xsrc": [
            15621876
           ],
           "ysrc": [
            92625755
           ]
          },
          {
           "marker": {
            "color": "rgb(50, 170, 255)",
            "opacity": 0.8,
            "sizemode": "area",
            "sizeref": 200000,
            "sizesrc": [
             360
            ]
           },
           "mode": "markers",
           "name": "Film & Animation",
           "textsrc": [
            "United States"
           ],
           "xsrc": [
            822167
           ],
           "ysrc": [
            7213793
           ]
          },
          {
           "marker": {
            "color": "rgb(141,211,199)",
            "opacity": 0.8,
            "sizemode": "area",
            "sizeref": 200000,
            "sizesrc": [
             63
            ]
           },
           "mode": "markers",
           "name": "Gaming",
           "textsrc": [
            "United States"
           ],
           "xsrc": [
            160443
           ],
           "ysrc": [
            1339287
           ]
          },
          {
           "marker": {
            "color": "rgb(255,255,179)",
            "opacity": 0.8,
            "sizemode": "area",
            "sizeref": 200000,
            "sizesrc": [
             560
            ]
           },
           "mode": "markers",
           "name": "Howto & Style",
           "textsrc": [
            "United States"
           ],
           "xsrc": [
            2888997
           ],
           "ysrc": [
            15680711
           ]
          },
          {
           "marker": {
            "color": "rgb(190,186,218)",
            "opacity": 0.8,
            "sizemode": "area",
            "sizeref": 200000,
            "sizesrc": [
             950
            ]
           },
           "mode": "markers",
           "name": "Music",
           "textsrc": [
            "United States"
           ],
           "xsrc": [
            8535309
           ],
           "ysrc": [
            98943833
           ]
          },
          {
           "marker": {
            "color": "rgb(251,128,114)",
            "opacity": 0.8,
            "sizemode": "area",
            "sizeref": 200000,
            "sizesrc": [
             547
            ]
           },
           "mode": "markers",
           "name": "News & Politics",
           "textsrc": [
            "United States"
           ],
           "xsrc": [
            959924
           ],
           "ysrc": [
            2400651
           ]
          },
          {
           "marker": {
            "color": "rgb(128,177,211)",
            "opacity": 0.8,
            "sizemode": "area",
            "sizeref": 200000,
            "sizesrc": [
             518
            ]
           },
           "mode": "markers",
           "name": "People & Blogs",
           "textsrc": [
            "United States"
           ],
           "xsrc": [
            2837888
           ],
           "ysrc": [
            20231282
           ]
          },
          {
           "marker": {
            "color": "rgb(253,180,98)",
            "opacity": 0.8,
            "sizemode": "area",
            "sizeref": 200000,
            "sizesrc": [
             127
            ]
           },
           "mode": "markers",
           "name": "Pets & Animals",
           "textsrc": [
            "United States"
           ],
           "xsrc": [
            624152
           ],
           "ysrc": [
            3013307
           ]
          },
          {
           "marker": {
            "color": "rgb(179,222,105)",
            "opacity": 0.8,
            "sizemode": "area",
            "sizeref": 200000,
            "sizesrc": [
             289
            ]
           },
           "mode": "markers",
           "name": "Science & Technology",
           "textsrc": [
            "United States"
           ],
           "xsrc": [
            1041950
           ],
           "ysrc": [
            7686380
           ]
          },
          {
           "marker": {
            "color": "rgb(252,205,229)",
            "opacity": 0.8,
            "sizemode": "area",
            "sizeref": 200000,
            "sizesrc": [
             278
            ]
           },
           "mode": "markers",
           "name": "Sports",
           "textsrc": [
            "United States"
           ],
           "xsrc": [
            602915
           ],
           "ysrc": [
            5483375
           ]
          },
          {
           "marker": {
            "color": "rgb(217,217,217)",
            "opacity": 0.8,
            "sizemode": "area",
            "sizeref": 200000,
            "sizesrc": [
             76
            ]
           },
           "mode": "markers",
           "name": "Travel & Events",
           "textsrc": [
            "United States"
           ],
           "xsrc": [
            163625
           ],
           "ysrc": [
            462119
           ]
          },
          {
           "marker": {
            "color": "rgb(188,128,189)",
            "opacity": 0.8,
            "sizemode": "area",
            "sizeref": 200000,
            "sizesrc": [
             13
            ]
           },
           "mode": "markers",
           "name": "Nonprofits & Activism",
           "textsrc": [
            "United States"
           ],
           "xsrc": [
            1507
           ],
           "ysrc": [
            8382
           ]
          },
          {
           "marker": {
            "color": "rgb(204,235,197)",
            "opacity": 0.8,
            "sizemode": "area",
            "sizeref": 200000,
            "sizesrc": [
             9
            ]
           },
           "mode": "markers",
           "name": "Shows",
           "textsrc": [
            "United States"
           ],
           "xsrc": [
            16189
           ],
           "ysrc": [
            39369
           ]
          }
         ],
         "name": "17-12"
        },
        {
         "data": [
          {
           "marker": {
            "color": "rgb(171, 99, 250)",
            "opacity": 0.8,
            "sizemode": "area",
            "sizeref": 200000,
            "sizesrc": [
             91
            ]
           },
           "mode": "markers",
           "name": "Autos & Vehicles",
           "textsrc": [
            "United States"
           ],
           "xsrc": [
            93121
           ],
           "ysrc": [
            455691
           ]
          },
          {
           "marker": {
            "color": "rgb(230, 99, 250)",
            "opacity": 0.8,
            "sizemode": "area",
            "sizeref": 200000,
            "sizesrc": [
             465
            ]
           },
           "mode": "markers",
           "name": "Comedy",
           "textsrc": [
            "United States"
           ],
           "xsrc": [
            3444270
           ],
           "ysrc": [
            29575644
           ]
          },
          {
           "marker": {
            "color": "rgb(99, 110, 250)",
            "opacity": 0.8,
            "sizemode": "area",
            "sizeref": 200000,
            "sizesrc": [
             254
            ]
           },
           "mode": "markers",
           "name": "Education",
           "textsrc": [
            "United States"
           ],
           "xsrc": [
            394802
           ],
           "ysrc": [
            3569029
           ]
          },
          {
           "marker": {
            "color": "rgb(25, 211, 243)",
            "opacity": 0.8,
            "sizemode": "area",
            "sizeref": 200000,
            "sizesrc": [
             1288
            ]
           },
           "mode": "markers",
           "name": "Entertainment",
           "textsrc": [
            "United States"
           ],
           "xsrc": [
            11889648
           ],
           "ysrc": [
            35461787
           ]
          },
          {
           "marker": {
            "color": "rgb(50, 170, 255)",
            "opacity": 0.8,
            "sizemode": "area",
            "sizeref": 200000,
            "sizesrc": [
             354
            ]
           },
           "mode": "markers",
           "name": "Film & Animation",
           "textsrc": [
            "United States"
           ],
           "xsrc": [
            2119733
           ],
           "ysrc": [
            13185882
           ]
          },
          {
           "marker": {
            "color": "rgb(141,211,199)",
            "opacity": 0.8,
            "sizemode": "area",
            "sizeref": 200000,
            "sizesrc": [
             112
            ]
           },
           "mode": "markers",
           "name": "Gaming",
           "textsrc": [
            "United States"
           ],
           "xsrc": [
            1569932
           ],
           "ysrc": [
            6766966
           ]
          },
          {
           "marker": {
            "color": "rgb(255,255,179)",
            "opacity": 0.8,
            "sizemode": "area",
            "sizeref": 200000,
            "sizesrc": [
             551
            ]
           },
           "mode": "markers",
           "name": "Howto & Style",
           "textsrc": [
            "United States"
           ],
           "xsrc": [
            2680849
           ],
           "ysrc": [
            15438544
           ]
          },
          {
           "marker": {
            "color": "rgb(190,186,218)",
            "opacity": 0.8,
            "sizemode": "area",
            "sizeref": 200000,
            "sizesrc": [
             758
            ]
           },
           "mode": "markers",
           "name": "Music",
           "textsrc": [
            "United States"
           ],
           "xsrc": [
            7777954
           ],
           "ysrc": [
            97809472
           ]
          },
          {
           "marker": {
            "color": "rgb(251,128,114)",
            "opacity": 0.8,
            "sizemode": "area",
            "sizeref": 200000,
            "sizesrc": [
             500
            ]
           },
           "mode": "markers",
           "name": "News & Politics",
           "textsrc": [
            "United States"
           ],
           "xsrc": [
            639539
           ],
           "ysrc": [
            1939200
           ]
          },
          {
           "marker": {
            "color": "rgb(128,177,211)",
            "opacity": 0.8,
            "sizemode": "area",
            "sizeref": 200000,
            "sizesrc": [
             467
            ]
           },
           "mode": "markers",
           "name": "People & Blogs",
           "textsrc": [
            "United States"
           ],
           "xsrc": [
            1618080
           ],
           "ysrc": [
            15151061
           ]
          },
          {
           "marker": {
            "color": "rgb(253,180,98)",
            "opacity": 0.8,
            "sizemode": "area",
            "sizeref": 200000,
            "sizesrc": [
             200
            ]
           },
           "mode": "markers",
           "name": "Pets & Animals",
           "textsrc": [
            "United States"
           ],
           "xsrc": [
            469411
           ],
           "ysrc": [
            3449352
           ]
          },
          {
           "marker": {
            "color": "rgb(179,222,105)",
            "opacity": 0.8,
            "sizemode": "area",
            "sizeref": 200000,
            "sizesrc": [
             347
            ]
           },
           "mode": "markers",
           "name": "Science & Technology",
           "textsrc": [
            "United States"
           ],
           "xsrc": [
            533564
           ],
           "ysrc": [
            5762496
           ]
          },
          {
           "marker": {
            "color": "rgb(252,205,229)",
            "opacity": 0.8,
            "sizemode": "area",
            "sizeref": 200000,
            "sizesrc": [
             330
            ]
           },
           "mode": "markers",
           "name": "Sports",
           "textsrc": [
            "United States"
           ],
           "xsrc": [
            863110
           ],
           "ysrc": [
            10703601
           ]
          },
          {
           "marker": {
            "color": "rgb(217,217,217)",
            "opacity": 0.8,
            "sizemode": "area",
            "sizeref": 200000,
            "sizesrc": [
             56
            ]
           },
           "mode": "markers",
           "name": "Travel & Events",
           "textsrc": [
            "United States"
           ],
           "xsrc": [
            54004
           ],
           "ysrc": [
            310816
           ]
          },
          {
           "marker": {
            "color": "rgb(188,128,189)",
            "opacity": 0.8,
            "sizemode": "area",
            "sizeref": 200000,
            "sizesrc": [
             16
            ]
           },
           "mode": "markers",
           "name": "Nonprofits & Activism",
           "textsrc": [
            "United States"
           ],
           "xsrc": [
            4052640
           ],
           "ysrc": [
            12288453
           ]
          },
          {
           "marker": {
            "color": "rgb(204,235,197)",
            "opacity": 0.8,
            "sizemode": "area",
            "sizeref": 200000,
            "sizesrc": [
             7
            ]
           },
           "mode": "markers",
           "name": "Shows",
           "textsrc": [
            "United States"
           ],
           "xsrc": [
            5257
           ],
           "ysrc": [
            14446
           ]
          }
         ],
         "name": "18-01"
        },
        {
         "data": [
          {
           "marker": {
            "color": "rgb(171, 99, 250)",
            "opacity": 0.8,
            "sizemode": "area",
            "sizeref": 200000,
            "sizesrc": [
             129
            ]
           },
           "mode": "markers",
           "name": "Autos & Vehicles",
           "textsrc": [
            "United States"
           ],
           "xsrc": [
            244751
           ],
           "ysrc": [
            1345528
           ]
          },
          {
           "marker": {
            "color": "rgb(230, 99, 250)",
            "opacity": 0.8,
            "sizemode": "area",
            "sizeref": 200000,
            "sizesrc": [
             423
            ]
           },
           "mode": "markers",
           "name": "Comedy",
           "textsrc": [
            "United States"
           ],
           "xsrc": [
            1354489
           ],
           "ysrc": [
            15744798
           ]
          },
          {
           "marker": {
            "color": "rgb(99, 110, 250)",
            "opacity": 0.8,
            "sizemode": "area",
            "sizeref": 200000,
            "sizesrc": [
             235
            ]
           },
           "mode": "markers",
           "name": "Education",
           "textsrc": [
            "United States"
           ],
           "xsrc": [
            406825
           ],
           "ysrc": [
            3445396
           ]
          },
          {
           "marker": {
            "color": "rgb(25, 211, 243)",
            "opacity": 0.8,
            "sizemode": "area",
            "sizeref": 200000,
            "sizesrc": [
             1243
            ]
           },
           "mode": "markers",
           "name": "Entertainment",
           "textsrc": [
            "United States"
           ],
           "xsrc": [
            4305475
           ],
           "ysrc": [
            30031618
           ]
          },
          {
           "marker": {
            "color": "rgb(50, 170, 255)",
            "opacity": 0.8,
            "sizemode": "area",
            "sizeref": 200000,
            "sizesrc": [
             295
            ]
           },
           "mode": "markers",
           "name": "Film & Animation",
           "textsrc": [
            "United States"
           ],
           "xsrc": [
            2586592
           ],
           "ysrc": [
            22304634
           ]
          },
          {
           "marker": {
            "color": "rgb(141,211,199)",
            "opacity": 0.8,
            "sizemode": "area",
            "sizeref": 200000,
            "sizesrc": [
             75
            ]
           },
           "mode": "markers",
           "name": "Gaming",
           "textsrc": [
            "United States"
           ],
           "xsrc": [
            161987
           ],
           "ysrc": [
            1006172
           ]
          },
          {
           "marker": {
            "color": "rgb(255,255,179)",
            "opacity": 0.8,
            "sizemode": "area",
            "sizeref": 200000,
            "sizesrc": [
             479
            ]
           },
           "mode": "markers",
           "name": "Howto & Style",
           "textsrc": [
            "United States"
           ],
           "xsrc": [
            2187637
           ],
           "ysrc": [
            11282732
           ]
          },
          {
           "marker": {
            "color": "rgb(190,186,218)",
            "opacity": 0.8,
            "sizemode": "area",
            "sizeref": 200000,
            "sizesrc": [
             777
            ]
           },
           "mode": "markers",
           "name": "Music",
           "textsrc": [
            "United States"
           ],
           "xsrc": [
            5776652
           ],
           "ysrc": [
            80661436
           ]
          },
          {
           "marker": {
            "color": "rgb(251,128,114)",
            "opacity": 0.8,
            "sizemode": "area",
            "sizeref": 200000,
            "sizesrc": [
             521
            ]
           },
           "mode": "markers",
           "name": "News & Politics",
           "textsrc": [
            "United States"
           ],
           "xsrc": [
            926341
           ],
           "ysrc": [
            2233330
           ]
          },
          {
           "marker": {
            "color": "rgb(128,177,211)",
            "opacity": 0.8,
            "sizemode": "area",
            "sizeref": 200000,
            "sizesrc": [
             442
            ]
           },
           "mode": "markers",
           "name": "People & Blogs",
           "textsrc": [
            "United States"
           ],
           "xsrc": [
            2901981
           ],
           "ysrc": [
            21097309
           ]
          },
          {
           "marker": {
            "color": "rgb(253,180,98)",
            "opacity": 0.8,
            "sizemode": "area",
            "sizeref": 200000,
            "sizesrc": [
             156
            ]
           },
           "mode": "markers",
           "name": "Pets & Animals",
           "textsrc": [
            "United States"
           ],
           "xsrc": [
            203824
           ],
           "ysrc": [
            1710840
           ]
          },
          {
           "marker": {
            "color": "rgb(179,222,105)",
            "opacity": 0.8,
            "sizemode": "area",
            "sizeref": 200000,
            "sizesrc": [
             385
            ]
           },
           "mode": "markers",
           "name": "Science & Technology",
           "textsrc": [
            "United States"
           ],
           "xsrc": [
            1630144
           ],
           "ysrc": [
            12537147
           ]
          },
          {
           "marker": {
            "color": "rgb(252,205,229)",
            "opacity": 0.8,
            "sizemode": "area",
            "sizeref": 200000,
            "sizesrc": [
             321
            ]
           },
           "mode": "markers",
           "name": "Sports",
           "textsrc": [
            "United States"
           ],
           "xsrc": [
            1529135
           ],
           "ysrc": [
            11227010
           ]
          },
          {
           "marker": {
            "color": "rgb(217,217,217)",
            "opacity": 0.8,
            "sizemode": "area",
            "sizeref": 200000,
            "sizesrc": [
             72
            ]
           },
           "mode": "markers",
           "name": "Travel & Events",
           "textsrc": [
            "United States"
           ],
           "xsrc": [
            147431
           ],
           "ysrc": [
            839997
           ]
          },
          {
           "marker": {
            "color": "rgb(188,128,189)",
            "opacity": 0.8,
            "sizemode": "area",
            "sizeref": 200000,
            "sizesrc": [
             18
            ]
           },
           "mode": "markers",
           "name": "Nonprofits & Activism",
           "textsrc": [
            "United States"
           ],
           "xsrc": [
            749288
           ],
           "ysrc": [
            2428360
           ]
          },
          {
           "marker": {
            "color": "rgb(204,235,197)",
            "opacity": 0.8,
            "sizemode": "area",
            "sizeref": 200000,
            "sizesrc": []
           },
           "mode": "markers",
           "name": "Shows",
           "textsrc": [],
           "xsrc": [],
           "ysrc": []
          }
         ],
         "name": "18-02"
        },
        {
         "data": [
          {
           "marker": {
            "color": "rgb(171, 99, 250)",
            "opacity": 0.8,
            "sizemode": "area",
            "sizeref": 200000,
            "sizesrc": [
             16
            ]
           },
           "mode": "markers",
           "name": "Autos & Vehicles",
           "textsrc": [
            "United States"
           ],
           "xsrc": [
            52207
           ],
           "ysrc": [
            160661
           ]
          },
          {
           "marker": {
            "color": "rgb(230, 99, 250)",
            "opacity": 0.8,
            "sizemode": "area",
            "sizeref": 200000,
            "sizesrc": [
             524
            ]
           },
           "mode": "markers",
           "name": "Comedy",
           "textsrc": [
            "United States"
           ],
           "xsrc": [
            3067956
           ],
           "ysrc": [
            35059632
           ]
          },
          {
           "marker": {
            "color": "rgb(99, 110, 250)",
            "opacity": 0.8,
            "sizemode": "area",
            "sizeref": 200000,
            "sizesrc": [
             328
            ]
           },
           "mode": "markers",
           "name": "Education",
           "textsrc": [
            "United States"
           ],
           "xsrc": [
            998153
           ],
           "ysrc": [
            8717308
           ]
          },
          {
           "marker": {
            "color": "rgb(25, 211, 243)",
            "opacity": 0.8,
            "sizemode": "area",
            "sizeref": 200000,
            "sizesrc": [
             1537
            ]
           },
           "mode": "markers",
           "name": "Entertainment",
           "textsrc": [
            "United States"
           ],
           "xsrc": [
            11228281
           ],
           "ysrc": [
            82203203
           ]
          },
          {
           "marker": {
            "color": "rgb(50, 170, 255)",
            "opacity": 0.8,
            "sizemode": "area",
            "sizeref": 200000,
            "sizesrc": [
             337
            ]
           },
           "mode": "markers",
           "name": "Film & Animation",
           "textsrc": [
            "United States"
           ],
           "xsrc": [
            2380078
           ],
           "ysrc": [
            19915566
           ]
          },
          {
           "marker": {
            "color": "rgb(141,211,199)",
            "opacity": 0.8,
            "sizemode": "area",
            "sizeref": 200000,
            "sizesrc": [
             122
            ]
           },
           "mode": "markers",
           "name": "Gaming",
           "textsrc": [
            "United States"
           ],
           "xsrc": [
            1940909
           ],
           "ysrc": [
            9172933
           ]
          },
          {
           "marker": {
            "color": "rgb(255,255,179)",
            "opacity": 0.8,
            "sizemode": "area",
            "sizeref": 200000,
            "sizesrc": [
             810
            ]
           },
           "mode": "markers",
           "name": "Howto & Style",
           "textsrc": [
            "United States"
           ],
           "xsrc": [
            3879983
           ],
           "ysrc": [
            21772206
           ]
          },
          {
           "marker": {
            "color": "rgb(190,186,218)",
            "opacity": 0.8,
            "sizemode": "area",
            "sizeref": 200000,
            "sizesrc": [
             810
            ]
           },
           "mode": "markers",
           "name": "Music",
           "textsrc": [
            "United States"
           ],
           "xsrc": [
            15889288
           ],
           "ysrc": [
            162284475
           ]
          },
          {
           "marker": {
            "color": "rgb(251,128,114)",
            "opacity": 0.8,
            "sizemode": "area",
            "sizeref": 200000,
            "sizesrc": [
             195
            ]
           },
           "mode": "markers",
           "name": "News & Politics",
           "textsrc": [
            "United States"
           ],
           "xsrc": [
            834066
           ],
           "ysrc": [
            1733194
           ]
          },
          {
           "marker": {
            "color": "rgb(128,177,211)",
            "opacity": 0.8,
            "sizemode": "area",
            "sizeref": 200000,
            "sizesrc": [
             508
            ]
           },
           "mode": "markers",
           "name": "People & Blogs",
           "textsrc": [
            "United States"
           ],
           "xsrc": [
            1826559
           ],
           "ysrc": [
            21342425
           ]
          },
          {
           "marker": {
            "color": "rgb(253,180,98)",
            "opacity": 0.8,
            "sizemode": "area",
            "sizeref": 200000,
            "sizesrc": [
             136
            ]
           },
           "mode": "markers",
           "name": "Pets & Animals",
           "textsrc": [
            "United States"
           ],
           "xsrc": [
            259508
           ],
           "ysrc": [
            2638131
           ]
          },
          {
           "marker": {
            "color": "rgb(179,222,105)",
            "opacity": 0.8,
            "sizemode": "area",
            "sizeref": 200000,
            "sizesrc": [
             446
            ]
           },
           "mode": "markers",
           "name": "Science & Technology",
           "textsrc": [
            "United States"
           ],
           "xsrc": [
            1346636
           ],
           "ysrc": [
            12656447
           ]
          },
          {
           "marker": {
            "color": "rgb(252,205,229)",
            "opacity": 0.8,
            "sizemode": "area",
            "sizeref": 200000,
            "sizesrc": [
             334
            ]
           },
           "mode": "markers",
           "name": "Sports",
           "textsrc": [
            "United States"
           ],
           "xsrc": [
            2384523
           ],
           "ysrc": [
            23599125
           ]
          },
          {
           "marker": {
            "color": "rgb(217,217,217)",
            "opacity": 0.8,
            "sizemode": "area",
            "sizeref": 200000,
            "sizesrc": [
             80
            ]
           },
           "mode": "markers",
           "name": "Travel & Events",
           "textsrc": [
            "United States"
           ],
           "xsrc": [
            278755
           ],
           "ysrc": [
            1553956
           ]
          },
          {
           "marker": {
            "color": "rgb(188,128,189)",
            "opacity": 0.8,
            "sizemode": "area",
            "sizeref": 200000,
            "sizesrc": []
           },
           "mode": "markers",
           "name": "Nonprofits & Activism",
           "textsrc": [],
           "xsrc": [],
           "ysrc": []
          },
          {
           "marker": {
            "color": "rgb(204,235,197)",
            "opacity": 0.8,
            "sizemode": "area",
            "sizeref": 200000,
            "sizesrc": []
           },
           "mode": "markers",
           "name": "Shows",
           "textsrc": [],
           "xsrc": [],
           "ysrc": []
          }
         ],
         "name": "18-03"
        },
        {
         "data": [
          {
           "marker": {
            "color": "rgb(171, 99, 250)",
            "opacity": 0.8,
            "sizemode": "area",
            "sizeref": 200000,
            "sizesrc": [
             22
            ]
           },
           "mode": "markers",
           "name": "Autos & Vehicles",
           "textsrc": [
            "United States"
           ],
           "xsrc": [
            128750
           ],
           "ysrc": [
            348364
           ]
          },
          {
           "marker": {
            "color": "rgb(230, 99, 250)",
            "opacity": 0.8,
            "sizemode": "area",
            "sizeref": 200000,
            "sizesrc": [
             174
            ]
           },
           "mode": "markers",
           "name": "Comedy",
           "textsrc": [
            "United States"
           ],
           "xsrc": [
            1121827
           ],
           "ysrc": [
            11148093
           ]
          },
          {
           "marker": {
            "color": "rgb(99, 110, 250)",
            "opacity": 0.8,
            "sizemode": "area",
            "sizeref": 200000,
            "sizesrc": [
             87
            ]
           },
           "mode": "markers",
           "name": "Education",
           "textsrc": [
            "United States"
           ],
           "xsrc": [
            239597
           ],
           "ysrc": [
            1673210
           ]
          },
          {
           "marker": {
            "color": "rgb(25, 211, 243)",
            "opacity": 0.8,
            "sizemode": "area",
            "sizeref": 200000,
            "sizesrc": [
             472
            ]
           },
           "mode": "markers",
           "name": "Entertainment",
           "textsrc": [
            "United States"
           ],
           "xsrc": [
            3278431
           ],
           "ysrc": [
            29500690
           ]
          },
          {
           "marker": {
            "color": "rgb(50, 170, 255)",
            "opacity": 0.8,
            "sizemode": "area",
            "sizeref": 200000,
            "sizesrc": [
             83
            ]
           },
           "mode": "markers",
           "name": "Film & Animation",
           "textsrc": [
            "United States"
           ],
           "xsrc": [
            599918
           ],
           "ysrc": [
            5893462
           ]
          },
          {
           "marker": {
            "color": "rgb(141,211,199)",
            "opacity": 0.8,
            "sizemode": "area",
            "sizeref": 200000,
            "sizesrc": [
             33
            ]
           },
           "mode": "markers",
           "name": "Gaming",
           "textsrc": [
            "United States"
           ],
           "xsrc": [
            483548
           ],
           "ysrc": [
            1582116
           ]
          },
          {
           "marker": {
            "color": "rgb(255,255,179)",
            "opacity": 0.8,
            "sizemode": "area",
            "sizeref": 200000,
            "sizesrc": [
             208
            ]
           },
           "mode": "markers",
           "name": "Howto & Style",
           "textsrc": [
            "United States"
           ],
           "xsrc": [
            1403090
           ],
           "ysrc": [
            10513018
           ]
          },
          {
           "marker": {
            "color": "rgb(190,186,218)",
            "opacity": 0.8,
            "sizemode": "area",
            "sizeref": 200000,
            "sizesrc": [
             280
            ]
           },
           "mode": "markers",
           "name": "Music",
           "textsrc": [
            "United States"
           ],
           "xsrc": [
            4120651
           ],
           "ysrc": [
            49553779
           ]
          },
          {
           "marker": {
            "color": "rgb(251,128,114)",
            "opacity": 0.8,
            "sizemode": "area",
            "sizeref": 200000,
            "sizesrc": [
             47
            ]
           },
           "mode": "markers",
           "name": "News & Politics",
           "textsrc": [
            "United States"
           ],
           "xsrc": [
            401942
           ],
           "ysrc": [
            969375
           ]
          },
          {
           "marker": {
            "color": "rgb(128,177,211)",
            "opacity": 0.8,
            "sizemode": "area",
            "sizeref": 200000,
            "sizesrc": [
             158
            ]
           },
           "mode": "markers",
           "name": "People & Blogs",
           "textsrc": [
            "United States"
           ],
           "xsrc": [
            644550
           ],
           "ysrc": [
            7009204
           ]
          },
          {
           "marker": {
            "color": "rgb(253,180,98)",
            "opacity": 0.8,
            "sizemode": "area",
            "sizeref": 200000,
            "sizesrc": [
             24
            ]
           },
           "mode": "markers",
           "name": "Pets & Animals",
           "textsrc": [
            "United States"
           ],
           "xsrc": [
            89080
           ],
           "ysrc": [
            1050358
           ]
          },
          {
           "marker": {
            "color": "rgb(179,222,105)",
            "opacity": 0.8,
            "sizemode": "area",
            "sizeref": 200000,
            "sizesrc": [
             88
            ]
           },
           "mode": "markers",
           "name": "Science & Technology",
           "textsrc": [
            "United States"
           ],
           "xsrc": [
            177673
           ],
           "ysrc": [
            1702865
           ]
          },
          {
           "marker": {
            "color": "rgb(252,205,229)",
            "opacity": 0.8,
            "sizemode": "area",
            "sizeref": 200000,
            "sizesrc": [
             110
            ]
           },
           "mode": "markers",
           "name": "Sports",
           "textsrc": [
            "United States"
           ],
           "xsrc": [
            1029664
           ],
           "ysrc": [
            11698363
           ]
          },
          {
           "marker": {
            "color": "rgb(217,217,217)",
            "opacity": 0.8,
            "sizemode": "area",
            "sizeref": 200000,
            "sizesrc": [
             12
            ]
           },
           "mode": "markers",
           "name": "Travel & Events",
           "textsrc": [
            "United States"
           ],
           "xsrc": [
            73478
           ],
           "ysrc": [
            236222
           ]
          },
          {
           "marker": {
            "color": "rgb(188,128,189)",
            "opacity": 0.8,
            "sizemode": "area",
            "sizeref": 200000,
            "sizesrc": []
           },
           "mode": "markers",
           "name": "Nonprofits & Activism",
           "textsrc": [],
           "xsrc": [],
           "ysrc": []
          },
          {
           "marker": {
            "color": "rgb(204,235,197)",
            "opacity": 0.8,
            "sizemode": "area",
            "sizeref": 200000,
            "sizesrc": [
             2
            ]
           },
           "mode": "markers",
           "name": "Shows",
           "textsrc": [
            "United States"
           ],
           "xsrc": [
            3786
           ],
           "ysrc": [
            50417
           ]
          }
         ],
         "name": "18-04"
        }
       ],
       "layout": {
        "hovermode": "closest",
        "plot_bgcolor": "#FFFFFF",
        "sliders": [
         {
          "active": 0,
          "currentvalue": {
           "font": {
            "size": 20
           },
           "prefix": "month:",
           "visible": true,
           "xanchor": "right"
          },
          "len": 0.9,
          "pad": {
           "b": 10,
           "t": 50
          },
          "steps": [
           {
            "args": [
             [
              "17-11"
             ],
             {
              "frame": {
               "duration": 300,
               "redraw": false
              },
              "mode": "immediate",
              "transition": {
               "duration": 300
              }
             }
            ],
            "label": "17-11",
            "method": "animate"
           },
           {
            "args": [
             [
              "17-12"
             ],
             {
              "frame": {
               "duration": 300,
               "redraw": false
              },
              "mode": "immediate",
              "transition": {
               "duration": 300
              }
             }
            ],
            "label": "17-12",
            "method": "animate"
           },
           {
            "args": [
             [
              "18-01"
             ],
             {
              "frame": {
               "duration": 300,
               "redraw": false
              },
              "mode": "immediate",
              "transition": {
               "duration": 300
              }
             }
            ],
            "label": "18-01",
            "method": "animate"
           },
           {
            "args": [
             [
              "18-02"
             ],
             {
              "frame": {
               "duration": 300,
               "redraw": false
              },
              "mode": "immediate",
              "transition": {
               "duration": 300
              }
             }
            ],
            "label": "18-02",
            "method": "animate"
           },
           {
            "args": [
             [
              "18-03"
             ],
             {
              "frame": {
               "duration": 300,
               "redraw": false
              },
              "mode": "immediate",
              "transition": {
               "duration": 300
              }
             }
            ],
            "label": "18-03",
            "method": "animate"
           },
           {
            "args": [
             [
              "18-04"
             ],
             {
              "frame": {
               "duration": 300,
               "redraw": false
              },
              "mode": "immediate",
              "transition": {
               "duration": 300
              }
             }
            ],
            "label": "18-04",
            "method": "animate"
           }
          ],
          "transition": {
           "duration": 300,
           "easing": "cubic-in-out"
          },
          "x": 0.1,
          "xanchor": "left",
          "y": 0,
          "yanchor": "top"
         }
        ],
        "updatemenus": [
         {
          "buttons": [
           {
            "args": [
             null,
             {
              "frame": {
               "duration": 500,
               "redraw": false
              },
              "fromcurrent": true,
              "transition": {
               "duration": 300,
               "easing": "quadratic-in-out"
              }
             }
            ],
            "label": "Play",
            "method": "animate"
           },
           {
            "args": [
             [
              null
             ],
             {
              "frame": {
               "duration": 0,
               "redraw": false
              },
              "mode": "immediate",
              "transition": {
               "duration": 0
              }
             }
            ],
            "label": "Pause",
            "method": "animate"
           }
          ],
          "direction": "left",
          "pad": {
           "r": 10,
           "t": 87
          },
          "showactive": false,
          "type": "buttons",
          "x": 0.1,
          "xanchor": "right",
          "y": 0,
          "yanchor": "top"
         }
        ],
        "xaxis": {
         "autorange": "true",
         "gridcolor": "#FFFFFF",
         "range": [
          1507,
          15889288
         ],
         "title": "total comment count"
        },
        "yaxis": {
         "autorange": "true",
         "gridcolor": "#FFFFFF",
         "range": [
          8382,
          162284475
         ],
         "title": "total likes count"
        }
       }
      },
      "text/html": [
       "<div id=\"9952a008-d468-4244-aa0a-486fb8fca209\" style=\"height: 525px; width: 100%;\" class=\"plotly-graph-div\"></div><script type=\"text/javascript\">require([\"plotly\"], function(Plotly) { window.PLOTLYENV=window.PLOTLYENV || {};window.PLOTLYENV.BASE_URL=\"https://plot.ly\";\n",
       "        Plotly.plot(\n",
       "            '9952a008-d468-4244-aa0a-486fb8fca209',\n",
       "            [{\"xsrc\": [90286], \"ysrc\": [577200], \"mode\": \"markers\", \"textsrc\": [\"United States\"], \"marker\": {\"sizemode\": \"area\", \"sizeref\": 200000, \"sizesrc\": [47], \"color\": \"rgb(171, 99, 250)\"}, \"name\": \"Autos & Vehicles\"}, {\"xsrc\": [1564253], \"ysrc\": [14335435], \"mode\": \"markers\", \"textsrc\": [\"United States\"], \"marker\": {\"sizemode\": \"area\", \"sizeref\": 200000, \"sizesrc\": [315], \"color\": \"rgb(230, 99, 250)\"}, \"name\": \"Comedy\"}, {\"xsrc\": [345432], \"ysrc\": [2650043], \"mode\": \"markers\", \"textsrc\": [\"United States\"], \"marker\": {\"sizemode\": \"area\", \"sizeref\": 200000, \"sizesrc\": [138], \"color\": \"rgb(99, 110, 250)\"}, \"name\": \"Education\"}, {\"xsrc\": [3385777], \"ysrc\": [26570394], \"mode\": \"markers\", \"textsrc\": [\"United States\"], \"marker\": {\"sizemode\": \"area\", \"sizeref\": 200000, \"sizesrc\": [790], \"color\": \"rgb(25, 211, 243)\"}, \"name\": \"Entertainment\"}, {\"xsrc\": [890131], \"ysrc\": [8291683], \"mode\": \"markers\", \"textsrc\": [\"United States\"], \"marker\": {\"sizemode\": \"area\", \"sizeref\": 200000, \"sizesrc\": [174], \"color\": \"rgb(50, 170, 255)\"}, \"name\": \"Film & Animation\"}, {\"xsrc\": [45093], \"ysrc\": [338444], \"mode\": \"markers\", \"textsrc\": [\"United States\"], \"marker\": {\"sizemode\": \"area\", \"sizeref\": 200000, \"sizesrc\": [22], \"color\": \"rgb(141,211,199)\"}, \"name\": \"Gaming\"}, {\"xsrc\": [1049190], \"ysrc\": [8171398], \"mode\": \"markers\", \"textsrc\": [\"United States\"], \"marker\": {\"sizemode\": \"area\", \"sizeref\": 200000, \"sizesrc\": [319], \"color\": \"rgb(255,255,179)\"}, \"name\": \"Howto & Style\"}, {\"xsrc\": [8210654], \"ysrc\": [85173641], \"mode\": \"markers\", \"textsrc\": [\"United States\"], \"marker\": {\"sizemode\": \"area\", \"sizeref\": 200000, \"sizesrc\": [613], \"color\": \"rgb(190,186,218)\"}, \"name\": \"Music\"}, {\"xsrc\": [206700], \"ysrc\": [622114], \"mode\": \"markers\", \"textsrc\": [\"United States\"], \"marker\": {\"sizemode\": \"area\", \"sizeref\": 200000, \"sizesrc\": [221], \"color\": \"rgb(251,128,114)\"}, \"name\": \"News & Politics\"}, {\"xsrc\": [541418], \"ysrc\": [4250225], \"mode\": \"markers\", \"textsrc\": [\"United States\"], \"marker\": {\"sizemode\": \"area\", \"sizeref\": 200000, \"sizesrc\": [247], \"color\": \"rgb(128,177,211)\"}, \"name\": \"People & Blogs\"}, {\"xsrc\": [68762], \"ysrc\": [745383], \"mode\": \"markers\", \"textsrc\": [\"United States\"], \"marker\": {\"sizemode\": \"area\", \"sizeref\": 200000, \"sizesrc\": [56], \"color\": \"rgb(253,180,98)\"}, \"name\": \"Pets & Animals\"}, {\"xsrc\": [1041804], \"ysrc\": [6100452], \"mode\": \"markers\", \"textsrc\": [\"United States\"], \"marker\": {\"sizemode\": \"area\", \"sizeref\": 200000, \"sizesrc\": [237], \"color\": \"rgb(179,222,105)\"}, \"name\": \"Science & Technology\"}, {\"xsrc\": [155833], \"ysrc\": [995708], \"mode\": \"markers\", \"textsrc\": [\"United States\"], \"marker\": {\"sizemode\": \"area\", \"sizeref\": 200000, \"sizesrc\": [195], \"color\": \"rgb(252,205,229)\"}, \"name\": \"Sports\"}, {\"xsrc\": [24879], \"ysrc\": [210258], \"mode\": \"markers\", \"textsrc\": [\"United States\"], \"marker\": {\"sizemode\": \"area\", \"sizeref\": 200000, \"sizesrc\": [25], \"color\": \"rgb(217,217,217)\"}, \"name\": \"Travel & Events\"}, {\"xsrc\": [], \"ysrc\": [], \"mode\": \"markers\", \"textsrc\": [], \"marker\": {\"sizemode\": \"area\", \"sizeref\": 200000, \"sizesrc\": [], \"color\": \"rgb(188,128,189)\"}, \"name\": \"Nonprofits & Activism\"}, {\"xsrc\": [], \"ysrc\": [], \"mode\": \"markers\", \"textsrc\": [], \"marker\": {\"sizemode\": \"area\", \"sizeref\": 200000, \"sizesrc\": [], \"color\": \"rgb(204,235,197)\"}, \"name\": \"Shows\"}],\n",
       "            {\"xaxis\": {\"range\": [1507, 15889288], \"autorange\": \"true\", \"title\": \"total comment count\", \"gridcolor\": \"#FFFFFF\"}, \"yaxis\": {\"range\": [8382, 162284475], \"autorange\": \"true\", \"title\": \"total likes count\", \"gridcolor\": \"#FFFFFF\"}, \"hovermode\": \"closest\", \"plot_bgcolor\": \"#FFFFFF\", \"updatemenus\": [{\"buttons\": [{\"args\": [null, {\"frame\": {\"duration\": 500, \"redraw\": false}, \"fromcurrent\": true, \"transition\": {\"duration\": 300, \"easing\": \"quadratic-in-out\"}}], \"label\": \"Play\", \"method\": \"animate\"}, {\"args\": [[null], {\"frame\": {\"duration\": 0, \"redraw\": false}, \"mode\": \"immediate\", \"transition\": {\"duration\": 0}}], \"label\": \"Pause\", \"method\": \"animate\"}], \"direction\": \"left\", \"pad\": {\"r\": 10, \"t\": 87}, \"showactive\": false, \"type\": \"buttons\", \"x\": 0.1, \"xanchor\": \"right\", \"y\": 0, \"yanchor\": \"top\"}], \"sliders\": [{\"active\": 0, \"yanchor\": \"top\", \"xanchor\": \"left\", \"currentvalue\": {\"font\": {\"size\": 20}, \"prefix\": \"month:\", \"visible\": true, \"xanchor\": \"right\"}, \"transition\": {\"duration\": 300, \"easing\": \"cubic-in-out\"}, \"pad\": {\"b\": 10, \"t\": 50}, \"len\": 0.9, \"x\": 0.1, \"y\": 0, \"steps\": [{\"args\": [[\"17-11\"], {\"frame\": {\"duration\": 300, \"redraw\": false}, \"mode\": \"immediate\", \"transition\": {\"duration\": 300}}], \"label\": \"17-11\", \"method\": \"animate\"}, {\"args\": [[\"17-12\"], {\"frame\": {\"duration\": 300, \"redraw\": false}, \"mode\": \"immediate\", \"transition\": {\"duration\": 300}}], \"label\": \"17-12\", \"method\": \"animate\"}, {\"args\": [[\"18-01\"], {\"frame\": {\"duration\": 300, \"redraw\": false}, \"mode\": \"immediate\", \"transition\": {\"duration\": 300}}], \"label\": \"18-01\", \"method\": \"animate\"}, {\"args\": [[\"18-02\"], {\"frame\": {\"duration\": 300, \"redraw\": false}, \"mode\": \"immediate\", \"transition\": {\"duration\": 300}}], \"label\": \"18-02\", \"method\": \"animate\"}, {\"args\": [[\"18-03\"], {\"frame\": {\"duration\": 300, \"redraw\": false}, \"mode\": \"immediate\", \"transition\": {\"duration\": 300}}], \"label\": \"18-03\", \"method\": \"animate\"}, {\"args\": [[\"18-04\"], {\"frame\": {\"duration\": 300, \"redraw\": false}, \"mode\": \"immediate\", \"transition\": {\"duration\": 300}}], \"label\": \"18-04\", \"method\": \"animate\"}]}]},\n",
       "            {\"showLink\": true, \"linkText\": \"Export to plot.ly\"}\n",
       "        ).then(function () {return Plotly.addFrames('9952a008-d468-4244-aa0a-486fb8fca209',[{\"data\": [{\"xsrc\": [90286], \"ysrc\": [577200], \"mode\": \"markers\", \"textsrc\": [\"United States\"], \"marker\": {\"sizemode\": \"area\", \"sizeref\": 200000, \"sizesrc\": [47], \"color\": \"rgb(171, 99, 250)\", \"opacity\": 0.8}, \"name\": \"Autos & Vehicles\"}, {\"xsrc\": [1564253], \"ysrc\": [14335435], \"mode\": \"markers\", \"textsrc\": [\"United States\"], \"marker\": {\"sizemode\": \"area\", \"sizeref\": 200000, \"sizesrc\": [315], \"color\": \"rgb(230, 99, 250)\", \"opacity\": 0.8}, \"name\": \"Comedy\"}, {\"xsrc\": [345432], \"ysrc\": [2650043], \"mode\": \"markers\", \"textsrc\": [\"United States\"], \"marker\": {\"sizemode\": \"area\", \"sizeref\": 200000, \"sizesrc\": [138], \"color\": \"rgb(99, 110, 250)\", \"opacity\": 0.8}, \"name\": \"Education\"}, {\"xsrc\": [3385777], \"ysrc\": [26570394], \"mode\": \"markers\", \"textsrc\": [\"United States\"], \"marker\": {\"sizemode\": \"area\", \"sizeref\": 200000, \"sizesrc\": [790], \"color\": \"rgb(25, 211, 243)\", \"opacity\": 0.8}, \"name\": \"Entertainment\"}, {\"xsrc\": [890131], \"ysrc\": [8291683], \"mode\": \"markers\", \"textsrc\": [\"United States\"], \"marker\": {\"sizemode\": \"area\", \"sizeref\": 200000, \"sizesrc\": [174], \"color\": \"rgb(50, 170, 255)\", \"opacity\": 0.8}, \"name\": \"Film & Animation\"}, {\"xsrc\": [45093], \"ysrc\": [338444], \"mode\": \"markers\", \"textsrc\": [\"United States\"], \"marker\": {\"sizemode\": \"area\", \"sizeref\": 200000, \"sizesrc\": [22], \"color\": \"rgb(141,211,199)\", \"opacity\": 0.8}, \"name\": \"Gaming\"}, {\"xsrc\": [1049190], \"ysrc\": [8171398], \"mode\": \"markers\", \"textsrc\": [\"United States\"], \"marker\": {\"sizemode\": \"area\", \"sizeref\": 200000, \"sizesrc\": [319], \"color\": \"rgb(255,255,179)\", \"opacity\": 0.8}, \"name\": \"Howto & Style\"}, {\"xsrc\": [8210654], \"ysrc\": [85173641], \"mode\": \"markers\", \"textsrc\": [\"United States\"], \"marker\": {\"sizemode\": \"area\", \"sizeref\": 200000, \"sizesrc\": [613], \"color\": \"rgb(190,186,218)\", \"opacity\": 0.8}, \"name\": \"Music\"}, {\"xsrc\": [206700], \"ysrc\": [622114], \"mode\": \"markers\", \"textsrc\": [\"United States\"], \"marker\": {\"sizemode\": \"area\", \"sizeref\": 200000, \"sizesrc\": [221], \"color\": \"rgb(251,128,114)\", \"opacity\": 0.8}, \"name\": \"News & Politics\"}, {\"xsrc\": [541418], \"ysrc\": [4250225], \"mode\": \"markers\", \"textsrc\": [\"United States\"], \"marker\": {\"sizemode\": \"area\", \"sizeref\": 200000, \"sizesrc\": [247], \"color\": \"rgb(128,177,211)\", \"opacity\": 0.8}, \"name\": \"People & Blogs\"}, {\"xsrc\": [68762], \"ysrc\": [745383], \"mode\": \"markers\", \"textsrc\": [\"United States\"], \"marker\": {\"sizemode\": \"area\", \"sizeref\": 200000, \"sizesrc\": [56], \"color\": \"rgb(253,180,98)\", \"opacity\": 0.8}, \"name\": \"Pets & Animals\"}, {\"xsrc\": [1041804], \"ysrc\": [6100452], \"mode\": \"markers\", \"textsrc\": [\"United States\"], \"marker\": {\"sizemode\": \"area\", \"sizeref\": 200000, \"sizesrc\": [237], \"color\": \"rgb(179,222,105)\", \"opacity\": 0.8}, \"name\": \"Science & Technology\"}, {\"xsrc\": [155833], \"ysrc\": [995708], \"mode\": \"markers\", \"textsrc\": [\"United States\"], \"marker\": {\"sizemode\": \"area\", \"sizeref\": 200000, \"sizesrc\": [195], \"color\": \"rgb(252,205,229)\", \"opacity\": 0.8}, \"name\": \"Sports\"}, {\"xsrc\": [24879], \"ysrc\": [210258], \"mode\": \"markers\", \"textsrc\": [\"United States\"], \"marker\": {\"sizemode\": \"area\", \"sizeref\": 200000, \"sizesrc\": [25], \"color\": \"rgb(217,217,217)\", \"opacity\": 0.8}, \"name\": \"Travel & Events\"}, {\"xsrc\": [], \"ysrc\": [], \"mode\": \"markers\", \"textsrc\": [], \"marker\": {\"sizemode\": \"area\", \"sizeref\": 200000, \"sizesrc\": [], \"color\": \"rgb(188,128,189)\", \"opacity\": 0.8}, \"name\": \"Nonprofits & Activism\"}, {\"xsrc\": [], \"ysrc\": [], \"mode\": \"markers\", \"textsrc\": [], \"marker\": {\"sizemode\": \"area\", \"sizeref\": 200000, \"sizesrc\": [], \"color\": \"rgb(204,235,197)\", \"opacity\": 0.8}, \"name\": \"Shows\"}], \"name\": \"17-11\"}, {\"data\": [{\"xsrc\": [115329], \"ysrc\": [879366], \"mode\": \"markers\", \"textsrc\": [\"United States\"], \"marker\": {\"sizemode\": \"area\", \"sizeref\": 200000, \"sizesrc\": [58], \"color\": \"rgb(171, 99, 250)\", \"opacity\": 0.8}, \"name\": \"Autos & Vehicles\"}, {\"xsrc\": [3076674], \"ysrc\": [35337729], \"mode\": \"markers\", \"textsrc\": [\"United States\"], \"marker\": {\"sizemode\": \"area\", \"sizeref\": 200000, \"sizesrc\": [579], \"color\": \"rgb(230, 99, 250)\", \"opacity\": 0.8}, \"name\": \"Comedy\"}, {\"xsrc\": [647924], \"ysrc\": [6021732], \"mode\": \"markers\", \"textsrc\": [\"United States\"], \"marker\": {\"sizemode\": \"area\", \"sizeref\": 200000, \"sizesrc\": [224], \"color\": \"rgb(99, 110, 250)\", \"opacity\": 0.8}, \"name\": \"Education\"}, {\"xsrc\": [15621876], \"ysrc\": [92625755], \"mode\": \"markers\", \"textsrc\": [\"United States\"], \"marker\": {\"sizemode\": \"area\", \"sizeref\": 200000, \"sizesrc\": [1549], \"color\": \"rgb(25, 211, 243)\", \"opacity\": 0.8}, \"name\": \"Entertainment\"}, {\"xsrc\": [822167], \"ysrc\": [7213793], \"mode\": \"markers\", \"textsrc\": [\"United States\"], \"marker\": {\"sizemode\": \"area\", \"sizeref\": 200000, \"sizesrc\": [360], \"color\": \"rgb(50, 170, 255)\", \"opacity\": 0.8}, \"name\": \"Film & Animation\"}, {\"xsrc\": [160443], \"ysrc\": [1339287], \"mode\": \"markers\", \"textsrc\": [\"United States\"], \"marker\": {\"sizemode\": \"area\", \"sizeref\": 200000, \"sizesrc\": [63], \"color\": \"rgb(141,211,199)\", \"opacity\": 0.8}, \"name\": \"Gaming\"}, {\"xsrc\": [2888997], \"ysrc\": [15680711], \"mode\": \"markers\", \"textsrc\": [\"United States\"], \"marker\": {\"sizemode\": \"area\", \"sizeref\": 200000, \"sizesrc\": [560], \"color\": \"rgb(255,255,179)\", \"opacity\": 0.8}, \"name\": \"Howto & Style\"}, {\"xsrc\": [8535309], \"ysrc\": [98943833], \"mode\": \"markers\", \"textsrc\": [\"United States\"], \"marker\": {\"sizemode\": \"area\", \"sizeref\": 200000, \"sizesrc\": [950], \"color\": \"rgb(190,186,218)\", \"opacity\": 0.8}, \"name\": \"Music\"}, {\"xsrc\": [959924], \"ysrc\": [2400651], \"mode\": \"markers\", \"textsrc\": [\"United States\"], \"marker\": {\"sizemode\": \"area\", \"sizeref\": 200000, \"sizesrc\": [547], \"color\": \"rgb(251,128,114)\", \"opacity\": 0.8}, \"name\": \"News & Politics\"}, {\"xsrc\": [2837888], \"ysrc\": [20231282], \"mode\": \"markers\", \"textsrc\": [\"United States\"], \"marker\": {\"sizemode\": \"area\", \"sizeref\": 200000, \"sizesrc\": [518], \"color\": \"rgb(128,177,211)\", \"opacity\": 0.8}, \"name\": \"People & Blogs\"}, {\"xsrc\": [624152], \"ysrc\": [3013307], \"mode\": \"markers\", \"textsrc\": [\"United States\"], \"marker\": {\"sizemode\": \"area\", \"sizeref\": 200000, \"sizesrc\": [127], \"color\": \"rgb(253,180,98)\", \"opacity\": 0.8}, \"name\": \"Pets & Animals\"}, {\"xsrc\": [1041950], \"ysrc\": [7686380], \"mode\": \"markers\", \"textsrc\": [\"United States\"], \"marker\": {\"sizemode\": \"area\", \"sizeref\": 200000, \"sizesrc\": [289], \"color\": \"rgb(179,222,105)\", \"opacity\": 0.8}, \"name\": \"Science & Technology\"}, {\"xsrc\": [602915], \"ysrc\": [5483375], \"mode\": \"markers\", \"textsrc\": [\"United States\"], \"marker\": {\"sizemode\": \"area\", \"sizeref\": 200000, \"sizesrc\": [278], \"color\": \"rgb(252,205,229)\", \"opacity\": 0.8}, \"name\": \"Sports\"}, {\"xsrc\": [163625], \"ysrc\": [462119], \"mode\": \"markers\", \"textsrc\": [\"United States\"], \"marker\": {\"sizemode\": \"area\", \"sizeref\": 200000, \"sizesrc\": [76], \"color\": \"rgb(217,217,217)\", \"opacity\": 0.8}, \"name\": \"Travel & Events\"}, {\"xsrc\": [1507], \"ysrc\": [8382], \"mode\": \"markers\", \"textsrc\": [\"United States\"], \"marker\": {\"sizemode\": \"area\", \"sizeref\": 200000, \"sizesrc\": [13], \"color\": \"rgb(188,128,189)\", \"opacity\": 0.8}, \"name\": \"Nonprofits & Activism\"}, {\"xsrc\": [16189], \"ysrc\": [39369], \"mode\": \"markers\", \"textsrc\": [\"United States\"], \"marker\": {\"sizemode\": \"area\", \"sizeref\": 200000, \"sizesrc\": [9], \"color\": \"rgb(204,235,197)\", \"opacity\": 0.8}, \"name\": \"Shows\"}], \"name\": \"17-12\"}, {\"data\": [{\"xsrc\": [93121], \"ysrc\": [455691], \"mode\": \"markers\", \"textsrc\": [\"United States\"], \"marker\": {\"sizemode\": \"area\", \"sizeref\": 200000, \"sizesrc\": [91], \"color\": \"rgb(171, 99, 250)\", \"opacity\": 0.8}, \"name\": \"Autos & Vehicles\"}, {\"xsrc\": [3444270], \"ysrc\": [29575644], \"mode\": \"markers\", \"textsrc\": [\"United States\"], \"marker\": {\"sizemode\": \"area\", \"sizeref\": 200000, \"sizesrc\": [465], \"color\": \"rgb(230, 99, 250)\", \"opacity\": 0.8}, \"name\": \"Comedy\"}, {\"xsrc\": [394802], \"ysrc\": [3569029], \"mode\": \"markers\", \"textsrc\": [\"United States\"], \"marker\": {\"sizemode\": \"area\", \"sizeref\": 200000, \"sizesrc\": [254], \"color\": \"rgb(99, 110, 250)\", \"opacity\": 0.8}, \"name\": \"Education\"}, {\"xsrc\": [11889648], \"ysrc\": [35461787], \"mode\": \"markers\", \"textsrc\": [\"United States\"], \"marker\": {\"sizemode\": \"area\", \"sizeref\": 200000, \"sizesrc\": [1288], \"color\": \"rgb(25, 211, 243)\", \"opacity\": 0.8}, \"name\": \"Entertainment\"}, {\"xsrc\": [2119733], \"ysrc\": [13185882], \"mode\": \"markers\", \"textsrc\": [\"United States\"], \"marker\": {\"sizemode\": \"area\", \"sizeref\": 200000, \"sizesrc\": [354], \"color\": \"rgb(50, 170, 255)\", \"opacity\": 0.8}, \"name\": \"Film & Animation\"}, {\"xsrc\": [1569932], \"ysrc\": [6766966], \"mode\": \"markers\", \"textsrc\": [\"United States\"], \"marker\": {\"sizemode\": \"area\", \"sizeref\": 200000, \"sizesrc\": [112], \"color\": \"rgb(141,211,199)\", \"opacity\": 0.8}, \"name\": \"Gaming\"}, {\"xsrc\": [2680849], \"ysrc\": [15438544], \"mode\": \"markers\", \"textsrc\": [\"United States\"], \"marker\": {\"sizemode\": \"area\", \"sizeref\": 200000, \"sizesrc\": [551], \"color\": \"rgb(255,255,179)\", \"opacity\": 0.8}, \"name\": \"Howto & Style\"}, {\"xsrc\": [7777954], \"ysrc\": [97809472], \"mode\": \"markers\", \"textsrc\": [\"United States\"], \"marker\": {\"sizemode\": \"area\", \"sizeref\": 200000, \"sizesrc\": [758], \"color\": \"rgb(190,186,218)\", \"opacity\": 0.8}, \"name\": \"Music\"}, {\"xsrc\": [639539], \"ysrc\": [1939200], \"mode\": \"markers\", \"textsrc\": [\"United States\"], \"marker\": {\"sizemode\": \"area\", \"sizeref\": 200000, \"sizesrc\": [500], \"color\": \"rgb(251,128,114)\", \"opacity\": 0.8}, \"name\": \"News & Politics\"}, {\"xsrc\": [1618080], \"ysrc\": [15151061], \"mode\": \"markers\", \"textsrc\": [\"United States\"], \"marker\": {\"sizemode\": \"area\", \"sizeref\": 200000, \"sizesrc\": [467], \"color\": \"rgb(128,177,211)\", \"opacity\": 0.8}, \"name\": \"People & Blogs\"}, {\"xsrc\": [469411], \"ysrc\": [3449352], \"mode\": \"markers\", \"textsrc\": [\"United States\"], \"marker\": {\"sizemode\": \"area\", \"sizeref\": 200000, \"sizesrc\": [200], \"color\": \"rgb(253,180,98)\", \"opacity\": 0.8}, \"name\": \"Pets & Animals\"}, {\"xsrc\": [533564], \"ysrc\": [5762496], \"mode\": \"markers\", \"textsrc\": [\"United States\"], \"marker\": {\"sizemode\": \"area\", \"sizeref\": 200000, \"sizesrc\": [347], \"color\": \"rgb(179,222,105)\", \"opacity\": 0.8}, \"name\": \"Science & Technology\"}, {\"xsrc\": [863110], \"ysrc\": [10703601], \"mode\": \"markers\", \"textsrc\": [\"United States\"], \"marker\": {\"sizemode\": \"area\", \"sizeref\": 200000, \"sizesrc\": [330], \"color\": \"rgb(252,205,229)\", \"opacity\": 0.8}, \"name\": \"Sports\"}, {\"xsrc\": [54004], \"ysrc\": [310816], \"mode\": \"markers\", \"textsrc\": [\"United States\"], \"marker\": {\"sizemode\": \"area\", \"sizeref\": 200000, \"sizesrc\": [56], \"color\": \"rgb(217,217,217)\", \"opacity\": 0.8}, \"name\": \"Travel & Events\"}, {\"xsrc\": [4052640], \"ysrc\": [12288453], \"mode\": \"markers\", \"textsrc\": [\"United States\"], \"marker\": {\"sizemode\": \"area\", \"sizeref\": 200000, \"sizesrc\": [16], \"color\": \"rgb(188,128,189)\", \"opacity\": 0.8}, \"name\": \"Nonprofits & Activism\"}, {\"xsrc\": [5257], \"ysrc\": [14446], \"mode\": \"markers\", \"textsrc\": [\"United States\"], \"marker\": {\"sizemode\": \"area\", \"sizeref\": 200000, \"sizesrc\": [7], \"color\": \"rgb(204,235,197)\", \"opacity\": 0.8}, \"name\": \"Shows\"}], \"name\": \"18-01\"}, {\"data\": [{\"xsrc\": [244751], \"ysrc\": [1345528], \"mode\": \"markers\", \"textsrc\": [\"United States\"], \"marker\": {\"sizemode\": \"area\", \"sizeref\": 200000, \"sizesrc\": [129], \"color\": \"rgb(171, 99, 250)\", \"opacity\": 0.8}, \"name\": \"Autos & Vehicles\"}, {\"xsrc\": [1354489], \"ysrc\": [15744798], \"mode\": \"markers\", \"textsrc\": [\"United States\"], \"marker\": {\"sizemode\": \"area\", \"sizeref\": 200000, \"sizesrc\": [423], \"color\": \"rgb(230, 99, 250)\", \"opacity\": 0.8}, \"name\": \"Comedy\"}, {\"xsrc\": [406825], \"ysrc\": [3445396], \"mode\": \"markers\", \"textsrc\": [\"United States\"], \"marker\": {\"sizemode\": \"area\", \"sizeref\": 200000, \"sizesrc\": [235], \"color\": \"rgb(99, 110, 250)\", \"opacity\": 0.8}, \"name\": \"Education\"}, {\"xsrc\": [4305475], \"ysrc\": [30031618], \"mode\": \"markers\", \"textsrc\": [\"United States\"], \"marker\": {\"sizemode\": \"area\", \"sizeref\": 200000, \"sizesrc\": [1243], \"color\": \"rgb(25, 211, 243)\", \"opacity\": 0.8}, \"name\": \"Entertainment\"}, {\"xsrc\": [2586592], \"ysrc\": [22304634], \"mode\": \"markers\", \"textsrc\": [\"United States\"], \"marker\": {\"sizemode\": \"area\", \"sizeref\": 200000, \"sizesrc\": [295], \"color\": \"rgb(50, 170, 255)\", \"opacity\": 0.8}, \"name\": \"Film & Animation\"}, {\"xsrc\": [161987], \"ysrc\": [1006172], \"mode\": \"markers\", \"textsrc\": [\"United States\"], \"marker\": {\"sizemode\": \"area\", \"sizeref\": 200000, \"sizesrc\": [75], \"color\": \"rgb(141,211,199)\", \"opacity\": 0.8}, \"name\": \"Gaming\"}, {\"xsrc\": [2187637], \"ysrc\": [11282732], \"mode\": \"markers\", \"textsrc\": [\"United States\"], \"marker\": {\"sizemode\": \"area\", \"sizeref\": 200000, \"sizesrc\": [479], \"color\": \"rgb(255,255,179)\", \"opacity\": 0.8}, \"name\": \"Howto & Style\"}, {\"xsrc\": [5776652], \"ysrc\": [80661436], \"mode\": \"markers\", \"textsrc\": [\"United States\"], \"marker\": {\"sizemode\": \"area\", \"sizeref\": 200000, \"sizesrc\": [777], \"color\": \"rgb(190,186,218)\", \"opacity\": 0.8}, \"name\": \"Music\"}, {\"xsrc\": [926341], \"ysrc\": [2233330], \"mode\": \"markers\", \"textsrc\": [\"United States\"], \"marker\": {\"sizemode\": \"area\", \"sizeref\": 200000, \"sizesrc\": [521], \"color\": \"rgb(251,128,114)\", \"opacity\": 0.8}, \"name\": \"News & Politics\"}, {\"xsrc\": [2901981], \"ysrc\": [21097309], \"mode\": \"markers\", \"textsrc\": [\"United States\"], \"marker\": {\"sizemode\": \"area\", \"sizeref\": 200000, \"sizesrc\": [442], \"color\": \"rgb(128,177,211)\", \"opacity\": 0.8}, \"name\": \"People & Blogs\"}, {\"xsrc\": [203824], \"ysrc\": [1710840], \"mode\": \"markers\", \"textsrc\": [\"United States\"], \"marker\": {\"sizemode\": \"area\", \"sizeref\": 200000, \"sizesrc\": [156], \"color\": \"rgb(253,180,98)\", \"opacity\": 0.8}, \"name\": \"Pets & Animals\"}, {\"xsrc\": [1630144], \"ysrc\": [12537147], \"mode\": \"markers\", \"textsrc\": [\"United States\"], \"marker\": {\"sizemode\": \"area\", \"sizeref\": 200000, \"sizesrc\": [385], \"color\": \"rgb(179,222,105)\", \"opacity\": 0.8}, \"name\": \"Science & Technology\"}, {\"xsrc\": [1529135], \"ysrc\": [11227010], \"mode\": \"markers\", \"textsrc\": [\"United States\"], \"marker\": {\"sizemode\": \"area\", \"sizeref\": 200000, \"sizesrc\": [321], \"color\": \"rgb(252,205,229)\", \"opacity\": 0.8}, \"name\": \"Sports\"}, {\"xsrc\": [147431], \"ysrc\": [839997], \"mode\": \"markers\", \"textsrc\": [\"United States\"], \"marker\": {\"sizemode\": \"area\", \"sizeref\": 200000, \"sizesrc\": [72], \"color\": \"rgb(217,217,217)\", \"opacity\": 0.8}, \"name\": \"Travel & Events\"}, {\"xsrc\": [749288], \"ysrc\": [2428360], \"mode\": \"markers\", \"textsrc\": [\"United States\"], \"marker\": {\"sizemode\": \"area\", \"sizeref\": 200000, \"sizesrc\": [18], \"color\": \"rgb(188,128,189)\", \"opacity\": 0.8}, \"name\": \"Nonprofits & Activism\"}, {\"xsrc\": [], \"ysrc\": [], \"mode\": \"markers\", \"textsrc\": [], \"marker\": {\"sizemode\": \"area\", \"sizeref\": 200000, \"sizesrc\": [], \"color\": \"rgb(204,235,197)\", \"opacity\": 0.8}, \"name\": \"Shows\"}], \"name\": \"18-02\"}, {\"data\": [{\"xsrc\": [52207], \"ysrc\": [160661], \"mode\": \"markers\", \"textsrc\": [\"United States\"], \"marker\": {\"sizemode\": \"area\", \"sizeref\": 200000, \"sizesrc\": [16], \"color\": \"rgb(171, 99, 250)\", \"opacity\": 0.8}, \"name\": \"Autos & Vehicles\"}, {\"xsrc\": [3067956], \"ysrc\": [35059632], \"mode\": \"markers\", \"textsrc\": [\"United States\"], \"marker\": {\"sizemode\": \"area\", \"sizeref\": 200000, \"sizesrc\": [524], \"color\": \"rgb(230, 99, 250)\", \"opacity\": 0.8}, \"name\": \"Comedy\"}, {\"xsrc\": [998153], \"ysrc\": [8717308], \"mode\": \"markers\", \"textsrc\": [\"United States\"], \"marker\": {\"sizemode\": \"area\", \"sizeref\": 200000, \"sizesrc\": [328], \"color\": \"rgb(99, 110, 250)\", \"opacity\": 0.8}, \"name\": \"Education\"}, {\"xsrc\": [11228281], \"ysrc\": [82203203], \"mode\": \"markers\", \"textsrc\": [\"United States\"], \"marker\": {\"sizemode\": \"area\", \"sizeref\": 200000, \"sizesrc\": [1537], \"color\": \"rgb(25, 211, 243)\", \"opacity\": 0.8}, \"name\": \"Entertainment\"}, {\"xsrc\": [2380078], \"ysrc\": [19915566], \"mode\": \"markers\", \"textsrc\": [\"United States\"], \"marker\": {\"sizemode\": \"area\", \"sizeref\": 200000, \"sizesrc\": [337], \"color\": \"rgb(50, 170, 255)\", \"opacity\": 0.8}, \"name\": \"Film & Animation\"}, {\"xsrc\": [1940909], \"ysrc\": [9172933], \"mode\": \"markers\", \"textsrc\": [\"United States\"], \"marker\": {\"sizemode\": \"area\", \"sizeref\": 200000, \"sizesrc\": [122], \"color\": \"rgb(141,211,199)\", \"opacity\": 0.8}, \"name\": \"Gaming\"}, {\"xsrc\": [3879983], \"ysrc\": [21772206], \"mode\": \"markers\", \"textsrc\": [\"United States\"], \"marker\": {\"sizemode\": \"area\", \"sizeref\": 200000, \"sizesrc\": [810], \"color\": \"rgb(255,255,179)\", \"opacity\": 0.8}, \"name\": \"Howto & Style\"}, {\"xsrc\": [15889288], \"ysrc\": [162284475], \"mode\": \"markers\", \"textsrc\": [\"United States\"], \"marker\": {\"sizemode\": \"area\", \"sizeref\": 200000, \"sizesrc\": [810], \"color\": \"rgb(190,186,218)\", \"opacity\": 0.8}, \"name\": \"Music\"}, {\"xsrc\": [834066], \"ysrc\": [1733194], \"mode\": \"markers\", \"textsrc\": [\"United States\"], \"marker\": {\"sizemode\": \"area\", \"sizeref\": 200000, \"sizesrc\": [195], \"color\": \"rgb(251,128,114)\", \"opacity\": 0.8}, \"name\": \"News & Politics\"}, {\"xsrc\": [1826559], \"ysrc\": [21342425], \"mode\": \"markers\", \"textsrc\": [\"United States\"], \"marker\": {\"sizemode\": \"area\", \"sizeref\": 200000, \"sizesrc\": [508], \"color\": \"rgb(128,177,211)\", \"opacity\": 0.8}, \"name\": \"People & Blogs\"}, {\"xsrc\": [259508], \"ysrc\": [2638131], \"mode\": \"markers\", \"textsrc\": [\"United States\"], \"marker\": {\"sizemode\": \"area\", \"sizeref\": 200000, \"sizesrc\": [136], \"color\": \"rgb(253,180,98)\", \"opacity\": 0.8}, \"name\": \"Pets & Animals\"}, {\"xsrc\": [1346636], \"ysrc\": [12656447], \"mode\": \"markers\", \"textsrc\": [\"United States\"], \"marker\": {\"sizemode\": \"area\", \"sizeref\": 200000, \"sizesrc\": [446], \"color\": \"rgb(179,222,105)\", \"opacity\": 0.8}, \"name\": \"Science & Technology\"}, {\"xsrc\": [2384523], \"ysrc\": [23599125], \"mode\": \"markers\", \"textsrc\": [\"United States\"], \"marker\": {\"sizemode\": \"area\", \"sizeref\": 200000, \"sizesrc\": [334], \"color\": \"rgb(252,205,229)\", \"opacity\": 0.8}, \"name\": \"Sports\"}, {\"xsrc\": [278755], \"ysrc\": [1553956], \"mode\": \"markers\", \"textsrc\": [\"United States\"], \"marker\": {\"sizemode\": \"area\", \"sizeref\": 200000, \"sizesrc\": [80], \"color\": \"rgb(217,217,217)\", \"opacity\": 0.8}, \"name\": \"Travel & Events\"}, {\"xsrc\": [], \"ysrc\": [], \"mode\": \"markers\", \"textsrc\": [], \"marker\": {\"sizemode\": \"area\", \"sizeref\": 200000, \"sizesrc\": [], \"color\": \"rgb(188,128,189)\", \"opacity\": 0.8}, \"name\": \"Nonprofits & Activism\"}, {\"xsrc\": [], \"ysrc\": [], \"mode\": \"markers\", \"textsrc\": [], \"marker\": {\"sizemode\": \"area\", \"sizeref\": 200000, \"sizesrc\": [], \"color\": \"rgb(204,235,197)\", \"opacity\": 0.8}, \"name\": \"Shows\"}], \"name\": \"18-03\"}, {\"data\": [{\"xsrc\": [128750], \"ysrc\": [348364], \"mode\": \"markers\", \"textsrc\": [\"United States\"], \"marker\": {\"sizemode\": \"area\", \"sizeref\": 200000, \"sizesrc\": [22], \"color\": \"rgb(171, 99, 250)\", \"opacity\": 0.8}, \"name\": \"Autos & Vehicles\"}, {\"xsrc\": [1121827], \"ysrc\": [11148093], \"mode\": \"markers\", \"textsrc\": [\"United States\"], \"marker\": {\"sizemode\": \"area\", \"sizeref\": 200000, \"sizesrc\": [174], \"color\": \"rgb(230, 99, 250)\", \"opacity\": 0.8}, \"name\": \"Comedy\"}, {\"xsrc\": [239597], \"ysrc\": [1673210], \"mode\": \"markers\", \"textsrc\": [\"United States\"], \"marker\": {\"sizemode\": \"area\", \"sizeref\": 200000, \"sizesrc\": [87], \"color\": \"rgb(99, 110, 250)\", \"opacity\": 0.8}, \"name\": \"Education\"}, {\"xsrc\": [3278431], \"ysrc\": [29500690], \"mode\": \"markers\", \"textsrc\": [\"United States\"], \"marker\": {\"sizemode\": \"area\", \"sizeref\": 200000, \"sizesrc\": [472], \"color\": \"rgb(25, 211, 243)\", \"opacity\": 0.8}, \"name\": \"Entertainment\"}, {\"xsrc\": [599918], \"ysrc\": [5893462], \"mode\": \"markers\", \"textsrc\": [\"United States\"], \"marker\": {\"sizemode\": \"area\", \"sizeref\": 200000, \"sizesrc\": [83], \"color\": \"rgb(50, 170, 255)\", \"opacity\": 0.8}, \"name\": \"Film & Animation\"}, {\"xsrc\": [483548], \"ysrc\": [1582116], \"mode\": \"markers\", \"textsrc\": [\"United States\"], \"marker\": {\"sizemode\": \"area\", \"sizeref\": 200000, \"sizesrc\": [33], \"color\": \"rgb(141,211,199)\", \"opacity\": 0.8}, \"name\": \"Gaming\"}, {\"xsrc\": [1403090], \"ysrc\": [10513018], \"mode\": \"markers\", \"textsrc\": [\"United States\"], \"marker\": {\"sizemode\": \"area\", \"sizeref\": 200000, \"sizesrc\": [208], \"color\": \"rgb(255,255,179)\", \"opacity\": 0.8}, \"name\": \"Howto & Style\"}, {\"xsrc\": [4120651], \"ysrc\": [49553779], \"mode\": \"markers\", \"textsrc\": [\"United States\"], \"marker\": {\"sizemode\": \"area\", \"sizeref\": 200000, \"sizesrc\": [280], \"color\": \"rgb(190,186,218)\", \"opacity\": 0.8}, \"name\": \"Music\"}, {\"xsrc\": [401942], \"ysrc\": [969375], \"mode\": \"markers\", \"textsrc\": [\"United States\"], \"marker\": {\"sizemode\": \"area\", \"sizeref\": 200000, \"sizesrc\": [47], \"color\": \"rgb(251,128,114)\", \"opacity\": 0.8}, \"name\": \"News & Politics\"}, {\"xsrc\": [644550], \"ysrc\": [7009204], \"mode\": \"markers\", \"textsrc\": [\"United States\"], \"marker\": {\"sizemode\": \"area\", \"sizeref\": 200000, \"sizesrc\": [158], \"color\": \"rgb(128,177,211)\", \"opacity\": 0.8}, \"name\": \"People & Blogs\"}, {\"xsrc\": [89080], \"ysrc\": [1050358], \"mode\": \"markers\", \"textsrc\": [\"United States\"], \"marker\": {\"sizemode\": \"area\", \"sizeref\": 200000, \"sizesrc\": [24], \"color\": \"rgb(253,180,98)\", \"opacity\": 0.8}, \"name\": \"Pets & Animals\"}, {\"xsrc\": [177673], \"ysrc\": [1702865], \"mode\": \"markers\", \"textsrc\": [\"United States\"], \"marker\": {\"sizemode\": \"area\", \"sizeref\": 200000, \"sizesrc\": [88], \"color\": \"rgb(179,222,105)\", \"opacity\": 0.8}, \"name\": \"Science & Technology\"}, {\"xsrc\": [1029664], \"ysrc\": [11698363], \"mode\": \"markers\", \"textsrc\": [\"United States\"], \"marker\": {\"sizemode\": \"area\", \"sizeref\": 200000, \"sizesrc\": [110], \"color\": \"rgb(252,205,229)\", \"opacity\": 0.8}, \"name\": \"Sports\"}, {\"xsrc\": [73478], \"ysrc\": [236222], \"mode\": \"markers\", \"textsrc\": [\"United States\"], \"marker\": {\"sizemode\": \"area\", \"sizeref\": 200000, \"sizesrc\": [12], \"color\": \"rgb(217,217,217)\", \"opacity\": 0.8}, \"name\": \"Travel & Events\"}, {\"xsrc\": [], \"ysrc\": [], \"mode\": \"markers\", \"textsrc\": [], \"marker\": {\"sizemode\": \"area\", \"sizeref\": 200000, \"sizesrc\": [], \"color\": \"rgb(188,128,189)\", \"opacity\": 0.8}, \"name\": \"Nonprofits & Activism\"}, {\"xsrc\": [3786], \"ysrc\": [50417], \"mode\": \"markers\", \"textsrc\": [\"United States\"], \"marker\": {\"sizemode\": \"area\", \"sizeref\": 200000, \"sizesrc\": [2], \"color\": \"rgb(204,235,197)\", \"opacity\": 0.8}, \"name\": \"Shows\"}], \"name\": \"18-04\"}]);}).then(function(){Plotly.animate('9952a008-d468-4244-aa0a-486fb8fca209');})\n",
       "        });</script>"
      ],
      "text/vnd.plotly.v1+html": [
       "<div id=\"9952a008-d468-4244-aa0a-486fb8fca209\" style=\"height: 525px; width: 100%;\" class=\"plotly-graph-div\"></div><script type=\"text/javascript\">require([\"plotly\"], function(Plotly) { window.PLOTLYENV=window.PLOTLYENV || {};window.PLOTLYENV.BASE_URL=\"https://plot.ly\";\n",
       "        Plotly.plot(\n",
       "            '9952a008-d468-4244-aa0a-486fb8fca209',\n",
       "            [{\"xsrc\": [90286], \"ysrc\": [577200], \"mode\": \"markers\", \"textsrc\": [\"United States\"], \"marker\": {\"sizemode\": \"area\", \"sizeref\": 200000, \"sizesrc\": [47], \"color\": \"rgb(171, 99, 250)\"}, \"name\": \"Autos & Vehicles\"}, {\"xsrc\": [1564253], \"ysrc\": [14335435], \"mode\": \"markers\", \"textsrc\": [\"United States\"], \"marker\": {\"sizemode\": \"area\", \"sizeref\": 200000, \"sizesrc\": [315], \"color\": \"rgb(230, 99, 250)\"}, \"name\": \"Comedy\"}, {\"xsrc\": [345432], \"ysrc\": [2650043], \"mode\": \"markers\", \"textsrc\": [\"United States\"], \"marker\": {\"sizemode\": \"area\", \"sizeref\": 200000, \"sizesrc\": [138], \"color\": \"rgb(99, 110, 250)\"}, \"name\": \"Education\"}, {\"xsrc\": [3385777], \"ysrc\": [26570394], \"mode\": \"markers\", \"textsrc\": [\"United States\"], \"marker\": {\"sizemode\": \"area\", \"sizeref\": 200000, \"sizesrc\": [790], \"color\": \"rgb(25, 211, 243)\"}, \"name\": \"Entertainment\"}, {\"xsrc\": [890131], \"ysrc\": [8291683], \"mode\": \"markers\", \"textsrc\": [\"United States\"], \"marker\": {\"sizemode\": \"area\", \"sizeref\": 200000, \"sizesrc\": [174], \"color\": \"rgb(50, 170, 255)\"}, \"name\": \"Film & Animation\"}, {\"xsrc\": [45093], \"ysrc\": [338444], \"mode\": \"markers\", \"textsrc\": [\"United States\"], \"marker\": {\"sizemode\": \"area\", \"sizeref\": 200000, \"sizesrc\": [22], \"color\": \"rgb(141,211,199)\"}, \"name\": \"Gaming\"}, {\"xsrc\": [1049190], \"ysrc\": [8171398], \"mode\": \"markers\", \"textsrc\": [\"United States\"], \"marker\": {\"sizemode\": \"area\", \"sizeref\": 200000, \"sizesrc\": [319], \"color\": \"rgb(255,255,179)\"}, \"name\": \"Howto & Style\"}, {\"xsrc\": [8210654], \"ysrc\": [85173641], \"mode\": \"markers\", \"textsrc\": [\"United States\"], \"marker\": {\"sizemode\": \"area\", \"sizeref\": 200000, \"sizesrc\": [613], \"color\": \"rgb(190,186,218)\"}, \"name\": \"Music\"}, {\"xsrc\": [206700], \"ysrc\": [622114], \"mode\": \"markers\", \"textsrc\": [\"United States\"], \"marker\": {\"sizemode\": \"area\", \"sizeref\": 200000, \"sizesrc\": [221], \"color\": \"rgb(251,128,114)\"}, \"name\": \"News & Politics\"}, {\"xsrc\": [541418], \"ysrc\": [4250225], \"mode\": \"markers\", \"textsrc\": [\"United States\"], \"marker\": {\"sizemode\": \"area\", \"sizeref\": 200000, \"sizesrc\": [247], \"color\": \"rgb(128,177,211)\"}, \"name\": \"People & Blogs\"}, {\"xsrc\": [68762], \"ysrc\": [745383], \"mode\": \"markers\", \"textsrc\": [\"United States\"], \"marker\": {\"sizemode\": \"area\", \"sizeref\": 200000, \"sizesrc\": [56], \"color\": \"rgb(253,180,98)\"}, \"name\": \"Pets & Animals\"}, {\"xsrc\": [1041804], \"ysrc\": [6100452], \"mode\": \"markers\", \"textsrc\": [\"United States\"], \"marker\": {\"sizemode\": \"area\", \"sizeref\": 200000, \"sizesrc\": [237], \"color\": \"rgb(179,222,105)\"}, \"name\": \"Science & Technology\"}, {\"xsrc\": [155833], \"ysrc\": [995708], \"mode\": \"markers\", \"textsrc\": [\"United States\"], \"marker\": {\"sizemode\": \"area\", \"sizeref\": 200000, \"sizesrc\": [195], \"color\": \"rgb(252,205,229)\"}, \"name\": \"Sports\"}, {\"xsrc\": [24879], \"ysrc\": [210258], \"mode\": \"markers\", \"textsrc\": [\"United States\"], \"marker\": {\"sizemode\": \"area\", \"sizeref\": 200000, \"sizesrc\": [25], \"color\": \"rgb(217,217,217)\"}, \"name\": \"Travel & Events\"}, {\"xsrc\": [], \"ysrc\": [], \"mode\": \"markers\", \"textsrc\": [], \"marker\": {\"sizemode\": \"area\", \"sizeref\": 200000, \"sizesrc\": [], \"color\": \"rgb(188,128,189)\"}, \"name\": \"Nonprofits & Activism\"}, {\"xsrc\": [], \"ysrc\": [], \"mode\": \"markers\", \"textsrc\": [], \"marker\": {\"sizemode\": \"area\", \"sizeref\": 200000, \"sizesrc\": [], \"color\": \"rgb(204,235,197)\"}, \"name\": \"Shows\"}],\n",
       "            {\"xaxis\": {\"range\": [1507, 15889288], \"autorange\": \"true\", \"title\": \"total comment count\", \"gridcolor\": \"#FFFFFF\"}, \"yaxis\": {\"range\": [8382, 162284475], \"autorange\": \"true\", \"title\": \"total likes count\", \"gridcolor\": \"#FFFFFF\"}, \"hovermode\": \"closest\", \"plot_bgcolor\": \"#FFFFFF\", \"updatemenus\": [{\"buttons\": [{\"args\": [null, {\"frame\": {\"duration\": 500, \"redraw\": false}, \"fromcurrent\": true, \"transition\": {\"duration\": 300, \"easing\": \"quadratic-in-out\"}}], \"label\": \"Play\", \"method\": \"animate\"}, {\"args\": [[null], {\"frame\": {\"duration\": 0, \"redraw\": false}, \"mode\": \"immediate\", \"transition\": {\"duration\": 0}}], \"label\": \"Pause\", \"method\": \"animate\"}], \"direction\": \"left\", \"pad\": {\"r\": 10, \"t\": 87}, \"showactive\": false, \"type\": \"buttons\", \"x\": 0.1, \"xanchor\": \"right\", \"y\": 0, \"yanchor\": \"top\"}], \"sliders\": [{\"active\": 0, \"yanchor\": \"top\", \"xanchor\": \"left\", \"currentvalue\": {\"font\": {\"size\": 20}, \"prefix\": \"month:\", \"visible\": true, \"xanchor\": \"right\"}, \"transition\": {\"duration\": 300, \"easing\": \"cubic-in-out\"}, \"pad\": {\"b\": 10, \"t\": 50}, \"len\": 0.9, \"x\": 0.1, \"y\": 0, \"steps\": [{\"args\": [[\"17-11\"], {\"frame\": {\"duration\": 300, \"redraw\": false}, \"mode\": \"immediate\", \"transition\": {\"duration\": 300}}], \"label\": \"17-11\", \"method\": \"animate\"}, {\"args\": [[\"17-12\"], {\"frame\": {\"duration\": 300, \"redraw\": false}, \"mode\": \"immediate\", \"transition\": {\"duration\": 300}}], \"label\": \"17-12\", \"method\": \"animate\"}, {\"args\": [[\"18-01\"], {\"frame\": {\"duration\": 300, \"redraw\": false}, \"mode\": \"immediate\", \"transition\": {\"duration\": 300}}], \"label\": \"18-01\", \"method\": \"animate\"}, {\"args\": [[\"18-02\"], {\"frame\": {\"duration\": 300, \"redraw\": false}, \"mode\": \"immediate\", \"transition\": {\"duration\": 300}}], \"label\": \"18-02\", \"method\": \"animate\"}, {\"args\": [[\"18-03\"], {\"frame\": {\"duration\": 300, \"redraw\": false}, \"mode\": \"immediate\", \"transition\": {\"duration\": 300}}], \"label\": \"18-03\", \"method\": \"animate\"}, {\"args\": [[\"18-04\"], {\"frame\": {\"duration\": 300, \"redraw\": false}, \"mode\": \"immediate\", \"transition\": {\"duration\": 300}}], \"label\": \"18-04\", \"method\": \"animate\"}]}]},\n",
       "            {\"showLink\": true, \"linkText\": \"Export to plot.ly\"}\n",
       "        ).then(function () {return Plotly.addFrames('9952a008-d468-4244-aa0a-486fb8fca209',[{\"data\": [{\"xsrc\": [90286], \"ysrc\": [577200], \"mode\": \"markers\", \"textsrc\": [\"United States\"], \"marker\": {\"sizemode\": \"area\", \"sizeref\": 200000, \"sizesrc\": [47], \"color\": \"rgb(171, 99, 250)\", \"opacity\": 0.8}, \"name\": \"Autos & Vehicles\"}, {\"xsrc\": [1564253], \"ysrc\": [14335435], \"mode\": \"markers\", \"textsrc\": [\"United States\"], \"marker\": {\"sizemode\": \"area\", \"sizeref\": 200000, \"sizesrc\": [315], \"color\": \"rgb(230, 99, 250)\", \"opacity\": 0.8}, \"name\": \"Comedy\"}, {\"xsrc\": [345432], \"ysrc\": [2650043], \"mode\": \"markers\", \"textsrc\": [\"United States\"], \"marker\": {\"sizemode\": \"area\", \"sizeref\": 200000, \"sizesrc\": [138], \"color\": \"rgb(99, 110, 250)\", \"opacity\": 0.8}, \"name\": \"Education\"}, {\"xsrc\": [3385777], \"ysrc\": [26570394], \"mode\": \"markers\", \"textsrc\": [\"United States\"], \"marker\": {\"sizemode\": \"area\", \"sizeref\": 200000, \"sizesrc\": [790], \"color\": \"rgb(25, 211, 243)\", \"opacity\": 0.8}, \"name\": \"Entertainment\"}, {\"xsrc\": [890131], \"ysrc\": [8291683], \"mode\": \"markers\", \"textsrc\": [\"United States\"], \"marker\": {\"sizemode\": \"area\", \"sizeref\": 200000, \"sizesrc\": [174], \"color\": \"rgb(50, 170, 255)\", \"opacity\": 0.8}, \"name\": \"Film & Animation\"}, {\"xsrc\": [45093], \"ysrc\": [338444], \"mode\": \"markers\", \"textsrc\": [\"United States\"], \"marker\": {\"sizemode\": \"area\", \"sizeref\": 200000, \"sizesrc\": [22], \"color\": \"rgb(141,211,199)\", \"opacity\": 0.8}, \"name\": \"Gaming\"}, {\"xsrc\": [1049190], \"ysrc\": [8171398], \"mode\": \"markers\", \"textsrc\": [\"United States\"], \"marker\": {\"sizemode\": \"area\", \"sizeref\": 200000, \"sizesrc\": [319], \"color\": \"rgb(255,255,179)\", \"opacity\": 0.8}, \"name\": \"Howto & Style\"}, {\"xsrc\": [8210654], \"ysrc\": [85173641], \"mode\": \"markers\", \"textsrc\": [\"United States\"], \"marker\": {\"sizemode\": \"area\", \"sizeref\": 200000, \"sizesrc\": [613], \"color\": \"rgb(190,186,218)\", \"opacity\": 0.8}, \"name\": \"Music\"}, {\"xsrc\": [206700], \"ysrc\": [622114], \"mode\": \"markers\", \"textsrc\": [\"United States\"], \"marker\": {\"sizemode\": \"area\", \"sizeref\": 200000, \"sizesrc\": [221], \"color\": \"rgb(251,128,114)\", \"opacity\": 0.8}, \"name\": \"News & Politics\"}, {\"xsrc\": [541418], \"ysrc\": [4250225], \"mode\": \"markers\", \"textsrc\": [\"United States\"], \"marker\": {\"sizemode\": \"area\", \"sizeref\": 200000, \"sizesrc\": [247], \"color\": \"rgb(128,177,211)\", \"opacity\": 0.8}, \"name\": \"People & Blogs\"}, {\"xsrc\": [68762], \"ysrc\": [745383], \"mode\": \"markers\", \"textsrc\": [\"United States\"], \"marker\": {\"sizemode\": \"area\", \"sizeref\": 200000, \"sizesrc\": [56], \"color\": \"rgb(253,180,98)\", \"opacity\": 0.8}, \"name\": \"Pets & Animals\"}, {\"xsrc\": [1041804], \"ysrc\": [6100452], \"mode\": \"markers\", \"textsrc\": [\"United States\"], \"marker\": {\"sizemode\": \"area\", \"sizeref\": 200000, \"sizesrc\": [237], \"color\": \"rgb(179,222,105)\", \"opacity\": 0.8}, \"name\": \"Science & Technology\"}, {\"xsrc\": [155833], \"ysrc\": [995708], \"mode\": \"markers\", \"textsrc\": [\"United States\"], \"marker\": {\"sizemode\": \"area\", \"sizeref\": 200000, \"sizesrc\": [195], \"color\": \"rgb(252,205,229)\", \"opacity\": 0.8}, \"name\": \"Sports\"}, {\"xsrc\": [24879], \"ysrc\": [210258], \"mode\": \"markers\", \"textsrc\": [\"United States\"], \"marker\": {\"sizemode\": \"area\", \"sizeref\": 200000, \"sizesrc\": [25], \"color\": \"rgb(217,217,217)\", \"opacity\": 0.8}, \"name\": \"Travel & Events\"}, {\"xsrc\": [], \"ysrc\": [], \"mode\": \"markers\", \"textsrc\": [], \"marker\": {\"sizemode\": \"area\", \"sizeref\": 200000, \"sizesrc\": [], \"color\": \"rgb(188,128,189)\", \"opacity\": 0.8}, \"name\": \"Nonprofits & Activism\"}, {\"xsrc\": [], \"ysrc\": [], \"mode\": \"markers\", \"textsrc\": [], \"marker\": {\"sizemode\": \"area\", \"sizeref\": 200000, \"sizesrc\": [], \"color\": \"rgb(204,235,197)\", \"opacity\": 0.8}, \"name\": \"Shows\"}], \"name\": \"17-11\"}, {\"data\": [{\"xsrc\": [115329], \"ysrc\": [879366], \"mode\": \"markers\", \"textsrc\": [\"United States\"], \"marker\": {\"sizemode\": \"area\", \"sizeref\": 200000, \"sizesrc\": [58], \"color\": \"rgb(171, 99, 250)\", \"opacity\": 0.8}, \"name\": \"Autos & Vehicles\"}, {\"xsrc\": [3076674], \"ysrc\": [35337729], \"mode\": \"markers\", \"textsrc\": [\"United States\"], \"marker\": {\"sizemode\": \"area\", \"sizeref\": 200000, \"sizesrc\": [579], \"color\": \"rgb(230, 99, 250)\", \"opacity\": 0.8}, \"name\": \"Comedy\"}, {\"xsrc\": [647924], \"ysrc\": [6021732], \"mode\": \"markers\", \"textsrc\": [\"United States\"], \"marker\": {\"sizemode\": \"area\", \"sizeref\": 200000, \"sizesrc\": [224], \"color\": \"rgb(99, 110, 250)\", \"opacity\": 0.8}, \"name\": \"Education\"}, {\"xsrc\": [15621876], \"ysrc\": [92625755], \"mode\": \"markers\", \"textsrc\": [\"United States\"], \"marker\": {\"sizemode\": \"area\", \"sizeref\": 200000, \"sizesrc\": [1549], \"color\": \"rgb(25, 211, 243)\", \"opacity\": 0.8}, \"name\": \"Entertainment\"}, {\"xsrc\": [822167], \"ysrc\": [7213793], \"mode\": \"markers\", \"textsrc\": [\"United States\"], \"marker\": {\"sizemode\": \"area\", \"sizeref\": 200000, \"sizesrc\": [360], \"color\": \"rgb(50, 170, 255)\", \"opacity\": 0.8}, \"name\": \"Film & Animation\"}, {\"xsrc\": [160443], \"ysrc\": [1339287], \"mode\": \"markers\", \"textsrc\": [\"United States\"], \"marker\": {\"sizemode\": \"area\", \"sizeref\": 200000, \"sizesrc\": [63], \"color\": \"rgb(141,211,199)\", \"opacity\": 0.8}, \"name\": \"Gaming\"}, {\"xsrc\": [2888997], \"ysrc\": [15680711], \"mode\": \"markers\", \"textsrc\": [\"United States\"], \"marker\": {\"sizemode\": \"area\", \"sizeref\": 200000, \"sizesrc\": [560], \"color\": \"rgb(255,255,179)\", \"opacity\": 0.8}, \"name\": \"Howto & Style\"}, {\"xsrc\": [8535309], \"ysrc\": [98943833], \"mode\": \"markers\", \"textsrc\": [\"United States\"], \"marker\": {\"sizemode\": \"area\", \"sizeref\": 200000, \"sizesrc\": [950], \"color\": \"rgb(190,186,218)\", \"opacity\": 0.8}, \"name\": \"Music\"}, {\"xsrc\": [959924], \"ysrc\": [2400651], \"mode\": \"markers\", \"textsrc\": [\"United States\"], \"marker\": {\"sizemode\": \"area\", \"sizeref\": 200000, \"sizesrc\": [547], \"color\": \"rgb(251,128,114)\", \"opacity\": 0.8}, \"name\": \"News & Politics\"}, {\"xsrc\": [2837888], \"ysrc\": [20231282], \"mode\": \"markers\", \"textsrc\": [\"United States\"], \"marker\": {\"sizemode\": \"area\", \"sizeref\": 200000, \"sizesrc\": [518], \"color\": \"rgb(128,177,211)\", \"opacity\": 0.8}, \"name\": \"People & Blogs\"}, {\"xsrc\": [624152], \"ysrc\": [3013307], \"mode\": \"markers\", \"textsrc\": [\"United States\"], \"marker\": {\"sizemode\": \"area\", \"sizeref\": 200000, \"sizesrc\": [127], \"color\": \"rgb(253,180,98)\", \"opacity\": 0.8}, \"name\": \"Pets & Animals\"}, {\"xsrc\": [1041950], \"ysrc\": [7686380], \"mode\": \"markers\", \"textsrc\": [\"United States\"], \"marker\": {\"sizemode\": \"area\", \"sizeref\": 200000, \"sizesrc\": [289], \"color\": \"rgb(179,222,105)\", \"opacity\": 0.8}, \"name\": \"Science & Technology\"}, {\"xsrc\": [602915], \"ysrc\": [5483375], \"mode\": \"markers\", \"textsrc\": [\"United States\"], \"marker\": {\"sizemode\": \"area\", \"sizeref\": 200000, \"sizesrc\": [278], \"color\": \"rgb(252,205,229)\", \"opacity\": 0.8}, \"name\": \"Sports\"}, {\"xsrc\": [163625], \"ysrc\": [462119], \"mode\": \"markers\", \"textsrc\": [\"United States\"], \"marker\": {\"sizemode\": \"area\", \"sizeref\": 200000, \"sizesrc\": [76], \"color\": \"rgb(217,217,217)\", \"opacity\": 0.8}, \"name\": \"Travel & Events\"}, {\"xsrc\": [1507], \"ysrc\": [8382], \"mode\": \"markers\", \"textsrc\": [\"United States\"], \"marker\": {\"sizemode\": \"area\", \"sizeref\": 200000, \"sizesrc\": [13], \"color\": \"rgb(188,128,189)\", \"opacity\": 0.8}, \"name\": \"Nonprofits & Activism\"}, {\"xsrc\": [16189], \"ysrc\": [39369], \"mode\": \"markers\", \"textsrc\": [\"United States\"], \"marker\": {\"sizemode\": \"area\", \"sizeref\": 200000, \"sizesrc\": [9], \"color\": \"rgb(204,235,197)\", \"opacity\": 0.8}, \"name\": \"Shows\"}], \"name\": \"17-12\"}, {\"data\": [{\"xsrc\": [93121], \"ysrc\": [455691], \"mode\": \"markers\", \"textsrc\": [\"United States\"], \"marker\": {\"sizemode\": \"area\", \"sizeref\": 200000, \"sizesrc\": [91], \"color\": \"rgb(171, 99, 250)\", \"opacity\": 0.8}, \"name\": \"Autos & Vehicles\"}, {\"xsrc\": [3444270], \"ysrc\": [29575644], \"mode\": \"markers\", \"textsrc\": [\"United States\"], \"marker\": {\"sizemode\": \"area\", \"sizeref\": 200000, \"sizesrc\": [465], \"color\": \"rgb(230, 99, 250)\", \"opacity\": 0.8}, \"name\": \"Comedy\"}, {\"xsrc\": [394802], \"ysrc\": [3569029], \"mode\": \"markers\", \"textsrc\": [\"United States\"], \"marker\": {\"sizemode\": \"area\", \"sizeref\": 200000, \"sizesrc\": [254], \"color\": \"rgb(99, 110, 250)\", \"opacity\": 0.8}, \"name\": \"Education\"}, {\"xsrc\": [11889648], \"ysrc\": [35461787], \"mode\": \"markers\", \"textsrc\": [\"United States\"], \"marker\": {\"sizemode\": \"area\", \"sizeref\": 200000, \"sizesrc\": [1288], \"color\": \"rgb(25, 211, 243)\", \"opacity\": 0.8}, \"name\": \"Entertainment\"}, {\"xsrc\": [2119733], \"ysrc\": [13185882], \"mode\": \"markers\", \"textsrc\": [\"United States\"], \"marker\": {\"sizemode\": \"area\", \"sizeref\": 200000, \"sizesrc\": [354], \"color\": \"rgb(50, 170, 255)\", \"opacity\": 0.8}, \"name\": \"Film & Animation\"}, {\"xsrc\": [1569932], \"ysrc\": [6766966], \"mode\": \"markers\", \"textsrc\": [\"United States\"], \"marker\": {\"sizemode\": \"area\", \"sizeref\": 200000, \"sizesrc\": [112], \"color\": \"rgb(141,211,199)\", \"opacity\": 0.8}, \"name\": \"Gaming\"}, {\"xsrc\": [2680849], \"ysrc\": [15438544], \"mode\": \"markers\", \"textsrc\": [\"United States\"], \"marker\": {\"sizemode\": \"area\", \"sizeref\": 200000, \"sizesrc\": [551], \"color\": \"rgb(255,255,179)\", \"opacity\": 0.8}, \"name\": \"Howto & Style\"}, {\"xsrc\": [7777954], \"ysrc\": [97809472], \"mode\": \"markers\", \"textsrc\": [\"United States\"], \"marker\": {\"sizemode\": \"area\", \"sizeref\": 200000, \"sizesrc\": [758], \"color\": \"rgb(190,186,218)\", \"opacity\": 0.8}, \"name\": \"Music\"}, {\"xsrc\": [639539], \"ysrc\": [1939200], \"mode\": \"markers\", \"textsrc\": [\"United States\"], \"marker\": {\"sizemode\": \"area\", \"sizeref\": 200000, \"sizesrc\": [500], \"color\": \"rgb(251,128,114)\", \"opacity\": 0.8}, \"name\": \"News & Politics\"}, {\"xsrc\": [1618080], \"ysrc\": [15151061], \"mode\": \"markers\", \"textsrc\": [\"United States\"], \"marker\": {\"sizemode\": \"area\", \"sizeref\": 200000, \"sizesrc\": [467], \"color\": \"rgb(128,177,211)\", \"opacity\": 0.8}, \"name\": \"People & Blogs\"}, {\"xsrc\": [469411], \"ysrc\": [3449352], \"mode\": \"markers\", \"textsrc\": [\"United States\"], \"marker\": {\"sizemode\": \"area\", \"sizeref\": 200000, \"sizesrc\": [200], \"color\": \"rgb(253,180,98)\", \"opacity\": 0.8}, \"name\": \"Pets & Animals\"}, {\"xsrc\": [533564], \"ysrc\": [5762496], \"mode\": \"markers\", \"textsrc\": [\"United States\"], \"marker\": {\"sizemode\": \"area\", \"sizeref\": 200000, \"sizesrc\": [347], \"color\": \"rgb(179,222,105)\", \"opacity\": 0.8}, \"name\": \"Science & Technology\"}, {\"xsrc\": [863110], \"ysrc\": [10703601], \"mode\": \"markers\", \"textsrc\": [\"United States\"], \"marker\": {\"sizemode\": \"area\", \"sizeref\": 200000, \"sizesrc\": [330], \"color\": \"rgb(252,205,229)\", \"opacity\": 0.8}, \"name\": \"Sports\"}, {\"xsrc\": [54004], \"ysrc\": [310816], \"mode\": \"markers\", \"textsrc\": [\"United States\"], \"marker\": {\"sizemode\": \"area\", \"sizeref\": 200000, \"sizesrc\": [56], \"color\": \"rgb(217,217,217)\", \"opacity\": 0.8}, \"name\": \"Travel & Events\"}, {\"xsrc\": [4052640], \"ysrc\": [12288453], \"mode\": \"markers\", \"textsrc\": [\"United States\"], \"marker\": {\"sizemode\": \"area\", \"sizeref\": 200000, \"sizesrc\": [16], \"color\": \"rgb(188,128,189)\", \"opacity\": 0.8}, \"name\": \"Nonprofits & Activism\"}, {\"xsrc\": [5257], \"ysrc\": [14446], \"mode\": \"markers\", \"textsrc\": [\"United States\"], \"marker\": {\"sizemode\": \"area\", \"sizeref\": 200000, \"sizesrc\": [7], \"color\": \"rgb(204,235,197)\", \"opacity\": 0.8}, \"name\": \"Shows\"}], \"name\": \"18-01\"}, {\"data\": [{\"xsrc\": [244751], \"ysrc\": [1345528], \"mode\": \"markers\", \"textsrc\": [\"United States\"], \"marker\": {\"sizemode\": \"area\", \"sizeref\": 200000, \"sizesrc\": [129], \"color\": \"rgb(171, 99, 250)\", \"opacity\": 0.8}, \"name\": \"Autos & Vehicles\"}, {\"xsrc\": [1354489], \"ysrc\": [15744798], \"mode\": \"markers\", \"textsrc\": [\"United States\"], \"marker\": {\"sizemode\": \"area\", \"sizeref\": 200000, \"sizesrc\": [423], \"color\": \"rgb(230, 99, 250)\", \"opacity\": 0.8}, \"name\": \"Comedy\"}, {\"xsrc\": [406825], \"ysrc\": [3445396], \"mode\": \"markers\", \"textsrc\": [\"United States\"], \"marker\": {\"sizemode\": \"area\", \"sizeref\": 200000, \"sizesrc\": [235], \"color\": \"rgb(99, 110, 250)\", \"opacity\": 0.8}, \"name\": \"Education\"}, {\"xsrc\": [4305475], \"ysrc\": [30031618], \"mode\": \"markers\", \"textsrc\": [\"United States\"], \"marker\": {\"sizemode\": \"area\", \"sizeref\": 200000, \"sizesrc\": [1243], \"color\": \"rgb(25, 211, 243)\", \"opacity\": 0.8}, \"name\": \"Entertainment\"}, {\"xsrc\": [2586592], \"ysrc\": [22304634], \"mode\": \"markers\", \"textsrc\": [\"United States\"], \"marker\": {\"sizemode\": \"area\", \"sizeref\": 200000, \"sizesrc\": [295], \"color\": \"rgb(50, 170, 255)\", \"opacity\": 0.8}, \"name\": \"Film & Animation\"}, {\"xsrc\": [161987], \"ysrc\": [1006172], \"mode\": \"markers\", \"textsrc\": [\"United States\"], \"marker\": {\"sizemode\": \"area\", \"sizeref\": 200000, \"sizesrc\": [75], \"color\": \"rgb(141,211,199)\", \"opacity\": 0.8}, \"name\": \"Gaming\"}, {\"xsrc\": [2187637], \"ysrc\": [11282732], \"mode\": \"markers\", \"textsrc\": [\"United States\"], \"marker\": {\"sizemode\": \"area\", \"sizeref\": 200000, \"sizesrc\": [479], \"color\": \"rgb(255,255,179)\", \"opacity\": 0.8}, \"name\": \"Howto & Style\"}, {\"xsrc\": [5776652], \"ysrc\": [80661436], \"mode\": \"markers\", \"textsrc\": [\"United States\"], \"marker\": {\"sizemode\": \"area\", \"sizeref\": 200000, \"sizesrc\": [777], \"color\": \"rgb(190,186,218)\", \"opacity\": 0.8}, \"name\": \"Music\"}, {\"xsrc\": [926341], \"ysrc\": [2233330], \"mode\": \"markers\", \"textsrc\": [\"United States\"], \"marker\": {\"sizemode\": \"area\", \"sizeref\": 200000, \"sizesrc\": [521], \"color\": \"rgb(251,128,114)\", \"opacity\": 0.8}, \"name\": \"News & Politics\"}, {\"xsrc\": [2901981], \"ysrc\": [21097309], \"mode\": \"markers\", \"textsrc\": [\"United States\"], \"marker\": {\"sizemode\": \"area\", \"sizeref\": 200000, \"sizesrc\": [442], \"color\": \"rgb(128,177,211)\", \"opacity\": 0.8}, \"name\": \"People & Blogs\"}, {\"xsrc\": [203824], \"ysrc\": [1710840], \"mode\": \"markers\", \"textsrc\": [\"United States\"], \"marker\": {\"sizemode\": \"area\", \"sizeref\": 200000, \"sizesrc\": [156], \"color\": \"rgb(253,180,98)\", \"opacity\": 0.8}, \"name\": \"Pets & Animals\"}, {\"xsrc\": [1630144], \"ysrc\": [12537147], \"mode\": \"markers\", \"textsrc\": [\"United States\"], \"marker\": {\"sizemode\": \"area\", \"sizeref\": 200000, \"sizesrc\": [385], \"color\": \"rgb(179,222,105)\", \"opacity\": 0.8}, \"name\": \"Science & Technology\"}, {\"xsrc\": [1529135], \"ysrc\": [11227010], \"mode\": \"markers\", \"textsrc\": [\"United States\"], \"marker\": {\"sizemode\": \"area\", \"sizeref\": 200000, \"sizesrc\": [321], \"color\": \"rgb(252,205,229)\", \"opacity\": 0.8}, \"name\": \"Sports\"}, {\"xsrc\": [147431], \"ysrc\": [839997], \"mode\": \"markers\", \"textsrc\": [\"United States\"], \"marker\": {\"sizemode\": \"area\", \"sizeref\": 200000, \"sizesrc\": [72], \"color\": \"rgb(217,217,217)\", \"opacity\": 0.8}, \"name\": \"Travel & Events\"}, {\"xsrc\": [749288], \"ysrc\": [2428360], \"mode\": \"markers\", \"textsrc\": [\"United States\"], \"marker\": {\"sizemode\": \"area\", \"sizeref\": 200000, \"sizesrc\": [18], \"color\": \"rgb(188,128,189)\", \"opacity\": 0.8}, \"name\": \"Nonprofits & Activism\"}, {\"xsrc\": [], \"ysrc\": [], \"mode\": \"markers\", \"textsrc\": [], \"marker\": {\"sizemode\": \"area\", \"sizeref\": 200000, \"sizesrc\": [], \"color\": \"rgb(204,235,197)\", \"opacity\": 0.8}, \"name\": \"Shows\"}], \"name\": \"18-02\"}, {\"data\": [{\"xsrc\": [52207], \"ysrc\": [160661], \"mode\": \"markers\", \"textsrc\": [\"United States\"], \"marker\": {\"sizemode\": \"area\", \"sizeref\": 200000, \"sizesrc\": [16], \"color\": \"rgb(171, 99, 250)\", \"opacity\": 0.8}, \"name\": \"Autos & Vehicles\"}, {\"xsrc\": [3067956], \"ysrc\": [35059632], \"mode\": \"markers\", \"textsrc\": [\"United States\"], \"marker\": {\"sizemode\": \"area\", \"sizeref\": 200000, \"sizesrc\": [524], \"color\": \"rgb(230, 99, 250)\", \"opacity\": 0.8}, \"name\": \"Comedy\"}, {\"xsrc\": [998153], \"ysrc\": [8717308], \"mode\": \"markers\", \"textsrc\": [\"United States\"], \"marker\": {\"sizemode\": \"area\", \"sizeref\": 200000, \"sizesrc\": [328], \"color\": \"rgb(99, 110, 250)\", \"opacity\": 0.8}, \"name\": \"Education\"}, {\"xsrc\": [11228281], \"ysrc\": [82203203], \"mode\": \"markers\", \"textsrc\": [\"United States\"], \"marker\": {\"sizemode\": \"area\", \"sizeref\": 200000, \"sizesrc\": [1537], \"color\": \"rgb(25, 211, 243)\", \"opacity\": 0.8}, \"name\": \"Entertainment\"}, {\"xsrc\": [2380078], \"ysrc\": [19915566], \"mode\": \"markers\", \"textsrc\": [\"United States\"], \"marker\": {\"sizemode\": \"area\", \"sizeref\": 200000, \"sizesrc\": [337], \"color\": \"rgb(50, 170, 255)\", \"opacity\": 0.8}, \"name\": \"Film & Animation\"}, {\"xsrc\": [1940909], \"ysrc\": [9172933], \"mode\": \"markers\", \"textsrc\": [\"United States\"], \"marker\": {\"sizemode\": \"area\", \"sizeref\": 200000, \"sizesrc\": [122], \"color\": \"rgb(141,211,199)\", \"opacity\": 0.8}, \"name\": \"Gaming\"}, {\"xsrc\": [3879983], \"ysrc\": [21772206], \"mode\": \"markers\", \"textsrc\": [\"United States\"], \"marker\": {\"sizemode\": \"area\", \"sizeref\": 200000, \"sizesrc\": [810], \"color\": \"rgb(255,255,179)\", \"opacity\": 0.8}, \"name\": \"Howto & Style\"}, {\"xsrc\": [15889288], \"ysrc\": [162284475], \"mode\": \"markers\", \"textsrc\": [\"United States\"], \"marker\": {\"sizemode\": \"area\", \"sizeref\": 200000, \"sizesrc\": [810], \"color\": \"rgb(190,186,218)\", \"opacity\": 0.8}, \"name\": \"Music\"}, {\"xsrc\": [834066], \"ysrc\": [1733194], \"mode\": \"markers\", \"textsrc\": [\"United States\"], \"marker\": {\"sizemode\": \"area\", \"sizeref\": 200000, \"sizesrc\": [195], \"color\": \"rgb(251,128,114)\", \"opacity\": 0.8}, \"name\": \"News & Politics\"}, {\"xsrc\": [1826559], \"ysrc\": [21342425], \"mode\": \"markers\", \"textsrc\": [\"United States\"], \"marker\": {\"sizemode\": \"area\", \"sizeref\": 200000, \"sizesrc\": [508], \"color\": \"rgb(128,177,211)\", \"opacity\": 0.8}, \"name\": \"People & Blogs\"}, {\"xsrc\": [259508], \"ysrc\": [2638131], \"mode\": \"markers\", \"textsrc\": [\"United States\"], \"marker\": {\"sizemode\": \"area\", \"sizeref\": 200000, \"sizesrc\": [136], \"color\": \"rgb(253,180,98)\", \"opacity\": 0.8}, \"name\": \"Pets & Animals\"}, {\"xsrc\": [1346636], \"ysrc\": [12656447], \"mode\": \"markers\", \"textsrc\": [\"United States\"], \"marker\": {\"sizemode\": \"area\", \"sizeref\": 200000, \"sizesrc\": [446], \"color\": \"rgb(179,222,105)\", \"opacity\": 0.8}, \"name\": \"Science & Technology\"}, {\"xsrc\": [2384523], \"ysrc\": [23599125], \"mode\": \"markers\", \"textsrc\": [\"United States\"], \"marker\": {\"sizemode\": \"area\", \"sizeref\": 200000, \"sizesrc\": [334], \"color\": \"rgb(252,205,229)\", \"opacity\": 0.8}, \"name\": \"Sports\"}, {\"xsrc\": [278755], \"ysrc\": [1553956], \"mode\": \"markers\", \"textsrc\": [\"United States\"], \"marker\": {\"sizemode\": \"area\", \"sizeref\": 200000, \"sizesrc\": [80], \"color\": \"rgb(217,217,217)\", \"opacity\": 0.8}, \"name\": \"Travel & Events\"}, {\"xsrc\": [], \"ysrc\": [], \"mode\": \"markers\", \"textsrc\": [], \"marker\": {\"sizemode\": \"area\", \"sizeref\": 200000, \"sizesrc\": [], \"color\": \"rgb(188,128,189)\", \"opacity\": 0.8}, \"name\": \"Nonprofits & Activism\"}, {\"xsrc\": [], \"ysrc\": [], \"mode\": \"markers\", \"textsrc\": [], \"marker\": {\"sizemode\": \"area\", \"sizeref\": 200000, \"sizesrc\": [], \"color\": \"rgb(204,235,197)\", \"opacity\": 0.8}, \"name\": \"Shows\"}], \"name\": \"18-03\"}, {\"data\": [{\"xsrc\": [128750], \"ysrc\": [348364], \"mode\": \"markers\", \"textsrc\": [\"United States\"], \"marker\": {\"sizemode\": \"area\", \"sizeref\": 200000, \"sizesrc\": [22], \"color\": \"rgb(171, 99, 250)\", \"opacity\": 0.8}, \"name\": \"Autos & Vehicles\"}, {\"xsrc\": [1121827], \"ysrc\": [11148093], \"mode\": \"markers\", \"textsrc\": [\"United States\"], \"marker\": {\"sizemode\": \"area\", \"sizeref\": 200000, \"sizesrc\": [174], \"color\": \"rgb(230, 99, 250)\", \"opacity\": 0.8}, \"name\": \"Comedy\"}, {\"xsrc\": [239597], \"ysrc\": [1673210], \"mode\": \"markers\", \"textsrc\": [\"United States\"], \"marker\": {\"sizemode\": \"area\", \"sizeref\": 200000, \"sizesrc\": [87], \"color\": \"rgb(99, 110, 250)\", \"opacity\": 0.8}, \"name\": \"Education\"}, {\"xsrc\": [3278431], \"ysrc\": [29500690], \"mode\": \"markers\", \"textsrc\": [\"United States\"], \"marker\": {\"sizemode\": \"area\", \"sizeref\": 200000, \"sizesrc\": [472], \"color\": \"rgb(25, 211, 243)\", \"opacity\": 0.8}, \"name\": \"Entertainment\"}, {\"xsrc\": [599918], \"ysrc\": [5893462], \"mode\": \"markers\", \"textsrc\": [\"United States\"], \"marker\": {\"sizemode\": \"area\", \"sizeref\": 200000, \"sizesrc\": [83], \"color\": \"rgb(50, 170, 255)\", \"opacity\": 0.8}, \"name\": \"Film & Animation\"}, {\"xsrc\": [483548], \"ysrc\": [1582116], \"mode\": \"markers\", \"textsrc\": [\"United States\"], \"marker\": {\"sizemode\": \"area\", \"sizeref\": 200000, \"sizesrc\": [33], \"color\": \"rgb(141,211,199)\", \"opacity\": 0.8}, \"name\": \"Gaming\"}, {\"xsrc\": [1403090], \"ysrc\": [10513018], \"mode\": \"markers\", \"textsrc\": [\"United States\"], \"marker\": {\"sizemode\": \"area\", \"sizeref\": 200000, \"sizesrc\": [208], \"color\": \"rgb(255,255,179)\", \"opacity\": 0.8}, \"name\": \"Howto & Style\"}, {\"xsrc\": [4120651], \"ysrc\": [49553779], \"mode\": \"markers\", \"textsrc\": [\"United States\"], \"marker\": {\"sizemode\": \"area\", \"sizeref\": 200000, \"sizesrc\": [280], \"color\": \"rgb(190,186,218)\", \"opacity\": 0.8}, \"name\": \"Music\"}, {\"xsrc\": [401942], \"ysrc\": [969375], \"mode\": \"markers\", \"textsrc\": [\"United States\"], \"marker\": {\"sizemode\": \"area\", \"sizeref\": 200000, \"sizesrc\": [47], \"color\": \"rgb(251,128,114)\", \"opacity\": 0.8}, \"name\": \"News & Politics\"}, {\"xsrc\": [644550], \"ysrc\": [7009204], \"mode\": \"markers\", \"textsrc\": [\"United States\"], \"marker\": {\"sizemode\": \"area\", \"sizeref\": 200000, \"sizesrc\": [158], \"color\": \"rgb(128,177,211)\", \"opacity\": 0.8}, \"name\": \"People & Blogs\"}, {\"xsrc\": [89080], \"ysrc\": [1050358], \"mode\": \"markers\", \"textsrc\": [\"United States\"], \"marker\": {\"sizemode\": \"area\", \"sizeref\": 200000, \"sizesrc\": [24], \"color\": \"rgb(253,180,98)\", \"opacity\": 0.8}, \"name\": \"Pets & Animals\"}, {\"xsrc\": [177673], \"ysrc\": [1702865], \"mode\": \"markers\", \"textsrc\": [\"United States\"], \"marker\": {\"sizemode\": \"area\", \"sizeref\": 200000, \"sizesrc\": [88], \"color\": \"rgb(179,222,105)\", \"opacity\": 0.8}, \"name\": \"Science & Technology\"}, {\"xsrc\": [1029664], \"ysrc\": [11698363], \"mode\": \"markers\", \"textsrc\": [\"United States\"], \"marker\": {\"sizemode\": \"area\", \"sizeref\": 200000, \"sizesrc\": [110], \"color\": \"rgb(252,205,229)\", \"opacity\": 0.8}, \"name\": \"Sports\"}, {\"xsrc\": [73478], \"ysrc\": [236222], \"mode\": \"markers\", \"textsrc\": [\"United States\"], \"marker\": {\"sizemode\": \"area\", \"sizeref\": 200000, \"sizesrc\": [12], \"color\": \"rgb(217,217,217)\", \"opacity\": 0.8}, \"name\": \"Travel & Events\"}, {\"xsrc\": [], \"ysrc\": [], \"mode\": \"markers\", \"textsrc\": [], \"marker\": {\"sizemode\": \"area\", \"sizeref\": 200000, \"sizesrc\": [], \"color\": \"rgb(188,128,189)\", \"opacity\": 0.8}, \"name\": \"Nonprofits & Activism\"}, {\"xsrc\": [3786], \"ysrc\": [50417], \"mode\": \"markers\", \"textsrc\": [\"United States\"], \"marker\": {\"sizemode\": \"area\", \"sizeref\": 200000, \"sizesrc\": [2], \"color\": \"rgb(204,235,197)\", \"opacity\": 0.8}, \"name\": \"Shows\"}], \"name\": \"18-04\"}]);}).then(function(){Plotly.animate('9952a008-d468-4244-aa0a-486fb8fca209');})\n",
       "        });</script>"
      ]
     },
     "metadata": {},
     "output_type": "display_data"
    }
   ],
   "source": [
    "iplot(figure, config={\"scrollzoom\": True}, validate=False)"
   ]
  },
  {
   "cell_type": "code",
   "execution_count": null,
   "metadata": {
    "collapsed": true
   },
   "outputs": [],
   "source": []
  }
 ],
 "metadata": {
  "kernelspec": {
   "display_name": "Python 2",
   "language": "python",
   "name": "python2"
  },
  "language_info": {
   "codemirror_mode": {
    "name": "ipython",
    "version": 2
   },
   "file_extension": ".py",
   "mimetype": "text/x-python",
   "name": "python",
   "nbconvert_exporter": "python",
   "pygments_lexer": "ipython2",
   "version": "2.7.13"
  }
 },
 "nbformat": 4,
 "nbformat_minor": 2
}
